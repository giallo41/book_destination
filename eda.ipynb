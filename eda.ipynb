{
 "cells": [
  {
   "cell_type": "markdown",
   "metadata": {},
   "source": [
    "# Data Science Challenge\n",
    "-----------------------\n",
    "\n",
    "## 1. Data pre-Processing\n",
    "\n",
    "## 2. Feature engineering \n",
    "\n",
    "## 3. "
   ]
  },
  {
   "cell_type": "code",
   "execution_count": 1,
   "metadata": {},
   "outputs": [],
   "source": [
    "%load_ext autoreload\n",
    "%autoreload 2"
   ]
  },
  {
   "cell_type": "code",
   "execution_count": 2,
   "metadata": {},
   "outputs": [],
   "source": [
    "import numpy as np\n",
    "import pandas as pd\n",
    "import seaborn as sns \n",
    "import matplotlib.pyplot as plt\n",
    "\n",
    "from source.utils import haversine_distance \n",
    "\n",
    "%matplotlib inline"
   ]
  },
  {
   "cell_type": "code",
   "execution_count": 3,
   "metadata": {},
   "outputs": [],
   "source": [
    "df_event = pd.read_csv('./data/events.csv')\n",
    "df_iata = pd.read_csv('./data/iata.csv')"
   ]
  },
  {
   "cell_type": "code",
   "execution_count": 4,
   "metadata": {},
   "outputs": [
    {
     "data": {
      "text/plain": [
       "((47007, 9), (500, 3))"
      ]
     },
     "execution_count": 4,
     "metadata": {},
     "output_type": "execute_result"
    }
   ],
   "source": [
    "df_event.shape, df_iata.shape"
   ]
  },
  {
   "cell_type": "markdown",
   "metadata": {},
   "source": [
    "## 1. Data pre-Processing"
   ]
  },
  {
   "cell_type": "markdown",
   "metadata": {},
   "source": [
    "#### A. Check the NaN in the events data"
   ]
  },
  {
   "cell_type": "code",
   "execution_count": 5,
   "metadata": {},
   "outputs": [
    {
     "data": {
      "text/plain": [
       "ts               0\n",
       "event_type       0\n",
       "user_id          0\n",
       "date_from       22\n",
       "date_to          3\n",
       "origin           0\n",
       "destination      0\n",
       "num_adults       0\n",
       "num_children     0\n",
       "dtype: int64"
      ]
     },
     "execution_count": 5,
     "metadata": {},
     "output_type": "execute_result"
    }
   ],
   "source": [
    "df_event.isna().sum()"
   ]
  },
  {
   "cell_type": "markdown",
   "metadata": {},
   "source": [
    "##### [ Comments ] \n",
    "There is 2 columns with NaN. <br>\n",
    "It seems like NaN data is relatively small compared to the size of the entire data. <br>\n",
    "22 / 47007 , 3 / 47007 "
   ]
  },
  {
   "cell_type": "markdown",
   "metadata": {},
   "source": [
    "#### B. Check the effectivness of this NaN data for task\n"
   ]
  },
  {
   "cell_type": "code",
   "execution_count": 6,
   "metadata": {},
   "outputs": [
    {
     "data": {
      "text/plain": [
       "search    3\n",
       "Name: event_type, dtype: int64"
      ]
     },
     "execution_count": 6,
     "metadata": {},
     "output_type": "execute_result"
    }
   ],
   "source": [
    "df_event[df_event['date_to'].isna()]['event_type'].value_counts()"
   ]
  },
  {
   "cell_type": "code",
   "execution_count": 7,
   "metadata": {},
   "outputs": [
    {
     "data": {
      "text/plain": [
       "search    0.954545\n",
       "book      0.045455\n",
       "Name: event_type, dtype: float64"
      ]
     },
     "execution_count": 7,
     "metadata": {},
     "output_type": "execute_result"
    }
   ],
   "source": [
    "df_event[df_event['date_from'].isna()]['event_type'].value_counts()/len(df_event[df_event['date_from'].isna()]['event_type'])"
   ]
  },
  {
   "cell_type": "markdown",
   "metadata": {},
   "source": [
    "##### [ Comments ]\n",
    "NaN data contains Only 1 'book' event_type. <br>\n",
    "From my understanding, 'book' event won't work without a 'date_from' and 'date_to'.<br>\n",
    "So, this data is wrong some way."
   ]
  },
  {
   "cell_type": "markdown",
   "metadata": {},
   "source": [
    "#### When I drop NaN data, I want to make sure the same user is in the remaining data."
   ]
  },
  {
   "cell_type": "code",
   "execution_count": 8,
   "metadata": {},
   "outputs": [],
   "source": [
    "user_id_toNaN = df_event[df_event['date_to'].isna()]['user_id'].unique().tolist()"
   ]
  },
  {
   "cell_type": "code",
   "execution_count": 9,
   "metadata": {},
   "outputs": [],
   "source": [
    "user_id_fromNaN = df_event[df_event['date_from'].isna()]['user_id'].unique().tolist()"
   ]
  },
  {
   "cell_type": "code",
   "execution_count": 10,
   "metadata": {},
   "outputs": [],
   "source": [
    "drop_index = df_event[(df_event['date_to'].isna())|(df_event['date_from'].isna())].index"
   ]
  },
  {
   "cell_type": "code",
   "execution_count": 11,
   "metadata": {},
   "outputs": [
    {
     "data": {
      "text/plain": [
       "set()"
      ]
     },
     "execution_count": 11,
     "metadata": {},
     "output_type": "execute_result"
    }
   ],
   "source": [
    "set(df_event.drop(drop_index, axis=0)['user_id'].unique()).intersection(user_id_toNaN)"
   ]
  },
  {
   "cell_type": "code",
   "execution_count": 12,
   "metadata": {},
   "outputs": [
    {
     "data": {
      "text/plain": [
       "{'786588'}"
      ]
     },
     "execution_count": 12,
     "metadata": {},
     "output_type": "execute_result"
    }
   ],
   "source": [
    "set(df_event.drop(drop_index, axis=0)['user_id'].unique()).intersection(user_id_fromNaN)"
   ]
  },
  {
   "cell_type": "code",
   "execution_count": 13,
   "metadata": {},
   "outputs": [
    {
     "data": {
      "text/html": [
       "<div>\n",
       "<style scoped>\n",
       "    .dataframe tbody tr th:only-of-type {\n",
       "        vertical-align: middle;\n",
       "    }\n",
       "\n",
       "    .dataframe tbody tr th {\n",
       "        vertical-align: top;\n",
       "    }\n",
       "\n",
       "    .dataframe thead th {\n",
       "        text-align: right;\n",
       "    }\n",
       "</style>\n",
       "<table border=\"1\" class=\"dataframe\">\n",
       "  <thead>\n",
       "    <tr style=\"text-align: right;\">\n",
       "      <th></th>\n",
       "      <th>ts</th>\n",
       "      <th>event_type</th>\n",
       "      <th>user_id</th>\n",
       "      <th>date_from</th>\n",
       "      <th>date_to</th>\n",
       "      <th>origin</th>\n",
       "      <th>destination</th>\n",
       "      <th>num_adults</th>\n",
       "      <th>num_children</th>\n",
       "    </tr>\n",
       "  </thead>\n",
       "  <tbody>\n",
       "    <tr>\n",
       "      <td>41754</td>\n",
       "      <td>2017-04-27 13:20:22</td>\n",
       "      <td>search</td>\n",
       "      <td>786588</td>\n",
       "      <td>NaN</td>\n",
       "      <td>2017-06-28</td>\n",
       "      <td>AMS</td>\n",
       "      <td>MSP</td>\n",
       "      <td>0</td>\n",
       "      <td>0</td>\n",
       "    </tr>\n",
       "    <tr>\n",
       "      <td>45467</td>\n",
       "      <td>2017-04-27 13:07:25</td>\n",
       "      <td>search</td>\n",
       "      <td>786588</td>\n",
       "      <td>2017-06-14</td>\n",
       "      <td>2017-06-29</td>\n",
       "      <td>AMS</td>\n",
       "      <td>DTT</td>\n",
       "      <td>2</td>\n",
       "      <td>2</td>\n",
       "    </tr>\n",
       "  </tbody>\n",
       "</table>\n",
       "</div>"
      ],
      "text/plain": [
       "                        ts event_type user_id   date_from     date_to origin  \\\n",
       "41754  2017-04-27 13:20:22     search  786588         NaN  2017-06-28    AMS   \n",
       "45467  2017-04-27 13:07:25     search  786588  2017-06-14  2017-06-29    AMS   \n",
       "\n",
       "      destination  num_adults  num_children  \n",
       "41754         MSP           0             0  \n",
       "45467         DTT           2             2  "
      ]
     },
     "execution_count": 13,
     "metadata": {},
     "output_type": "execute_result"
    }
   ],
   "source": [
    "df_event[df_event['user_id'] == '786588']"
   ]
  },
  {
   "cell_type": "markdown",
   "metadata": {},
   "source": [
    "##### [ Comments ]\n",
    "Only one user_id coexists with NaN data and dropped NaN data.<br>\n",
    "Drop all NaN data <br>\n"
   ]
  },
  {
   "cell_type": "code",
   "execution_count": 14,
   "metadata": {},
   "outputs": [
    {
     "data": {
      "text/plain": [
       "(46985, 9)"
      ]
     },
     "execution_count": 14,
     "metadata": {},
     "output_type": "execute_result"
    }
   ],
   "source": [
    "df_event = df_event.drop(drop_index, axis=0)\n",
    "df_event.shape"
   ]
  },
  {
   "cell_type": "markdown",
   "metadata": {},
   "source": [
    "#### C. Check the uniquness of iata_code"
   ]
  },
  {
   "cell_type": "code",
   "execution_count": 15,
   "metadata": {},
   "outputs": [
    {
     "data": {
      "text/html": [
       "<div>\n",
       "<style scoped>\n",
       "    .dataframe tbody tr th:only-of-type {\n",
       "        vertical-align: middle;\n",
       "    }\n",
       "\n",
       "    .dataframe tbody tr th {\n",
       "        vertical-align: top;\n",
       "    }\n",
       "\n",
       "    .dataframe thead th {\n",
       "        text-align: right;\n",
       "    }\n",
       "</style>\n",
       "<table border=\"1\" class=\"dataframe\">\n",
       "  <thead>\n",
       "    <tr style=\"text-align: right;\">\n",
       "      <th></th>\n",
       "      <th>iata_code</th>\n",
       "      <th>lat</th>\n",
       "      <th>lon</th>\n",
       "    </tr>\n",
       "  </thead>\n",
       "  <tbody>\n",
       "    <tr>\n",
       "      <td>0</td>\n",
       "      <td>LON</td>\n",
       "      <td>51.50</td>\n",
       "      <td>-0.17</td>\n",
       "    </tr>\n",
       "    <tr>\n",
       "      <td>1</td>\n",
       "      <td>MOW</td>\n",
       "      <td>55.75</td>\n",
       "      <td>37.70</td>\n",
       "    </tr>\n",
       "  </tbody>\n",
       "</table>\n",
       "</div>"
      ],
      "text/plain": [
       "  iata_code    lat    lon\n",
       "0       LON  51.50  -0.17\n",
       "1       MOW  55.75  37.70"
      ]
     },
     "execution_count": 15,
     "metadata": {},
     "output_type": "execute_result"
    }
   ],
   "source": [
    "df_iata.head(2)"
   ]
  },
  {
   "cell_type": "code",
   "execution_count": 16,
   "metadata": {},
   "outputs": [
    {
     "data": {
      "text/plain": [
       "0"
      ]
     },
     "execution_count": 16,
     "metadata": {},
     "output_type": "execute_result"
    }
   ],
   "source": [
    "len(set(df_event['origin'].unique())-set(df_iata['iata_code'].unique()))"
   ]
  },
  {
   "cell_type": "code",
   "execution_count": 17,
   "metadata": {},
   "outputs": [
    {
     "data": {
      "text/plain": [
       "0"
      ]
     },
     "execution_count": 17,
     "metadata": {},
     "output_type": "execute_result"
    }
   ],
   "source": [
    "len(set(df_event['destination'].unique())-set(df_iata['iata_code'].unique()))"
   ]
  },
  {
   "cell_type": "code",
   "execution_count": 18,
   "metadata": {},
   "outputs": [
    {
     "data": {
      "text/plain": [
       "RDU    3\n",
       "CKG    3\n",
       "URC    3\n",
       "KWI    2\n",
       "PIT    2\n",
       "Name: iata_code, dtype: int64"
      ]
     },
     "execution_count": 18,
     "metadata": {},
     "output_type": "execute_result"
    }
   ],
   "source": [
    "df_iata['iata_code'].value_counts()[:5]"
   ]
  },
  {
   "cell_type": "code",
   "execution_count": 19,
   "metadata": {},
   "outputs": [
    {
     "data": {
      "text/plain": [
       "298"
      ]
     },
     "execution_count": 19,
     "metadata": {},
     "output_type": "execute_result"
    }
   ],
   "source": [
    "len(df_iata['iata_code'].unique())"
   ]
  },
  {
   "cell_type": "markdown",
   "metadata": {},
   "source": [
    "##### [ Comments ]\n",
    "There are some non-unique codes in iata data. So take only the first value."
   ]
  },
  {
   "cell_type": "code",
   "execution_count": 20,
   "metadata": {},
   "outputs": [
    {
     "data": {
      "text/plain": [
       "(298, 3)"
      ]
     },
     "execution_count": 20,
     "metadata": {},
     "output_type": "execute_result"
    }
   ],
   "source": [
    "df_iata = df_iata.drop_duplicates(['iata_code'])\n",
    "df_iata.shape"
   ]
  },
  {
   "cell_type": "markdown",
   "metadata": {},
   "source": [
    "#### D. Change the datetime data type"
   ]
  },
  {
   "cell_type": "code",
   "execution_count": 22,
   "metadata": {},
   "outputs": [],
   "source": [
    "df_event['ts'] = df_event['ts'].astype('datetime64')\n",
    "df_event['date_from'] = df_event['date_from'].astype('datetime64')\n",
    "df_event['date_to'] = df_event['date_to'].astype('datetime64')"
   ]
  },
  {
   "cell_type": "markdown",
   "metadata": {},
   "source": [
    "## 2. Feature Engineering"
   ]
  },
  {
   "cell_type": "markdown",
   "metadata": {},
   "source": [
    "#### A. Add number of activities of uninque user"
   ]
  },
  {
   "cell_type": "code",
   "execution_count": 24,
   "metadata": {},
   "outputs": [],
   "source": [
    "df_event = df_event.sort_values(by = ['user_id', 'ts'], ascending=True)"
   ]
  },
  {
   "cell_type": "code",
   "execution_count": 25,
   "metadata": {},
   "outputs": [],
   "source": [
    "df_event['act_count'] = df_event.groupby('user_id').cumcount()+1"
   ]
  },
  {
   "cell_type": "code",
   "execution_count": 26,
   "metadata": {},
   "outputs": [
    {
     "data": {
      "text/html": [
       "<div>\n",
       "<style scoped>\n",
       "    .dataframe tbody tr th:only-of-type {\n",
       "        vertical-align: middle;\n",
       "    }\n",
       "\n",
       "    .dataframe tbody tr th {\n",
       "        vertical-align: top;\n",
       "    }\n",
       "\n",
       "    .dataframe thead th {\n",
       "        text-align: right;\n",
       "    }\n",
       "</style>\n",
       "<table border=\"1\" class=\"dataframe\">\n",
       "  <thead>\n",
       "    <tr style=\"text-align: right;\">\n",
       "      <th></th>\n",
       "      <th>ts</th>\n",
       "      <th>event_type</th>\n",
       "      <th>user_id</th>\n",
       "      <th>date_from</th>\n",
       "      <th>date_to</th>\n",
       "      <th>origin</th>\n",
       "      <th>destination</th>\n",
       "      <th>num_adults</th>\n",
       "      <th>num_children</th>\n",
       "      <th>act_count</th>\n",
       "    </tr>\n",
       "  </thead>\n",
       "  <tbody>\n",
       "    <tr>\n",
       "      <td>10873</td>\n",
       "      <td>2017-04-29 17:59:51</td>\n",
       "      <td>search</td>\n",
       "      <td>000069</td>\n",
       "      <td>2017-05-10</td>\n",
       "      <td>2017-05-26</td>\n",
       "      <td>FRA</td>\n",
       "      <td>ALG</td>\n",
       "      <td>2</td>\n",
       "      <td>3</td>\n",
       "      <td>1</td>\n",
       "    </tr>\n",
       "    <tr>\n",
       "      <td>12331</td>\n",
       "      <td>2017-04-28 19:14:23</td>\n",
       "      <td>search</td>\n",
       "      <td>00019d</td>\n",
       "      <td>2017-09-15</td>\n",
       "      <td>2017-10-13</td>\n",
       "      <td>PAR</td>\n",
       "      <td>SSA</td>\n",
       "      <td>4</td>\n",
       "      <td>0</td>\n",
       "      <td>1</td>\n",
       "    </tr>\n",
       "    <tr>\n",
       "      <td>26506</td>\n",
       "      <td>2017-04-24 21:25:10</td>\n",
       "      <td>search</td>\n",
       "      <td>0002e3</td>\n",
       "      <td>2017-05-01</td>\n",
       "      <td>2017-05-01</td>\n",
       "      <td>PAR</td>\n",
       "      <td>ATH</td>\n",
       "      <td>1</td>\n",
       "      <td>0</td>\n",
       "      <td>1</td>\n",
       "    </tr>\n",
       "    <tr>\n",
       "      <td>31638</td>\n",
       "      <td>2017-04-27 16:34:02</td>\n",
       "      <td>search</td>\n",
       "      <td>000332</td>\n",
       "      <td>2017-06-08</td>\n",
       "      <td>2017-07-07</td>\n",
       "      <td>NCE</td>\n",
       "      <td>TLV</td>\n",
       "      <td>1</td>\n",
       "      <td>0</td>\n",
       "      <td>1</td>\n",
       "    </tr>\n",
       "    <tr>\n",
       "      <td>20112</td>\n",
       "      <td>2017-04-27 16:35:35</td>\n",
       "      <td>search</td>\n",
       "      <td>000332</td>\n",
       "      <td>2017-06-08</td>\n",
       "      <td>2017-07-07</td>\n",
       "      <td>NCE</td>\n",
       "      <td>TLV</td>\n",
       "      <td>1</td>\n",
       "      <td>0</td>\n",
       "      <td>2</td>\n",
       "    </tr>\n",
       "    <tr>\n",
       "      <td>37051</td>\n",
       "      <td>2017-04-27 16:39:10</td>\n",
       "      <td>search</td>\n",
       "      <td>000332</td>\n",
       "      <td>2017-06-08</td>\n",
       "      <td>2017-07-07</td>\n",
       "      <td>NCE</td>\n",
       "      <td>TLV</td>\n",
       "      <td>2</td>\n",
       "      <td>0</td>\n",
       "      <td>3</td>\n",
       "    </tr>\n",
       "    <tr>\n",
       "      <td>24297</td>\n",
       "      <td>2017-04-27 21:24:01</td>\n",
       "      <td>search</td>\n",
       "      <td>000332</td>\n",
       "      <td>2017-06-08</td>\n",
       "      <td>2017-07-07</td>\n",
       "      <td>TLV</td>\n",
       "      <td>NCE</td>\n",
       "      <td>2</td>\n",
       "      <td>0</td>\n",
       "      <td>4</td>\n",
       "    </tr>\n",
       "    <tr>\n",
       "      <td>25896</td>\n",
       "      <td>2017-04-29 01:06:18</td>\n",
       "      <td>search</td>\n",
       "      <td>0004e1</td>\n",
       "      <td>2017-07-19</td>\n",
       "      <td>2017-07-25</td>\n",
       "      <td>MUC</td>\n",
       "      <td>ROM</td>\n",
       "      <td>1</td>\n",
       "      <td>0</td>\n",
       "      <td>1</td>\n",
       "    </tr>\n",
       "    <tr>\n",
       "      <td>21959</td>\n",
       "      <td>2017-04-29 01:06:41</td>\n",
       "      <td>search</td>\n",
       "      <td>0004e1</td>\n",
       "      <td>2017-07-19</td>\n",
       "      <td>2017-07-25</td>\n",
       "      <td>MUC</td>\n",
       "      <td>ROM</td>\n",
       "      <td>1</td>\n",
       "      <td>0</td>\n",
       "      <td>2</td>\n",
       "    </tr>\n",
       "    <tr>\n",
       "      <td>16864</td>\n",
       "      <td>2017-04-29 23:42:19</td>\n",
       "      <td>search</td>\n",
       "      <td>0004f1</td>\n",
       "      <td>2017-09-15</td>\n",
       "      <td>2017-10-05</td>\n",
       "      <td>LYS</td>\n",
       "      <td>YUL</td>\n",
       "      <td>2</td>\n",
       "      <td>0</td>\n",
       "      <td>1</td>\n",
       "    </tr>\n",
       "  </tbody>\n",
       "</table>\n",
       "</div>"
      ],
      "text/plain": [
       "                       ts event_type user_id  date_from    date_to origin  \\\n",
       "10873 2017-04-29 17:59:51     search  000069 2017-05-10 2017-05-26    FRA   \n",
       "12331 2017-04-28 19:14:23     search  00019d 2017-09-15 2017-10-13    PAR   \n",
       "26506 2017-04-24 21:25:10     search  0002e3 2017-05-01 2017-05-01    PAR   \n",
       "31638 2017-04-27 16:34:02     search  000332 2017-06-08 2017-07-07    NCE   \n",
       "20112 2017-04-27 16:35:35     search  000332 2017-06-08 2017-07-07    NCE   \n",
       "37051 2017-04-27 16:39:10     search  000332 2017-06-08 2017-07-07    NCE   \n",
       "24297 2017-04-27 21:24:01     search  000332 2017-06-08 2017-07-07    TLV   \n",
       "25896 2017-04-29 01:06:18     search  0004e1 2017-07-19 2017-07-25    MUC   \n",
       "21959 2017-04-29 01:06:41     search  0004e1 2017-07-19 2017-07-25    MUC   \n",
       "16864 2017-04-29 23:42:19     search  0004f1 2017-09-15 2017-10-05    LYS   \n",
       "\n",
       "      destination  num_adults  num_children  act_count  \n",
       "10873         ALG           2             3          1  \n",
       "12331         SSA           4             0          1  \n",
       "26506         ATH           1             0          1  \n",
       "31638         TLV           1             0          1  \n",
       "20112         TLV           1             0          2  \n",
       "37051         TLV           2             0          3  \n",
       "24297         NCE           2             0          4  \n",
       "25896         ROM           1             0          1  \n",
       "21959         ROM           1             0          2  \n",
       "16864         YUL           2             0          1  "
      ]
     },
     "execution_count": 26,
     "metadata": {},
     "output_type": "execute_result"
    }
   ],
   "source": [
    "df_event.head(10)"
   ]
  },
  {
   "cell_type": "code",
   "execution_count": 29,
   "metadata": {},
   "outputs": [
    {
     "data": {
      "text/plain": [
       "690a8c    3\n",
       "08e914    2\n",
       "57da52    2\n",
       "1e636b    1\n",
       "478293    1\n",
       "Name: user_id, dtype: int64"
      ]
     },
     "execution_count": 29,
     "metadata": {},
     "output_type": "execute_result"
    }
   ],
   "source": [
    "df_event[df_event['event_type']=='book']['user_id'].value_counts()[:5]"
   ]
  },
  {
   "cell_type": "code",
   "execution_count": null,
   "metadata": {},
   "outputs": [],
   "source": []
  },
  {
   "cell_type": "code",
   "execution_count": null,
   "metadata": {},
   "outputs": [],
   "source": []
  },
  {
   "cell_type": "code",
   "execution_count": 311,
   "metadata": {},
   "outputs": [
    {
     "data": {
      "text/plain": [
       "2508.7359723119966"
      ]
     },
     "execution_count": 311,
     "metadata": {},
     "output_type": "execute_result"
    }
   ],
   "source": [
    "haversine_distance(df_iata.iloc[0,1:].tolist(), df_iata.iloc[1,1:].tolist())"
   ]
  },
  {
   "cell_type": "code",
   "execution_count": 316,
   "metadata": {},
   "outputs": [
    {
     "data": {
      "text/html": [
       "<div>\n",
       "<style scoped>\n",
       "    .dataframe tbody tr th:only-of-type {\n",
       "        vertical-align: middle;\n",
       "    }\n",
       "\n",
       "    .dataframe tbody tr th {\n",
       "        vertical-align: top;\n",
       "    }\n",
       "\n",
       "    .dataframe thead th {\n",
       "        text-align: right;\n",
       "    }\n",
       "</style>\n",
       "<table border=\"1\" class=\"dataframe\">\n",
       "  <thead>\n",
       "    <tr style=\"text-align: right;\">\n",
       "      <th></th>\n",
       "      <th>iata_code</th>\n",
       "      <th>lat</th>\n",
       "      <th>lon</th>\n",
       "    </tr>\n",
       "  </thead>\n",
       "  <tbody>\n",
       "    <tr>\n",
       "      <td>251</td>\n",
       "      <td>URC</td>\n",
       "      <td>43.8</td>\n",
       "      <td>87.6</td>\n",
       "    </tr>\n",
       "  </tbody>\n",
       "</table>\n",
       "</div>"
      ],
      "text/plain": [
       "    iata_code   lat   lon\n",
       "251       URC  43.8  87.6"
      ]
     },
     "execution_count": 316,
     "metadata": {},
     "output_type": "execute_result"
    }
   ],
   "source": [
    "df_iata[df_iata['iata_code']=='URC'].drop_duplicates(['iata_code'])"
   ]
  },
  {
   "cell_type": "code",
   "execution_count": 317,
   "metadata": {},
   "outputs": [
    {
     "data": {
      "text/plain": [
       "(298, 3)"
      ]
     },
     "execution_count": 317,
     "metadata": {},
     "output_type": "execute_result"
    }
   ],
   "source": [
    "df_iata.drop_duplicates(['iata_code']).shape"
   ]
  },
  {
   "cell_type": "code",
   "execution_count": 313,
   "metadata": {
    "collapsed": true,
    "jupyter": {
     "outputs_hidden": true
    }
   },
   "outputs": [
    {
     "data": {
      "text/html": [
       "<div>\n",
       "<style scoped>\n",
       "    .dataframe tbody tr th:only-of-type {\n",
       "        vertical-align: middle;\n",
       "    }\n",
       "\n",
       "    .dataframe tbody tr th {\n",
       "        vertical-align: top;\n",
       "    }\n",
       "\n",
       "    .dataframe thead th {\n",
       "        text-align: right;\n",
       "    }\n",
       "</style>\n",
       "<table border=\"1\" class=\"dataframe\">\n",
       "  <thead>\n",
       "    <tr style=\"text-align: right;\">\n",
       "      <th></th>\n",
       "      <th>ts</th>\n",
       "      <th>event_type</th>\n",
       "      <th>user_id</th>\n",
       "      <th>date_from</th>\n",
       "      <th>date_to</th>\n",
       "      <th>origin</th>\n",
       "      <th>destination</th>\n",
       "      <th>num_adults</th>\n",
       "      <th>num_children</th>\n",
       "    </tr>\n",
       "  </thead>\n",
       "  <tbody>\n",
       "    <tr>\n",
       "      <td>32676</td>\n",
       "      <td>2017-04-23 22:36:41</td>\n",
       "      <td>search</td>\n",
       "      <td>cfafc1</td>\n",
       "      <td>2017-11-21</td>\n",
       "      <td>2017-12-13</td>\n",
       "      <td>MUC</td>\n",
       "      <td>URC</td>\n",
       "      <td>1</td>\n",
       "      <td>0</td>\n",
       "    </tr>\n",
       "    <tr>\n",
       "      <td>36291</td>\n",
       "      <td>2017-04-29 01:54:32</td>\n",
       "      <td>search</td>\n",
       "      <td>94de3c</td>\n",
       "      <td>2017-06-19</td>\n",
       "      <td>2017-07-02</td>\n",
       "      <td>FRA</td>\n",
       "      <td>URC</td>\n",
       "      <td>3</td>\n",
       "      <td>0</td>\n",
       "    </tr>\n",
       "  </tbody>\n",
       "</table>\n",
       "</div>"
      ],
      "text/plain": [
       "                       ts event_type user_id  date_from    date_to origin  \\\n",
       "32676 2017-04-23 22:36:41     search  cfafc1 2017-11-21 2017-12-13    MUC   \n",
       "36291 2017-04-29 01:54:32     search  94de3c 2017-06-19 2017-07-02    FRA   \n",
       "\n",
       "      destination  num_adults  num_children  \n",
       "32676         URC           1             0  \n",
       "36291         URC           3             0  "
      ]
     },
     "execution_count": 313,
     "metadata": {},
     "output_type": "execute_result"
    }
   ],
   "source": [
    "df_event[df_event['destination']=='URC']"
   ]
  },
  {
   "cell_type": "code",
   "execution_count": 314,
   "metadata": {
    "collapsed": true,
    "jupyter": {
     "outputs_hidden": true
    }
   },
   "outputs": [
    {
     "data": {
      "text/html": [
       "<div>\n",
       "<style scoped>\n",
       "    .dataframe tbody tr th:only-of-type {\n",
       "        vertical-align: middle;\n",
       "    }\n",
       "\n",
       "    .dataframe tbody tr th {\n",
       "        vertical-align: top;\n",
       "    }\n",
       "\n",
       "    .dataframe thead th {\n",
       "        text-align: right;\n",
       "    }\n",
       "</style>\n",
       "<table border=\"1\" class=\"dataframe\">\n",
       "  <thead>\n",
       "    <tr style=\"text-align: right;\">\n",
       "      <th></th>\n",
       "      <th>ts</th>\n",
       "      <th>event_type</th>\n",
       "      <th>user_id</th>\n",
       "      <th>date_from</th>\n",
       "      <th>date_to</th>\n",
       "      <th>origin</th>\n",
       "      <th>destination</th>\n",
       "      <th>num_adults</th>\n",
       "      <th>num_children</th>\n",
       "      <th>iata_code</th>\n",
       "      <th>lat</th>\n",
       "      <th>lon</th>\n",
       "    </tr>\n",
       "  </thead>\n",
       "  <tbody>\n",
       "    <tr>\n",
       "      <td>0</td>\n",
       "      <td>2017-04-23 22:36:41</td>\n",
       "      <td>search</td>\n",
       "      <td>cfafc1</td>\n",
       "      <td>2017-11-21</td>\n",
       "      <td>2017-12-13</td>\n",
       "      <td>MUC</td>\n",
       "      <td>URC</td>\n",
       "      <td>1</td>\n",
       "      <td>0</td>\n",
       "      <td>URC</td>\n",
       "      <td>43.80</td>\n",
       "      <td>87.60</td>\n",
       "    </tr>\n",
       "    <tr>\n",
       "      <td>1</td>\n",
       "      <td>2017-04-23 22:36:41</td>\n",
       "      <td>search</td>\n",
       "      <td>cfafc1</td>\n",
       "      <td>2017-11-21</td>\n",
       "      <td>2017-12-13</td>\n",
       "      <td>MUC</td>\n",
       "      <td>URC</td>\n",
       "      <td>1</td>\n",
       "      <td>0</td>\n",
       "      <td>URC</td>\n",
       "      <td>43.91</td>\n",
       "      <td>87.47</td>\n",
       "    </tr>\n",
       "    <tr>\n",
       "      <td>2</td>\n",
       "      <td>2017-04-23 22:36:41</td>\n",
       "      <td>search</td>\n",
       "      <td>cfafc1</td>\n",
       "      <td>2017-11-21</td>\n",
       "      <td>2017-12-13</td>\n",
       "      <td>MUC</td>\n",
       "      <td>URC</td>\n",
       "      <td>1</td>\n",
       "      <td>0</td>\n",
       "      <td>URC</td>\n",
       "      <td>43.88</td>\n",
       "      <td>87.48</td>\n",
       "    </tr>\n",
       "    <tr>\n",
       "      <td>3</td>\n",
       "      <td>2017-04-29 01:54:32</td>\n",
       "      <td>search</td>\n",
       "      <td>94de3c</td>\n",
       "      <td>2017-06-19</td>\n",
       "      <td>2017-07-02</td>\n",
       "      <td>FRA</td>\n",
       "      <td>URC</td>\n",
       "      <td>3</td>\n",
       "      <td>0</td>\n",
       "      <td>URC</td>\n",
       "      <td>43.80</td>\n",
       "      <td>87.60</td>\n",
       "    </tr>\n",
       "    <tr>\n",
       "      <td>4</td>\n",
       "      <td>2017-04-29 01:54:32</td>\n",
       "      <td>search</td>\n",
       "      <td>94de3c</td>\n",
       "      <td>2017-06-19</td>\n",
       "      <td>2017-07-02</td>\n",
       "      <td>FRA</td>\n",
       "      <td>URC</td>\n",
       "      <td>3</td>\n",
       "      <td>0</td>\n",
       "      <td>URC</td>\n",
       "      <td>43.91</td>\n",
       "      <td>87.47</td>\n",
       "    </tr>\n",
       "    <tr>\n",
       "      <td>5</td>\n",
       "      <td>2017-04-29 01:54:32</td>\n",
       "      <td>search</td>\n",
       "      <td>94de3c</td>\n",
       "      <td>2017-06-19</td>\n",
       "      <td>2017-07-02</td>\n",
       "      <td>FRA</td>\n",
       "      <td>URC</td>\n",
       "      <td>3</td>\n",
       "      <td>0</td>\n",
       "      <td>URC</td>\n",
       "      <td>43.88</td>\n",
       "      <td>87.48</td>\n",
       "    </tr>\n",
       "  </tbody>\n",
       "</table>\n",
       "</div>"
      ],
      "text/plain": [
       "                   ts event_type user_id  date_from    date_to origin  \\\n",
       "0 2017-04-23 22:36:41     search  cfafc1 2017-11-21 2017-12-13    MUC   \n",
       "1 2017-04-23 22:36:41     search  cfafc1 2017-11-21 2017-12-13    MUC   \n",
       "2 2017-04-23 22:36:41     search  cfafc1 2017-11-21 2017-12-13    MUC   \n",
       "3 2017-04-29 01:54:32     search  94de3c 2017-06-19 2017-07-02    FRA   \n",
       "4 2017-04-29 01:54:32     search  94de3c 2017-06-19 2017-07-02    FRA   \n",
       "5 2017-04-29 01:54:32     search  94de3c 2017-06-19 2017-07-02    FRA   \n",
       "\n",
       "  destination  num_adults  num_children iata_code    lat    lon  \n",
       "0         URC           1             0       URC  43.80  87.60  \n",
       "1         URC           1             0       URC  43.91  87.47  \n",
       "2         URC           1             0       URC  43.88  87.48  \n",
       "3         URC           3             0       URC  43.80  87.60  \n",
       "4         URC           3             0       URC  43.91  87.47  \n",
       "5         URC           3             0       URC  43.88  87.48  "
      ]
     },
     "execution_count": 314,
     "metadata": {},
     "output_type": "execute_result"
    }
   ],
   "source": [
    "pd.merge(df_event[df_event['destination']=='URC'], df_iata[df_iata['iata_code']=='URC'], how='inner', left_on='destination', right_on='iata_code')"
   ]
  },
  {
   "cell_type": "code",
   "execution_count": 298,
   "metadata": {
    "collapsed": true,
    "jupyter": {
     "outputs_hidden": true
    }
   },
   "outputs": [
    {
     "data": {
      "text/plain": [
       "RDU    3\n",
       "URC    3\n",
       "CKG    3\n",
       "AYT    2\n",
       "CCS    2\n",
       "      ..\n",
       "NYC    1\n",
       "CGK    1\n",
       "SAO    1\n",
       "DCA    1\n",
       "OTP    1\n",
       "Name: iata_code, Length: 298, dtype: int64"
      ]
     },
     "execution_count": 298,
     "metadata": {},
     "output_type": "execute_result"
    }
   ],
   "source": [
    "df_iata['iata_code'].value_counts()"
   ]
  },
  {
   "cell_type": "code",
   "execution_count": 296,
   "metadata": {},
   "outputs": [
    {
     "data": {
      "text/plain": [
       "0"
      ]
     },
     "execution_count": 296,
     "metadata": {},
     "output_type": "execute_result"
    }
   ],
   "source": [
    "len(set(df_event['destination'].unique())-set(df_iata['iata_code'].unique()))"
   ]
  },
  {
   "cell_type": "code",
   "execution_count": 297,
   "metadata": {},
   "outputs": [
    {
     "data": {
      "text/plain": [
       "0"
      ]
     },
     "execution_count": 297,
     "metadata": {},
     "output_type": "execute_result"
    }
   ],
   "source": [
    "len(set(df_event['origin'].unique())-set(df_iata['iata_code'].unique()))"
   ]
  },
  {
   "cell_type": "code",
   "execution_count": 294,
   "metadata": {
    "collapsed": true,
    "jupyter": {
     "outputs_hidden": true
    }
   },
   "outputs": [
    {
     "data": {
      "text/html": [
       "<div>\n",
       "<style scoped>\n",
       "    .dataframe tbody tr th:only-of-type {\n",
       "        vertical-align: middle;\n",
       "    }\n",
       "\n",
       "    .dataframe tbody tr th {\n",
       "        vertical-align: top;\n",
       "    }\n",
       "\n",
       "    .dataframe thead th {\n",
       "        text-align: right;\n",
       "    }\n",
       "</style>\n",
       "<table border=\"1\" class=\"dataframe\">\n",
       "  <thead>\n",
       "    <tr style=\"text-align: right;\">\n",
       "      <th></th>\n",
       "      <th>ts</th>\n",
       "      <th>event_type</th>\n",
       "      <th>user_id</th>\n",
       "      <th>date_from</th>\n",
       "      <th>date_to</th>\n",
       "      <th>origin</th>\n",
       "      <th>destination</th>\n",
       "      <th>num_adults</th>\n",
       "      <th>num_children</th>\n",
       "    </tr>\n",
       "  </thead>\n",
       "  <tbody>\n",
       "    <tr>\n",
       "      <td>10968</td>\n",
       "      <td>2017-04-29 20:47:24</td>\n",
       "      <td>search</td>\n",
       "      <td>da0445</td>\n",
       "      <td>2017-04-30</td>\n",
       "      <td>2017-05-11</td>\n",
       "      <td>BER</td>\n",
       "      <td>RDU</td>\n",
       "      <td>1</td>\n",
       "      <td>0</td>\n",
       "    </tr>\n",
       "    <tr>\n",
       "      <td>13706</td>\n",
       "      <td>2017-04-23 13:17:27</td>\n",
       "      <td>search</td>\n",
       "      <td>3315e6</td>\n",
       "      <td>2017-05-14</td>\n",
       "      <td>2017-06-25</td>\n",
       "      <td>MUC</td>\n",
       "      <td>RDU</td>\n",
       "      <td>1</td>\n",
       "      <td>0</td>\n",
       "    </tr>\n",
       "    <tr>\n",
       "      <td>13776</td>\n",
       "      <td>2017-04-23 12:50:09</td>\n",
       "      <td>search</td>\n",
       "      <td>a74d74</td>\n",
       "      <td>2017-06-05</td>\n",
       "      <td>2017-06-05</td>\n",
       "      <td>SFO</td>\n",
       "      <td>RDU</td>\n",
       "      <td>1</td>\n",
       "      <td>0</td>\n",
       "    </tr>\n",
       "    <tr>\n",
       "      <td>24294</td>\n",
       "      <td>2017-04-27 17:23:47</td>\n",
       "      <td>search</td>\n",
       "      <td>15a1f9</td>\n",
       "      <td>2017-12-12</td>\n",
       "      <td>2017-12-19</td>\n",
       "      <td>TLS</td>\n",
       "      <td>RDU</td>\n",
       "      <td>2</td>\n",
       "      <td>2</td>\n",
       "    </tr>\n",
       "    <tr>\n",
       "      <td>25267</td>\n",
       "      <td>2017-04-23 15:11:08</td>\n",
       "      <td>search</td>\n",
       "      <td>936306</td>\n",
       "      <td>2017-08-26</td>\n",
       "      <td>2017-09-13</td>\n",
       "      <td>FRA</td>\n",
       "      <td>RDU</td>\n",
       "      <td>1</td>\n",
       "      <td>0</td>\n",
       "    </tr>\n",
       "    <tr>\n",
       "      <td>32693</td>\n",
       "      <td>2017-04-23 14:59:24</td>\n",
       "      <td>search</td>\n",
       "      <td>936306</td>\n",
       "      <td>2017-08-26</td>\n",
       "      <td>2017-09-13</td>\n",
       "      <td>FRA</td>\n",
       "      <td>RDU</td>\n",
       "      <td>1</td>\n",
       "      <td>0</td>\n",
       "    </tr>\n",
       "    <tr>\n",
       "      <td>37102</td>\n",
       "      <td>2017-04-23 18:40:08</td>\n",
       "      <td>search</td>\n",
       "      <td>3d9940</td>\n",
       "      <td>2017-07-27</td>\n",
       "      <td>2017-08-03</td>\n",
       "      <td>FRA</td>\n",
       "      <td>RDU</td>\n",
       "      <td>2</td>\n",
       "      <td>0</td>\n",
       "    </tr>\n",
       "    <tr>\n",
       "      <td>37533</td>\n",
       "      <td>2017-04-23 18:55:41</td>\n",
       "      <td>search</td>\n",
       "      <td>3d9940</td>\n",
       "      <td>2017-07-28</td>\n",
       "      <td>2017-08-04</td>\n",
       "      <td>PRG</td>\n",
       "      <td>RDU</td>\n",
       "      <td>2</td>\n",
       "      <td>0</td>\n",
       "    </tr>\n",
       "    <tr>\n",
       "      <td>38596</td>\n",
       "      <td>2017-05-01 14:27:29</td>\n",
       "      <td>search</td>\n",
       "      <td>fb004a</td>\n",
       "      <td>2017-06-04</td>\n",
       "      <td>2017-06-07</td>\n",
       "      <td>MUC</td>\n",
       "      <td>RDU</td>\n",
       "      <td>1</td>\n",
       "      <td>0</td>\n",
       "    </tr>\n",
       "  </tbody>\n",
       "</table>\n",
       "</div>"
      ],
      "text/plain": [
       "                       ts event_type user_id  date_from    date_to origin  \\\n",
       "10968 2017-04-29 20:47:24     search  da0445 2017-04-30 2017-05-11    BER   \n",
       "13706 2017-04-23 13:17:27     search  3315e6 2017-05-14 2017-06-25    MUC   \n",
       "13776 2017-04-23 12:50:09     search  a74d74 2017-06-05 2017-06-05    SFO   \n",
       "24294 2017-04-27 17:23:47     search  15a1f9 2017-12-12 2017-12-19    TLS   \n",
       "25267 2017-04-23 15:11:08     search  936306 2017-08-26 2017-09-13    FRA   \n",
       "32693 2017-04-23 14:59:24     search  936306 2017-08-26 2017-09-13    FRA   \n",
       "37102 2017-04-23 18:40:08     search  3d9940 2017-07-27 2017-08-03    FRA   \n",
       "37533 2017-04-23 18:55:41     search  3d9940 2017-07-28 2017-08-04    PRG   \n",
       "38596 2017-05-01 14:27:29     search  fb004a 2017-06-04 2017-06-07    MUC   \n",
       "\n",
       "      destination  num_adults  num_children  \n",
       "10968         RDU           1             0  \n",
       "13706         RDU           1             0  \n",
       "13776         RDU           1             0  \n",
       "24294         RDU           2             2  \n",
       "25267         RDU           1             0  \n",
       "32693         RDU           1             0  \n",
       "37102         RDU           2             0  \n",
       "37533         RDU           2             0  \n",
       "38596         RDU           1             0  "
      ]
     },
     "execution_count": 294,
     "metadata": {},
     "output_type": "execute_result"
    }
   ],
   "source": [
    "df_event[df_event['destination']=='RDU']"
   ]
  },
  {
   "cell_type": "code",
   "execution_count": 4,
   "metadata": {
    "collapsed": true,
    "jupyter": {
     "outputs_hidden": true
    }
   },
   "outputs": [
    {
     "data": {
      "text/html": [
       "<div>\n",
       "<style scoped>\n",
       "    .dataframe tbody tr th:only-of-type {\n",
       "        vertical-align: middle;\n",
       "    }\n",
       "\n",
       "    .dataframe tbody tr th {\n",
       "        vertical-align: top;\n",
       "    }\n",
       "\n",
       "    .dataframe thead th {\n",
       "        text-align: right;\n",
       "    }\n",
       "</style>\n",
       "<table border=\"1\" class=\"dataframe\">\n",
       "  <thead>\n",
       "    <tr style=\"text-align: right;\">\n",
       "      <th></th>\n",
       "      <th>ts</th>\n",
       "      <th>event_type</th>\n",
       "      <th>user_id</th>\n",
       "      <th>date_from</th>\n",
       "      <th>date_to</th>\n",
       "      <th>origin</th>\n",
       "      <th>destination</th>\n",
       "      <th>num_adults</th>\n",
       "      <th>num_children</th>\n",
       "    </tr>\n",
       "  </thead>\n",
       "  <tbody>\n",
       "    <tr>\n",
       "      <td>0</td>\n",
       "      <td>2017-04-27 11:06:51</td>\n",
       "      <td>search</td>\n",
       "      <td>60225f</td>\n",
       "      <td>2017-06-01</td>\n",
       "      <td>2017-06-07</td>\n",
       "      <td>PAR</td>\n",
       "      <td>NYC</td>\n",
       "      <td>6</td>\n",
       "      <td>1</td>\n",
       "    </tr>\n",
       "    <tr>\n",
       "      <td>1</td>\n",
       "      <td>2017-04-27 20:15:27</td>\n",
       "      <td>book</td>\n",
       "      <td>e5d69e</td>\n",
       "      <td>2017-08-12</td>\n",
       "      <td>2017-09-02</td>\n",
       "      <td>FRA</td>\n",
       "      <td>WAS</td>\n",
       "      <td>3</td>\n",
       "      <td>1</td>\n",
       "    </tr>\n",
       "    <tr>\n",
       "      <td>2</td>\n",
       "      <td>2017-04-27 23:03:43</td>\n",
       "      <td>book</td>\n",
       "      <td>f953f0</td>\n",
       "      <td>2017-10-08</td>\n",
       "      <td>2017-10-11</td>\n",
       "      <td>BER</td>\n",
       "      <td>CGN</td>\n",
       "      <td>2</td>\n",
       "      <td>0</td>\n",
       "    </tr>\n",
       "    <tr>\n",
       "      <td>3</td>\n",
       "      <td>2017-04-27 15:17:50</td>\n",
       "      <td>book</td>\n",
       "      <td>794d35</td>\n",
       "      <td>2017-04-28</td>\n",
       "      <td>2017-05-01</td>\n",
       "      <td>BER</td>\n",
       "      <td>BCN</td>\n",
       "      <td>1</td>\n",
       "      <td>0</td>\n",
       "    </tr>\n",
       "  </tbody>\n",
       "</table>\n",
       "</div>"
      ],
      "text/plain": [
       "                    ts event_type user_id   date_from     date_to origin  \\\n",
       "0  2017-04-27 11:06:51     search  60225f  2017-06-01  2017-06-07    PAR   \n",
       "1  2017-04-27 20:15:27       book  e5d69e  2017-08-12  2017-09-02    FRA   \n",
       "2  2017-04-27 23:03:43       book  f953f0  2017-10-08  2017-10-11    BER   \n",
       "3  2017-04-27 15:17:50       book  794d35  2017-04-28  2017-05-01    BER   \n",
       "\n",
       "  destination  num_adults  num_children  \n",
       "0         NYC           6             1  \n",
       "1         WAS           3             1  \n",
       "2         CGN           2             0  \n",
       "3         BCN           1             0  "
      ]
     },
     "execution_count": 4,
     "metadata": {},
     "output_type": "execute_result"
    }
   ],
   "source": [
    "df_event.head(4)"
   ]
  },
  {
   "cell_type": "code",
   "execution_count": 37,
   "metadata": {
    "collapsed": true,
    "jupyter": {
     "outputs_hidden": true
    }
   },
   "outputs": [
    {
     "data": {
      "text/plain": [
       "ts               0\n",
       "event_type       0\n",
       "user_id          0\n",
       "date_from       22\n",
       "date_to          3\n",
       "origin           0\n",
       "destination      0\n",
       "num_adults       0\n",
       "num_children     0\n",
       "dtype: int64"
      ]
     },
     "execution_count": 37,
     "metadata": {},
     "output_type": "execute_result"
    }
   ],
   "source": [
    "# Dealing with NaN in tricky \n",
    "df_event.isna().sum()"
   ]
  },
  {
   "cell_type": "code",
   "execution_count": 39,
   "metadata": {
    "collapsed": true,
    "jupyter": {
     "outputs_hidden": true
    }
   },
   "outputs": [
    {
     "data": {
      "text/html": [
       "<div>\n",
       "<style scoped>\n",
       "    .dataframe tbody tr th:only-of-type {\n",
       "        vertical-align: middle;\n",
       "    }\n",
       "\n",
       "    .dataframe tbody tr th {\n",
       "        vertical-align: top;\n",
       "    }\n",
       "\n",
       "    .dataframe thead th {\n",
       "        text-align: right;\n",
       "    }\n",
       "</style>\n",
       "<table border=\"1\" class=\"dataframe\">\n",
       "  <thead>\n",
       "    <tr style=\"text-align: right;\">\n",
       "      <th></th>\n",
       "      <th>ts</th>\n",
       "      <th>event_type</th>\n",
       "      <th>user_id</th>\n",
       "      <th>date_from</th>\n",
       "      <th>date_to</th>\n",
       "      <th>origin</th>\n",
       "      <th>destination</th>\n",
       "      <th>num_adults</th>\n",
       "      <th>num_children</th>\n",
       "    </tr>\n",
       "  </thead>\n",
       "  <tbody>\n",
       "    <tr>\n",
       "      <td>5476</td>\n",
       "      <td>2017-04-28 23:24:26</td>\n",
       "      <td>search</td>\n",
       "      <td>46cad7</td>\n",
       "      <td>NaN</td>\n",
       "      <td>2017-05-24</td>\n",
       "      <td>AMS</td>\n",
       "      <td>MUC</td>\n",
       "      <td>0</td>\n",
       "      <td>0</td>\n",
       "    </tr>\n",
       "    <tr>\n",
       "      <td>7580</td>\n",
       "      <td>2017-04-28 23:41:06</td>\n",
       "      <td>search</td>\n",
       "      <td>46cad7</td>\n",
       "      <td>NaN</td>\n",
       "      <td>2017-05-24</td>\n",
       "      <td>AMS</td>\n",
       "      <td>MUC</td>\n",
       "      <td>0</td>\n",
       "      <td>0</td>\n",
       "    </tr>\n",
       "    <tr>\n",
       "      <td>7687</td>\n",
       "      <td>2017-04-28 23:52:17</td>\n",
       "      <td>book</td>\n",
       "      <td>46cad7</td>\n",
       "      <td>NaN</td>\n",
       "      <td>2017-05-24</td>\n",
       "      <td>AMS</td>\n",
       "      <td>MUC</td>\n",
       "      <td>0</td>\n",
       "      <td>0</td>\n",
       "    </tr>\n",
       "    <tr>\n",
       "      <td>8407</td>\n",
       "      <td>2017-04-28 23:25:25</td>\n",
       "      <td>search</td>\n",
       "      <td>46cad7</td>\n",
       "      <td>NaN</td>\n",
       "      <td>2017-05-24</td>\n",
       "      <td>AMS</td>\n",
       "      <td>MUC</td>\n",
       "      <td>0</td>\n",
       "      <td>0</td>\n",
       "    </tr>\n",
       "    <tr>\n",
       "      <td>13796</td>\n",
       "      <td>2017-04-23 19:02:48</td>\n",
       "      <td>search</td>\n",
       "      <td>299320</td>\n",
       "      <td>NaN</td>\n",
       "      <td>NaN</td>\n",
       "      <td>BRU</td>\n",
       "      <td>TLS</td>\n",
       "      <td>0</td>\n",
       "      <td>0</td>\n",
       "    </tr>\n",
       "    <tr>\n",
       "      <td>15677</td>\n",
       "      <td>2017-04-29 16:16:49</td>\n",
       "      <td>search</td>\n",
       "      <td>f78263</td>\n",
       "      <td>NaN</td>\n",
       "      <td>2018-02-23</td>\n",
       "      <td>DUS</td>\n",
       "      <td>CPT</td>\n",
       "      <td>0</td>\n",
       "      <td>0</td>\n",
       "    </tr>\n",
       "    <tr>\n",
       "      <td>18675</td>\n",
       "      <td>2017-04-24 21:13:32</td>\n",
       "      <td>search</td>\n",
       "      <td>2ac874</td>\n",
       "      <td>NaN</td>\n",
       "      <td>NaN</td>\n",
       "      <td>AYT</td>\n",
       "      <td>DUS</td>\n",
       "      <td>0</td>\n",
       "      <td>0</td>\n",
       "    </tr>\n",
       "    <tr>\n",
       "      <td>19137</td>\n",
       "      <td>2017-04-29 21:31:57</td>\n",
       "      <td>search</td>\n",
       "      <td>139d74</td>\n",
       "      <td>NaN</td>\n",
       "      <td>2017-09-02</td>\n",
       "      <td>CGN</td>\n",
       "      <td>AYT</td>\n",
       "      <td>0</td>\n",
       "      <td>0</td>\n",
       "    </tr>\n",
       "    <tr>\n",
       "      <td>20664</td>\n",
       "      <td>2017-04-27 19:35:16</td>\n",
       "      <td>search</td>\n",
       "      <td>450011</td>\n",
       "      <td>NaN</td>\n",
       "      <td>2017-07-10</td>\n",
       "      <td>DUS</td>\n",
       "      <td>BKK</td>\n",
       "      <td>0</td>\n",
       "      <td>0</td>\n",
       "    </tr>\n",
       "    <tr>\n",
       "      <td>23407</td>\n",
       "      <td>2017-04-27 17:52:49</td>\n",
       "      <td>search</td>\n",
       "      <td>450011</td>\n",
       "      <td>NaN</td>\n",
       "      <td>2018-04-02</td>\n",
       "      <td>BKK</td>\n",
       "      <td>DUS</td>\n",
       "      <td>0</td>\n",
       "      <td>0</td>\n",
       "    </tr>\n",
       "    <tr>\n",
       "      <td>23823</td>\n",
       "      <td>2017-04-29 23:41:04</td>\n",
       "      <td>search</td>\n",
       "      <td>f31669</td>\n",
       "      <td>NaN</td>\n",
       "      <td>2017-05-20</td>\n",
       "      <td>AMS</td>\n",
       "      <td>ZRH</td>\n",
       "      <td>0</td>\n",
       "      <td>0</td>\n",
       "    </tr>\n",
       "    <tr>\n",
       "      <td>26012</td>\n",
       "      <td>2017-04-28 18:12:17</td>\n",
       "      <td>search</td>\n",
       "      <td>d02975</td>\n",
       "      <td>NaN</td>\n",
       "      <td>NaN</td>\n",
       "      <td>DUB</td>\n",
       "      <td>AMS</td>\n",
       "      <td>0</td>\n",
       "      <td>0</td>\n",
       "    </tr>\n",
       "    <tr>\n",
       "      <td>31060</td>\n",
       "      <td>2017-04-29 21:36:04</td>\n",
       "      <td>search</td>\n",
       "      <td>139d74</td>\n",
       "      <td>NaN</td>\n",
       "      <td>2017-09-02</td>\n",
       "      <td>CGN</td>\n",
       "      <td>AYT</td>\n",
       "      <td>0</td>\n",
       "      <td>0</td>\n",
       "    </tr>\n",
       "    <tr>\n",
       "      <td>31061</td>\n",
       "      <td>2017-04-29 21:37:20</td>\n",
       "      <td>search</td>\n",
       "      <td>139d74</td>\n",
       "      <td>NaN</td>\n",
       "      <td>2017-09-02</td>\n",
       "      <td>CGN</td>\n",
       "      <td>AYT</td>\n",
       "      <td>0</td>\n",
       "      <td>0</td>\n",
       "    </tr>\n",
       "    <tr>\n",
       "      <td>36006</td>\n",
       "      <td>2017-04-28 09:46:31</td>\n",
       "      <td>search</td>\n",
       "      <td>f74322</td>\n",
       "      <td>NaN</td>\n",
       "      <td>2017-05-31</td>\n",
       "      <td>AMS</td>\n",
       "      <td>HEL</td>\n",
       "      <td>0</td>\n",
       "      <td>0</td>\n",
       "    </tr>\n",
       "    <tr>\n",
       "      <td>36901</td>\n",
       "      <td>2017-04-27 20:24:07</td>\n",
       "      <td>search</td>\n",
       "      <td>4df495</td>\n",
       "      <td>NaN</td>\n",
       "      <td>2017-05-20</td>\n",
       "      <td>AMS</td>\n",
       "      <td>NKG</td>\n",
       "      <td>0</td>\n",
       "      <td>0</td>\n",
       "    </tr>\n",
       "    <tr>\n",
       "      <td>39245</td>\n",
       "      <td>2017-04-28 11:45:42</td>\n",
       "      <td>search</td>\n",
       "      <td>778373</td>\n",
       "      <td>NaN</td>\n",
       "      <td>2017-05-20</td>\n",
       "      <td>AMS</td>\n",
       "      <td>BER</td>\n",
       "      <td>0</td>\n",
       "      <td>0</td>\n",
       "    </tr>\n",
       "    <tr>\n",
       "      <td>39736</td>\n",
       "      <td>2017-04-23 12:54:05</td>\n",
       "      <td>search</td>\n",
       "      <td>ced484</td>\n",
       "      <td>NaN</td>\n",
       "      <td>2017-06-07</td>\n",
       "      <td>BRU</td>\n",
       "      <td>CPH</td>\n",
       "      <td>0</td>\n",
       "      <td>0</td>\n",
       "    </tr>\n",
       "    <tr>\n",
       "      <td>41752</td>\n",
       "      <td>2017-04-27 15:58:06</td>\n",
       "      <td>search</td>\n",
       "      <td>3e44c4</td>\n",
       "      <td>NaN</td>\n",
       "      <td>2017-06-23</td>\n",
       "      <td>AMS</td>\n",
       "      <td>MAD</td>\n",
       "      <td>0</td>\n",
       "      <td>0</td>\n",
       "    </tr>\n",
       "    <tr>\n",
       "      <td>41754</td>\n",
       "      <td>2017-04-27 13:20:22</td>\n",
       "      <td>search</td>\n",
       "      <td>786588</td>\n",
       "      <td>NaN</td>\n",
       "      <td>2017-06-28</td>\n",
       "      <td>AMS</td>\n",
       "      <td>MSP</td>\n",
       "      <td>0</td>\n",
       "      <td>0</td>\n",
       "    </tr>\n",
       "    <tr>\n",
       "      <td>43285</td>\n",
       "      <td>2017-04-28 09:46:21</td>\n",
       "      <td>search</td>\n",
       "      <td>f74322</td>\n",
       "      <td>NaN</td>\n",
       "      <td>2017-05-31</td>\n",
       "      <td>AMS</td>\n",
       "      <td>HEL</td>\n",
       "      <td>0</td>\n",
       "      <td>0</td>\n",
       "    </tr>\n",
       "    <tr>\n",
       "      <td>44642</td>\n",
       "      <td>2017-05-01 00:18:23</td>\n",
       "      <td>search</td>\n",
       "      <td>15568d</td>\n",
       "      <td>NaN</td>\n",
       "      <td>2017-06-20</td>\n",
       "      <td>AMS</td>\n",
       "      <td>IST</td>\n",
       "      <td>0</td>\n",
       "      <td>0</td>\n",
       "    </tr>\n",
       "  </tbody>\n",
       "</table>\n",
       "</div>"
      ],
      "text/plain": [
       "                        ts event_type user_id date_from     date_to origin  \\\n",
       "5476   2017-04-28 23:24:26     search  46cad7       NaN  2017-05-24    AMS   \n",
       "7580   2017-04-28 23:41:06     search  46cad7       NaN  2017-05-24    AMS   \n",
       "7687   2017-04-28 23:52:17       book  46cad7       NaN  2017-05-24    AMS   \n",
       "8407   2017-04-28 23:25:25     search  46cad7       NaN  2017-05-24    AMS   \n",
       "13796  2017-04-23 19:02:48     search  299320       NaN         NaN    BRU   \n",
       "15677  2017-04-29 16:16:49     search  f78263       NaN  2018-02-23    DUS   \n",
       "18675  2017-04-24 21:13:32     search  2ac874       NaN         NaN    AYT   \n",
       "19137  2017-04-29 21:31:57     search  139d74       NaN  2017-09-02    CGN   \n",
       "20664  2017-04-27 19:35:16     search  450011       NaN  2017-07-10    DUS   \n",
       "23407  2017-04-27 17:52:49     search  450011       NaN  2018-04-02    BKK   \n",
       "23823  2017-04-29 23:41:04     search  f31669       NaN  2017-05-20    AMS   \n",
       "26012  2017-04-28 18:12:17     search  d02975       NaN         NaN    DUB   \n",
       "31060  2017-04-29 21:36:04     search  139d74       NaN  2017-09-02    CGN   \n",
       "31061  2017-04-29 21:37:20     search  139d74       NaN  2017-09-02    CGN   \n",
       "36006  2017-04-28 09:46:31     search  f74322       NaN  2017-05-31    AMS   \n",
       "36901  2017-04-27 20:24:07     search  4df495       NaN  2017-05-20    AMS   \n",
       "39245  2017-04-28 11:45:42     search  778373       NaN  2017-05-20    AMS   \n",
       "39736  2017-04-23 12:54:05     search  ced484       NaN  2017-06-07    BRU   \n",
       "41752  2017-04-27 15:58:06     search  3e44c4       NaN  2017-06-23    AMS   \n",
       "41754  2017-04-27 13:20:22     search  786588       NaN  2017-06-28    AMS   \n",
       "43285  2017-04-28 09:46:21     search  f74322       NaN  2017-05-31    AMS   \n",
       "44642  2017-05-01 00:18:23     search  15568d       NaN  2017-06-20    AMS   \n",
       "\n",
       "      destination  num_adults  num_children  \n",
       "5476          MUC           0             0  \n",
       "7580          MUC           0             0  \n",
       "7687          MUC           0             0  \n",
       "8407          MUC           0             0  \n",
       "13796         TLS           0             0  \n",
       "15677         CPT           0             0  \n",
       "18675         DUS           0             0  \n",
       "19137         AYT           0             0  \n",
       "20664         BKK           0             0  \n",
       "23407         DUS           0             0  \n",
       "23823         ZRH           0             0  \n",
       "26012         AMS           0             0  \n",
       "31060         AYT           0             0  \n",
       "31061         AYT           0             0  \n",
       "36006         HEL           0             0  \n",
       "36901         NKG           0             0  \n",
       "39245         BER           0             0  \n",
       "39736         CPH           0             0  \n",
       "41752         MAD           0             0  \n",
       "41754         MSP           0             0  \n",
       "43285         HEL           0             0  \n",
       "44642         IST           0             0  "
      ]
     },
     "execution_count": 39,
     "metadata": {},
     "output_type": "execute_result"
    }
   ],
   "source": [
    "df_event[df_event['date_from'].isna()]"
   ]
  },
  {
   "cell_type": "code",
   "execution_count": 40,
   "metadata": {
    "collapsed": true,
    "jupyter": {
     "outputs_hidden": true
    }
   },
   "outputs": [
    {
     "data": {
      "text/html": [
       "<div>\n",
       "<style scoped>\n",
       "    .dataframe tbody tr th:only-of-type {\n",
       "        vertical-align: middle;\n",
       "    }\n",
       "\n",
       "    .dataframe tbody tr th {\n",
       "        vertical-align: top;\n",
       "    }\n",
       "\n",
       "    .dataframe thead th {\n",
       "        text-align: right;\n",
       "    }\n",
       "</style>\n",
       "<table border=\"1\" class=\"dataframe\">\n",
       "  <thead>\n",
       "    <tr style=\"text-align: right;\">\n",
       "      <th></th>\n",
       "      <th>ts</th>\n",
       "      <th>event_type</th>\n",
       "      <th>user_id</th>\n",
       "      <th>date_from</th>\n",
       "      <th>date_to</th>\n",
       "      <th>origin</th>\n",
       "      <th>destination</th>\n",
       "      <th>num_adults</th>\n",
       "      <th>num_children</th>\n",
       "    </tr>\n",
       "  </thead>\n",
       "  <tbody>\n",
       "    <tr>\n",
       "      <td>13796</td>\n",
       "      <td>2017-04-23 19:02:48</td>\n",
       "      <td>search</td>\n",
       "      <td>299320</td>\n",
       "      <td>NaN</td>\n",
       "      <td>NaN</td>\n",
       "      <td>BRU</td>\n",
       "      <td>TLS</td>\n",
       "      <td>0</td>\n",
       "      <td>0</td>\n",
       "    </tr>\n",
       "    <tr>\n",
       "      <td>18675</td>\n",
       "      <td>2017-04-24 21:13:32</td>\n",
       "      <td>search</td>\n",
       "      <td>2ac874</td>\n",
       "      <td>NaN</td>\n",
       "      <td>NaN</td>\n",
       "      <td>AYT</td>\n",
       "      <td>DUS</td>\n",
       "      <td>0</td>\n",
       "      <td>0</td>\n",
       "    </tr>\n",
       "    <tr>\n",
       "      <td>26012</td>\n",
       "      <td>2017-04-28 18:12:17</td>\n",
       "      <td>search</td>\n",
       "      <td>d02975</td>\n",
       "      <td>NaN</td>\n",
       "      <td>NaN</td>\n",
       "      <td>DUB</td>\n",
       "      <td>AMS</td>\n",
       "      <td>0</td>\n",
       "      <td>0</td>\n",
       "    </tr>\n",
       "  </tbody>\n",
       "</table>\n",
       "</div>"
      ],
      "text/plain": [
       "                        ts event_type user_id date_from date_to origin  \\\n",
       "13796  2017-04-23 19:02:48     search  299320       NaN     NaN    BRU   \n",
       "18675  2017-04-24 21:13:32     search  2ac874       NaN     NaN    AYT   \n",
       "26012  2017-04-28 18:12:17     search  d02975       NaN     NaN    DUB   \n",
       "\n",
       "      destination  num_adults  num_children  \n",
       "13796         TLS           0             0  \n",
       "18675         DUS           0             0  \n",
       "26012         AMS           0             0  "
      ]
     },
     "execution_count": 40,
     "metadata": {},
     "output_type": "execute_result"
    }
   ],
   "source": [
    "df_event[df_event['date_to'].isna()]"
   ]
  },
  {
   "cell_type": "code",
   "execution_count": 45,
   "metadata": {},
   "outputs": [
    {
     "data": {
      "text/plain": [
       "(22, 9)"
      ]
     },
     "execution_count": 45,
     "metadata": {},
     "output_type": "execute_result"
    }
   ],
   "source": [
    "df_event[df_event['num_adults']==0].shape"
   ]
  },
  {
   "cell_type": "code",
   "execution_count": 130,
   "metadata": {
    "jupyter": {
     "source_hidden": true
    }
   },
   "outputs": [],
   "source": [
    "df_event['ts'] = df_event['ts'].astype('datetime64')\n",
    "df_event['date_from'] = df_event['date_from'].astype('datetime64')\n",
    "df_event['date_to'] = df_event['date_to'].astype('datetime64')\n"
   ]
  },
  {
   "cell_type": "code",
   "execution_count": 131,
   "metadata": {
    "collapsed": true,
    "jupyter": {
     "outputs_hidden": true
    }
   },
   "outputs": [
    {
     "data": {
      "text/html": [
       "<div>\n",
       "<style scoped>\n",
       "    .dataframe tbody tr th:only-of-type {\n",
       "        vertical-align: middle;\n",
       "    }\n",
       "\n",
       "    .dataframe tbody tr th {\n",
       "        vertical-align: top;\n",
       "    }\n",
       "\n",
       "    .dataframe thead th {\n",
       "        text-align: right;\n",
       "    }\n",
       "</style>\n",
       "<table border=\"1\" class=\"dataframe\">\n",
       "  <thead>\n",
       "    <tr style=\"text-align: right;\">\n",
       "      <th></th>\n",
       "      <th>iata_code</th>\n",
       "      <th>lat</th>\n",
       "      <th>lon</th>\n",
       "    </tr>\n",
       "  </thead>\n",
       "  <tbody>\n",
       "    <tr>\n",
       "      <td>0</td>\n",
       "      <td>LON</td>\n",
       "      <td>51.50</td>\n",
       "      <td>-0.17</td>\n",
       "    </tr>\n",
       "    <tr>\n",
       "      <td>1</td>\n",
       "      <td>MOW</td>\n",
       "      <td>55.75</td>\n",
       "      <td>37.70</td>\n",
       "    </tr>\n",
       "    <tr>\n",
       "      <td>2</td>\n",
       "      <td>NYC</td>\n",
       "      <td>40.71</td>\n",
       "      <td>-74.01</td>\n",
       "    </tr>\n",
       "  </tbody>\n",
       "</table>\n",
       "</div>"
      ],
      "text/plain": [
       "  iata_code    lat    lon\n",
       "0       LON  51.50  -0.17\n",
       "1       MOW  55.75  37.70\n",
       "2       NYC  40.71 -74.01"
      ]
     },
     "execution_count": 131,
     "metadata": {},
     "output_type": "execute_result"
    }
   ],
   "source": [
    "df_iata.head(3)"
   ]
  },
  {
   "cell_type": "code",
   "execution_count": 132,
   "metadata": {},
   "outputs": [],
   "source": [
    "origin = set(df_event['origin'].unique())\n",
    "iata_code = set(df_iata['iata_code'].unique())"
   ]
  },
  {
   "cell_type": "code",
   "execution_count": 133,
   "metadata": {},
   "outputs": [
    {
     "data": {
      "text/plain": [
       "(298, 236)"
      ]
     },
     "execution_count": 133,
     "metadata": {},
     "output_type": "execute_result"
    }
   ],
   "source": [
    "len(iata_code), len(origin)"
   ]
  },
  {
   "cell_type": "code",
   "execution_count": 134,
   "metadata": {},
   "outputs": [
    {
     "data": {
      "text/plain": [
       "236"
      ]
     },
     "execution_count": 134,
     "metadata": {},
     "output_type": "execute_result"
    }
   ],
   "source": [
    "len(iata_code.intersection(origin))"
   ]
  },
  {
   "cell_type": "code",
   "execution_count": 135,
   "metadata": {},
   "outputs": [
    {
     "data": {
      "text/plain": [
       "search    45198\n",
       "book       1809\n",
       "Name: event_type, dtype: int64"
      ]
     },
     "execution_count": 135,
     "metadata": {},
     "output_type": "execute_result"
    }
   ],
   "source": [
    "df_event['event_type'].value_counts()"
   ]
  },
  {
   "cell_type": "code",
   "execution_count": 136,
   "metadata": {},
   "outputs": [
    {
     "data": {
      "text/plain": [
       "31179"
      ]
     },
     "execution_count": 136,
     "metadata": {},
     "output_type": "execute_result"
    }
   ],
   "source": [
    "len(df_event['user_id'].unique())"
   ]
  },
  {
   "cell_type": "code",
   "execution_count": 137,
   "metadata": {},
   "outputs": [
    {
     "data": {
      "text/plain": [
       "1805"
      ]
     },
     "execution_count": 137,
     "metadata": {},
     "output_type": "execute_result"
    }
   ],
   "source": [
    "len(df_event[df_event['event_type']=='book']['user_id'].unique())"
   ]
  },
  {
   "cell_type": "code",
   "execution_count": 138,
   "metadata": {},
   "outputs": [],
   "source": [
    "booked_user_id = df_event[df_event['event_type']=='book']['user_id'].unique()"
   ]
  },
  {
   "cell_type": "code",
   "execution_count": 139,
   "metadata": {},
   "outputs": [
    {
     "data": {
      "text/plain": [
       "9490"
      ]
     },
     "execution_count": 139,
     "metadata": {},
     "output_type": "execute_result"
    }
   ],
   "source": [
    "np.sum(df_event['user_id'].isin(booked_user_id))"
   ]
  },
  {
   "cell_type": "code",
   "execution_count": 140,
   "metadata": {},
   "outputs": [
    {
     "data": {
      "text/html": [
       "<div>\n",
       "<style scoped>\n",
       "    .dataframe tbody tr th:only-of-type {\n",
       "        vertical-align: middle;\n",
       "    }\n",
       "\n",
       "    .dataframe tbody tr th {\n",
       "        vertical-align: top;\n",
       "    }\n",
       "\n",
       "    .dataframe thead th {\n",
       "        text-align: right;\n",
       "    }\n",
       "</style>\n",
       "<table border=\"1\" class=\"dataframe\">\n",
       "  <thead>\n",
       "    <tr style=\"text-align: right;\">\n",
       "      <th></th>\n",
       "      <th>ts</th>\n",
       "      <th>event_type</th>\n",
       "      <th>user_id</th>\n",
       "      <th>date_from</th>\n",
       "      <th>date_to</th>\n",
       "      <th>origin</th>\n",
       "      <th>destination</th>\n",
       "      <th>num_adults</th>\n",
       "      <th>num_children</th>\n",
       "    </tr>\n",
       "  </thead>\n",
       "  <tbody>\n",
       "    <tr>\n",
       "      <td>0</td>\n",
       "      <td>2017-04-27 11:06:51</td>\n",
       "      <td>search</td>\n",
       "      <td>60225f</td>\n",
       "      <td>2017-06-01</td>\n",
       "      <td>2017-06-07</td>\n",
       "      <td>PAR</td>\n",
       "      <td>NYC</td>\n",
       "      <td>6</td>\n",
       "      <td>1</td>\n",
       "    </tr>\n",
       "    <tr>\n",
       "      <td>1</td>\n",
       "      <td>2017-04-27 20:15:27</td>\n",
       "      <td>book</td>\n",
       "      <td>e5d69e</td>\n",
       "      <td>2017-08-12</td>\n",
       "      <td>2017-09-02</td>\n",
       "      <td>FRA</td>\n",
       "      <td>WAS</td>\n",
       "      <td>3</td>\n",
       "      <td>1</td>\n",
       "    </tr>\n",
       "  </tbody>\n",
       "</table>\n",
       "</div>"
      ],
      "text/plain": [
       "                   ts event_type user_id  date_from    date_to origin  \\\n",
       "0 2017-04-27 11:06:51     search  60225f 2017-06-01 2017-06-07    PAR   \n",
       "1 2017-04-27 20:15:27       book  e5d69e 2017-08-12 2017-09-02    FRA   \n",
       "\n",
       "  destination  num_adults  num_children  \n",
       "0         NYC           6             1  \n",
       "1         WAS           3             1  "
      ]
     },
     "execution_count": 140,
     "metadata": {},
     "output_type": "execute_result"
    }
   ],
   "source": [
    "df_event_booked = df_event[df_event['user_id'].isin(booked_user_id)]\n",
    "df_event_booked.head(2)"
   ]
  },
  {
   "cell_type": "code",
   "execution_count": 141,
   "metadata": {},
   "outputs": [
    {
     "data": {
      "text/plain": [
       "(9490, 9)"
      ]
     },
     "execution_count": 141,
     "metadata": {},
     "output_type": "execute_result"
    }
   ],
   "source": [
    "df_event_booked.shape"
   ]
  },
  {
   "cell_type": "code",
   "execution_count": 142,
   "metadata": {},
   "outputs": [
    {
     "name": "stdout",
     "output_type": "stream",
     "text": [
      "(37517, 9)\n"
     ]
    },
    {
     "data": {
      "text/html": [
       "<div>\n",
       "<style scoped>\n",
       "    .dataframe tbody tr th:only-of-type {\n",
       "        vertical-align: middle;\n",
       "    }\n",
       "\n",
       "    .dataframe tbody tr th {\n",
       "        vertical-align: top;\n",
       "    }\n",
       "\n",
       "    .dataframe thead th {\n",
       "        text-align: right;\n",
       "    }\n",
       "</style>\n",
       "<table border=\"1\" class=\"dataframe\">\n",
       "  <thead>\n",
       "    <tr style=\"text-align: right;\">\n",
       "      <th></th>\n",
       "      <th>ts</th>\n",
       "      <th>event_type</th>\n",
       "      <th>user_id</th>\n",
       "      <th>date_from</th>\n",
       "      <th>date_to</th>\n",
       "      <th>origin</th>\n",
       "      <th>destination</th>\n",
       "      <th>num_adults</th>\n",
       "      <th>num_children</th>\n",
       "    </tr>\n",
       "  </thead>\n",
       "  <tbody>\n",
       "    <tr>\n",
       "      <td>27</td>\n",
       "      <td>2017-04-29 00:24:16</td>\n",
       "      <td>search</td>\n",
       "      <td>dea471</td>\n",
       "      <td>2017-05-05</td>\n",
       "      <td>2017-05-05</td>\n",
       "      <td>MOW</td>\n",
       "      <td>STR</td>\n",
       "      <td>1</td>\n",
       "      <td>0</td>\n",
       "    </tr>\n",
       "    <tr>\n",
       "      <td>34</td>\n",
       "      <td>2017-04-27 22:39:53</td>\n",
       "      <td>search</td>\n",
       "      <td>6600e0</td>\n",
       "      <td>2017-10-05</td>\n",
       "      <td>2017-10-20</td>\n",
       "      <td>FRA</td>\n",
       "      <td>IST</td>\n",
       "      <td>2</td>\n",
       "      <td>0</td>\n",
       "    </tr>\n",
       "  </tbody>\n",
       "</table>\n",
       "</div>"
      ],
      "text/plain": [
       "                    ts event_type user_id  date_from    date_to origin  \\\n",
       "27 2017-04-29 00:24:16     search  dea471 2017-05-05 2017-05-05    MOW   \n",
       "34 2017-04-27 22:39:53     search  6600e0 2017-10-05 2017-10-20    FRA   \n",
       "\n",
       "   destination  num_adults  num_children  \n",
       "27         STR           1             0  \n",
       "34         IST           2             0  "
      ]
     },
     "execution_count": 142,
     "metadata": {},
     "output_type": "execute_result"
    }
   ],
   "source": [
    "df_event_searched= df_event[(df_event['user_id'].isin(booked_user_id)==False)]\n",
    "print (df_event_searched.shape)\n",
    "df_event_searched.head(2)\n"
   ]
  },
  {
   "cell_type": "code",
   "execution_count": 143,
   "metadata": {},
   "outputs": [
    {
     "data": {
      "text/plain": [
       "1782"
      ]
     },
     "execution_count": 143,
     "metadata": {},
     "output_type": "execute_result"
    }
   ],
   "source": [
    "len(df_event_booked[df_event_booked['event_type']=='search']['user_id'].unique())"
   ]
  },
  {
   "cell_type": "code",
   "execution_count": 144,
   "metadata": {},
   "outputs": [
    {
     "data": {
      "text/plain": [
       "1805"
      ]
     },
     "execution_count": 144,
     "metadata": {},
     "output_type": "execute_result"
    }
   ],
   "source": [
    "len(df_event_booked[df_event_booked['event_type']=='book']['user_id'].unique())"
   ]
  },
  {
   "cell_type": "code",
   "execution_count": 145,
   "metadata": {},
   "outputs": [],
   "source": [
    "only_booked_user = set(df_event_booked[df_event_booked['event_type']=='book']['user_id'].unique()) - set(df_event_booked[df_event_booked['event_type']=='search']['user_id'].unique())"
   ]
  },
  {
   "cell_type": "code",
   "execution_count": 146,
   "metadata": {},
   "outputs": [
    {
     "data": {
      "text/plain": [
       "23"
      ]
     },
     "execution_count": 146,
     "metadata": {},
     "output_type": "execute_result"
    }
   ],
   "source": [
    "len(only_booked_user)"
   ]
  },
  {
   "cell_type": "code",
   "execution_count": 147,
   "metadata": {
    "collapsed": true,
    "jupyter": {
     "outputs_hidden": true
    }
   },
   "outputs": [
    {
     "data": {
      "text/html": [
       "<div>\n",
       "<style scoped>\n",
       "    .dataframe tbody tr th:only-of-type {\n",
       "        vertical-align: middle;\n",
       "    }\n",
       "\n",
       "    .dataframe tbody tr th {\n",
       "        vertical-align: top;\n",
       "    }\n",
       "\n",
       "    .dataframe thead th {\n",
       "        text-align: right;\n",
       "    }\n",
       "</style>\n",
       "<table border=\"1\" class=\"dataframe\">\n",
       "  <thead>\n",
       "    <tr style=\"text-align: right;\">\n",
       "      <th></th>\n",
       "      <th>ts</th>\n",
       "      <th>event_type</th>\n",
       "      <th>user_id</th>\n",
       "      <th>date_from</th>\n",
       "      <th>date_to</th>\n",
       "      <th>origin</th>\n",
       "      <th>destination</th>\n",
       "      <th>num_adults</th>\n",
       "      <th>num_children</th>\n",
       "    </tr>\n",
       "  </thead>\n",
       "  <tbody>\n",
       "    <tr>\n",
       "      <td>229</td>\n",
       "      <td>2017-04-28 21:59:05</td>\n",
       "      <td>book</td>\n",
       "      <td>bbb63d</td>\n",
       "      <td>2017-09-21</td>\n",
       "      <td>2017-10-05</td>\n",
       "      <td>PAR</td>\n",
       "      <td>VCE</td>\n",
       "      <td>6</td>\n",
       "      <td>0</td>\n",
       "    </tr>\n",
       "    <tr>\n",
       "      <td>1523</td>\n",
       "      <td>2017-04-21 22:51:27</td>\n",
       "      <td>book</td>\n",
       "      <td>3a5cd2</td>\n",
       "      <td>2017-06-15</td>\n",
       "      <td>2017-06-22</td>\n",
       "      <td>FRA</td>\n",
       "      <td>TCI</td>\n",
       "      <td>2</td>\n",
       "      <td>0</td>\n",
       "    </tr>\n",
       "    <tr>\n",
       "      <td>1688</td>\n",
       "      <td>2017-04-22 22:24:02</td>\n",
       "      <td>book</td>\n",
       "      <td>2fd409</td>\n",
       "      <td>2017-04-23</td>\n",
       "      <td>2017-04-23</td>\n",
       "      <td>MUC</td>\n",
       "      <td>TXL</td>\n",
       "      <td>1</td>\n",
       "      <td>0</td>\n",
       "    </tr>\n",
       "    <tr>\n",
       "      <td>1811</td>\n",
       "      <td>2017-04-21 16:04:28</td>\n",
       "      <td>book</td>\n",
       "      <td>bdd35d</td>\n",
       "      <td>2017-06-04</td>\n",
       "      <td>2017-06-12</td>\n",
       "      <td>CMN</td>\n",
       "      <td>IST</td>\n",
       "      <td>2</td>\n",
       "      <td>0</td>\n",
       "    </tr>\n",
       "    <tr>\n",
       "      <td>1949</td>\n",
       "      <td>2017-04-26 17:09:48</td>\n",
       "      <td>book</td>\n",
       "      <td>63a3be</td>\n",
       "      <td>2017-05-02</td>\n",
       "      <td>2017-05-04</td>\n",
       "      <td>HAM</td>\n",
       "      <td>CGN</td>\n",
       "      <td>1</td>\n",
       "      <td>0</td>\n",
       "    </tr>\n",
       "    <tr>\n",
       "      <td>2091</td>\n",
       "      <td>2017-04-26 20:31:15</td>\n",
       "      <td>book</td>\n",
       "      <td>4ba5fe</td>\n",
       "      <td>2017-05-02</td>\n",
       "      <td>2017-05-16</td>\n",
       "      <td>FRA</td>\n",
       "      <td>ALG</td>\n",
       "      <td>1</td>\n",
       "      <td>0</td>\n",
       "    </tr>\n",
       "    <tr>\n",
       "      <td>2948</td>\n",
       "      <td>2017-04-21 19:33:02</td>\n",
       "      <td>book</td>\n",
       "      <td>4cdc59</td>\n",
       "      <td>2017-06-30</td>\n",
       "      <td>2017-07-05</td>\n",
       "      <td>TLS</td>\n",
       "      <td>OPO</td>\n",
       "      <td>2</td>\n",
       "      <td>0</td>\n",
       "    </tr>\n",
       "    <tr>\n",
       "      <td>3467</td>\n",
       "      <td>2017-04-19 02:44:33</td>\n",
       "      <td>book</td>\n",
       "      <td>5f5211</td>\n",
       "      <td>2017-04-25</td>\n",
       "      <td>2017-05-04</td>\n",
       "      <td>PAR</td>\n",
       "      <td>CPH</td>\n",
       "      <td>1</td>\n",
       "      <td>0</td>\n",
       "    </tr>\n",
       "    <tr>\n",
       "      <td>4385</td>\n",
       "      <td>2017-04-19 16:58:03</td>\n",
       "      <td>book</td>\n",
       "      <td>064440</td>\n",
       "      <td>2017-05-28</td>\n",
       "      <td>2017-06-05</td>\n",
       "      <td>DUS</td>\n",
       "      <td>LAS</td>\n",
       "      <td>1</td>\n",
       "      <td>0</td>\n",
       "    </tr>\n",
       "    <tr>\n",
       "      <td>4728</td>\n",
       "      <td>2017-04-20 23:35:13</td>\n",
       "      <td>book</td>\n",
       "      <td>9b75e1</td>\n",
       "      <td>2017-05-17</td>\n",
       "      <td>2017-05-26</td>\n",
       "      <td>VIE</td>\n",
       "      <td>FRA</td>\n",
       "      <td>1</td>\n",
       "      <td>0</td>\n",
       "    </tr>\n",
       "    <tr>\n",
       "      <td>4803</td>\n",
       "      <td>2017-04-25 19:30:53</td>\n",
       "      <td>book</td>\n",
       "      <td>1ff89a</td>\n",
       "      <td>2017-05-14</td>\n",
       "      <td>2017-05-14</td>\n",
       "      <td>MUC</td>\n",
       "      <td>MXP</td>\n",
       "      <td>1</td>\n",
       "      <td>0</td>\n",
       "    </tr>\n",
       "    <tr>\n",
       "      <td>4976</td>\n",
       "      <td>2017-04-20 16:55:40</td>\n",
       "      <td>book</td>\n",
       "      <td>f76889</td>\n",
       "      <td>2017-06-12</td>\n",
       "      <td>2017-06-15</td>\n",
       "      <td>BER</td>\n",
       "      <td>LON</td>\n",
       "      <td>1</td>\n",
       "      <td>0</td>\n",
       "    </tr>\n",
       "    <tr>\n",
       "      <td>5110</td>\n",
       "      <td>2017-04-20 23:40:56</td>\n",
       "      <td>book</td>\n",
       "      <td>850537</td>\n",
       "      <td>2017-07-23</td>\n",
       "      <td>2017-07-23</td>\n",
       "      <td>PAR</td>\n",
       "      <td>VCE</td>\n",
       "      <td>2</td>\n",
       "      <td>0</td>\n",
       "    </tr>\n",
       "    <tr>\n",
       "      <td>5810</td>\n",
       "      <td>2017-04-24 00:50:59</td>\n",
       "      <td>book</td>\n",
       "      <td>147ffe</td>\n",
       "      <td>2017-05-16</td>\n",
       "      <td>2017-05-21</td>\n",
       "      <td>DUS</td>\n",
       "      <td>VIE</td>\n",
       "      <td>1</td>\n",
       "      <td>0</td>\n",
       "    </tr>\n",
       "    <tr>\n",
       "      <td>5981</td>\n",
       "      <td>2017-04-24 20:48:35</td>\n",
       "      <td>book</td>\n",
       "      <td>c63f69</td>\n",
       "      <td>2018-01-11</td>\n",
       "      <td>2018-01-18</td>\n",
       "      <td>FRA</td>\n",
       "      <td>TCI</td>\n",
       "      <td>2</td>\n",
       "      <td>0</td>\n",
       "    </tr>\n",
       "    <tr>\n",
       "      <td>6916</td>\n",
       "      <td>2017-04-29 19:52:55</td>\n",
       "      <td>book</td>\n",
       "      <td>fa5974</td>\n",
       "      <td>2017-05-01</td>\n",
       "      <td>2017-05-02</td>\n",
       "      <td>OPO</td>\n",
       "      <td>FRA</td>\n",
       "      <td>1</td>\n",
       "      <td>0</td>\n",
       "    </tr>\n",
       "    <tr>\n",
       "      <td>7082</td>\n",
       "      <td>2017-04-28 02:28:29</td>\n",
       "      <td>book</td>\n",
       "      <td>99dc14</td>\n",
       "      <td>2017-12-24</td>\n",
       "      <td>2017-12-24</td>\n",
       "      <td>NYC</td>\n",
       "      <td>HAV</td>\n",
       "      <td>2</td>\n",
       "      <td>0</td>\n",
       "    </tr>\n",
       "    <tr>\n",
       "      <td>7824</td>\n",
       "      <td>2017-04-25 09:48:32</td>\n",
       "      <td>book</td>\n",
       "      <td>c55b0f</td>\n",
       "      <td>2017-06-26</td>\n",
       "      <td>2017-07-10</td>\n",
       "      <td>FRA</td>\n",
       "      <td>SGN</td>\n",
       "      <td>2</td>\n",
       "      <td>0</td>\n",
       "    </tr>\n",
       "    <tr>\n",
       "      <td>8685</td>\n",
       "      <td>2017-04-27 20:00:41</td>\n",
       "      <td>book</td>\n",
       "      <td>d979e0</td>\n",
       "      <td>2017-05-15</td>\n",
       "      <td>2017-05-26</td>\n",
       "      <td>BER</td>\n",
       "      <td>AGP</td>\n",
       "      <td>2</td>\n",
       "      <td>2</td>\n",
       "    </tr>\n",
       "    <tr>\n",
       "      <td>9635</td>\n",
       "      <td>2017-04-28 00:02:21</td>\n",
       "      <td>book</td>\n",
       "      <td>c06a18</td>\n",
       "      <td>2017-07-04</td>\n",
       "      <td>2017-07-08</td>\n",
       "      <td>BER</td>\n",
       "      <td>PMI</td>\n",
       "      <td>2</td>\n",
       "      <td>0</td>\n",
       "    </tr>\n",
       "    <tr>\n",
       "      <td>38409</td>\n",
       "      <td>2017-05-02 01:13:20</td>\n",
       "      <td>book</td>\n",
       "      <td>4c171b</td>\n",
       "      <td>2017-05-12</td>\n",
       "      <td>2017-05-12</td>\n",
       "      <td>SAW</td>\n",
       "      <td>DUS</td>\n",
       "      <td>2</td>\n",
       "      <td>0</td>\n",
       "    </tr>\n",
       "    <tr>\n",
       "      <td>44522</td>\n",
       "      <td>2017-04-30 16:43:12</td>\n",
       "      <td>book</td>\n",
       "      <td>60fdad</td>\n",
       "      <td>2017-05-02</td>\n",
       "      <td>2017-05-22</td>\n",
       "      <td>AUH</td>\n",
       "      <td>PAR</td>\n",
       "      <td>1</td>\n",
       "      <td>0</td>\n",
       "    </tr>\n",
       "    <tr>\n",
       "      <td>46722</td>\n",
       "      <td>2017-04-25 00:42:28</td>\n",
       "      <td>book</td>\n",
       "      <td>f665fb</td>\n",
       "      <td>2017-04-25</td>\n",
       "      <td>2017-04-25</td>\n",
       "      <td>AGP</td>\n",
       "      <td>BER</td>\n",
       "      <td>1</td>\n",
       "      <td>0</td>\n",
       "    </tr>\n",
       "  </tbody>\n",
       "</table>\n",
       "</div>"
      ],
      "text/plain": [
       "                       ts event_type user_id  date_from    date_to origin  \\\n",
       "229   2017-04-28 21:59:05       book  bbb63d 2017-09-21 2017-10-05    PAR   \n",
       "1523  2017-04-21 22:51:27       book  3a5cd2 2017-06-15 2017-06-22    FRA   \n",
       "1688  2017-04-22 22:24:02       book  2fd409 2017-04-23 2017-04-23    MUC   \n",
       "1811  2017-04-21 16:04:28       book  bdd35d 2017-06-04 2017-06-12    CMN   \n",
       "1949  2017-04-26 17:09:48       book  63a3be 2017-05-02 2017-05-04    HAM   \n",
       "2091  2017-04-26 20:31:15       book  4ba5fe 2017-05-02 2017-05-16    FRA   \n",
       "2948  2017-04-21 19:33:02       book  4cdc59 2017-06-30 2017-07-05    TLS   \n",
       "3467  2017-04-19 02:44:33       book  5f5211 2017-04-25 2017-05-04    PAR   \n",
       "4385  2017-04-19 16:58:03       book  064440 2017-05-28 2017-06-05    DUS   \n",
       "4728  2017-04-20 23:35:13       book  9b75e1 2017-05-17 2017-05-26    VIE   \n",
       "4803  2017-04-25 19:30:53       book  1ff89a 2017-05-14 2017-05-14    MUC   \n",
       "4976  2017-04-20 16:55:40       book  f76889 2017-06-12 2017-06-15    BER   \n",
       "5110  2017-04-20 23:40:56       book  850537 2017-07-23 2017-07-23    PAR   \n",
       "5810  2017-04-24 00:50:59       book  147ffe 2017-05-16 2017-05-21    DUS   \n",
       "5981  2017-04-24 20:48:35       book  c63f69 2018-01-11 2018-01-18    FRA   \n",
       "6916  2017-04-29 19:52:55       book  fa5974 2017-05-01 2017-05-02    OPO   \n",
       "7082  2017-04-28 02:28:29       book  99dc14 2017-12-24 2017-12-24    NYC   \n",
       "7824  2017-04-25 09:48:32       book  c55b0f 2017-06-26 2017-07-10    FRA   \n",
       "8685  2017-04-27 20:00:41       book  d979e0 2017-05-15 2017-05-26    BER   \n",
       "9635  2017-04-28 00:02:21       book  c06a18 2017-07-04 2017-07-08    BER   \n",
       "38409 2017-05-02 01:13:20       book  4c171b 2017-05-12 2017-05-12    SAW   \n",
       "44522 2017-04-30 16:43:12       book  60fdad 2017-05-02 2017-05-22    AUH   \n",
       "46722 2017-04-25 00:42:28       book  f665fb 2017-04-25 2017-04-25    AGP   \n",
       "\n",
       "      destination  num_adults  num_children  \n",
       "229           VCE           6             0  \n",
       "1523          TCI           2             0  \n",
       "1688          TXL           1             0  \n",
       "1811          IST           2             0  \n",
       "1949          CGN           1             0  \n",
       "2091          ALG           1             0  \n",
       "2948          OPO           2             0  \n",
       "3467          CPH           1             0  \n",
       "4385          LAS           1             0  \n",
       "4728          FRA           1             0  \n",
       "4803          MXP           1             0  \n",
       "4976          LON           1             0  \n",
       "5110          VCE           2             0  \n",
       "5810          VIE           1             0  \n",
       "5981          TCI           2             0  \n",
       "6916          FRA           1             0  \n",
       "7082          HAV           2             0  \n",
       "7824          SGN           2             0  \n",
       "8685          AGP           2             2  \n",
       "9635          PMI           2             0  \n",
       "38409         DUS           2             0  \n",
       "44522         PAR           1             0  \n",
       "46722         BER           1             0  "
      ]
     },
     "execution_count": 147,
     "metadata": {},
     "output_type": "execute_result"
    }
   ],
   "source": [
    "df_event[df_event['user_id'].isin(only_booked_user)]"
   ]
  },
  {
   "cell_type": "code",
   "execution_count": 148,
   "metadata": {
    "collapsed": true,
    "jupyter": {
     "outputs_hidden": true
    }
   },
   "outputs": [
    {
     "data": {
      "text/html": [
       "<div>\n",
       "<style scoped>\n",
       "    .dataframe tbody tr th:only-of-type {\n",
       "        vertical-align: middle;\n",
       "    }\n",
       "\n",
       "    .dataframe tbody tr th {\n",
       "        vertical-align: top;\n",
       "    }\n",
       "\n",
       "    .dataframe thead th {\n",
       "        text-align: right;\n",
       "    }\n",
       "</style>\n",
       "<table border=\"1\" class=\"dataframe\">\n",
       "  <thead>\n",
       "    <tr style=\"text-align: right;\">\n",
       "      <th></th>\n",
       "      <th>user_id</th>\n",
       "      <th>0</th>\n",
       "    </tr>\n",
       "  </thead>\n",
       "  <tbody>\n",
       "    <tr>\n",
       "      <td>0</td>\n",
       "      <td>000069</td>\n",
       "      <td>1</td>\n",
       "    </tr>\n",
       "    <tr>\n",
       "      <td>1</td>\n",
       "      <td>00019d</td>\n",
       "      <td>1</td>\n",
       "    </tr>\n",
       "    <tr>\n",
       "      <td>2</td>\n",
       "      <td>0002e3</td>\n",
       "      <td>1</td>\n",
       "    </tr>\n",
       "    <tr>\n",
       "      <td>3</td>\n",
       "      <td>000332</td>\n",
       "      <td>4</td>\n",
       "    </tr>\n",
       "    <tr>\n",
       "      <td>4</td>\n",
       "      <td>0004e1</td>\n",
       "      <td>2</td>\n",
       "    </tr>\n",
       "    <tr>\n",
       "      <td>...</td>\n",
       "      <td>...</td>\n",
       "      <td>...</td>\n",
       "    </tr>\n",
       "    <tr>\n",
       "      <td>31174</td>\n",
       "      <td>fff74a</td>\n",
       "      <td>1</td>\n",
       "    </tr>\n",
       "    <tr>\n",
       "      <td>31175</td>\n",
       "      <td>fff86d</td>\n",
       "      <td>1</td>\n",
       "    </tr>\n",
       "    <tr>\n",
       "      <td>31176</td>\n",
       "      <td>fff8fc</td>\n",
       "      <td>1</td>\n",
       "    </tr>\n",
       "    <tr>\n",
       "      <td>31177</td>\n",
       "      <td>fff95a</td>\n",
       "      <td>1</td>\n",
       "    </tr>\n",
       "    <tr>\n",
       "      <td>31178</td>\n",
       "      <td>fffcb9</td>\n",
       "      <td>1</td>\n",
       "    </tr>\n",
       "  </tbody>\n",
       "</table>\n",
       "<p>31179 rows × 2 columns</p>\n",
       "</div>"
      ],
      "text/plain": [
       "      user_id  0\n",
       "0      000069  1\n",
       "1      00019d  1\n",
       "2      0002e3  1\n",
       "3      000332  4\n",
       "4      0004e1  2\n",
       "...       ... ..\n",
       "31174  fff74a  1\n",
       "31175  fff86d  1\n",
       "31176  fff8fc  1\n",
       "31177  fff95a  1\n",
       "31178  fffcb9  1\n",
       "\n",
       "[31179 rows x 2 columns]"
      ]
     },
     "execution_count": 148,
     "metadata": {},
     "output_type": "execute_result"
    }
   ],
   "source": [
    "df_event.groupby('user_id').size().reset_index()"
   ]
  },
  {
   "cell_type": "code",
   "execution_count": 149,
   "metadata": {
    "collapsed": true,
    "jupyter": {
     "outputs_hidden": true
    }
   },
   "outputs": [
    {
     "data": {
      "text/plain": [
       "PMI    2110\n",
       "IST    1762\n",
       "LIS    1607\n",
       "BCN    1513\n",
       "BER    1468\n",
       "PAR    1197\n",
       "BKK    1191\n",
       "LON    1101\n",
       "OPO    1001\n",
       "MUC     966\n",
       "Name: destination, dtype: int64"
      ]
     },
     "execution_count": 149,
     "metadata": {},
     "output_type": "execute_result"
    }
   ],
   "source": [
    "df_event['destination'].value_counts()[:10]"
   ]
  },
  {
   "cell_type": "code",
   "execution_count": 150,
   "metadata": {
    "collapsed": true,
    "jupyter": {
     "outputs_hidden": true
    },
    "scrolled": true
   },
   "outputs": [
    {
     "data": {
      "text/plain": [
       "PAR    6010\n",
       "FRA    5813\n",
       "MUC    4638\n",
       "DUS    4470\n",
       "HAM    3699\n",
       "BER    3501\n",
       "STR    2684\n",
       "CGN    2197\n",
       "LYS    1560\n",
       "CDG    1306\n",
       "Name: origin, dtype: int64"
      ]
     },
     "execution_count": 150,
     "metadata": {},
     "output_type": "execute_result"
    }
   ],
   "source": [
    "df_event['origin'].value_counts()[:10]"
   ]
  },
  {
   "cell_type": "code",
   "execution_count": 151,
   "metadata": {
    "collapsed": true,
    "jupyter": {
     "outputs_hidden": true
    }
   },
   "outputs": [
    {
     "data": {
      "text/html": [
       "<div>\n",
       "<style scoped>\n",
       "    .dataframe tbody tr th:only-of-type {\n",
       "        vertical-align: middle;\n",
       "    }\n",
       "\n",
       "    .dataframe tbody tr th {\n",
       "        vertical-align: top;\n",
       "    }\n",
       "\n",
       "    .dataframe thead th {\n",
       "        text-align: right;\n",
       "    }\n",
       "</style>\n",
       "<table border=\"1\" class=\"dataframe\">\n",
       "  <thead>\n",
       "    <tr style=\"text-align: right;\">\n",
       "      <th></th>\n",
       "      <th>ts</th>\n",
       "      <th>event_type</th>\n",
       "      <th>user_id</th>\n",
       "      <th>date_from</th>\n",
       "      <th>date_to</th>\n",
       "      <th>origin</th>\n",
       "      <th>destination</th>\n",
       "      <th>num_adults</th>\n",
       "      <th>num_children</th>\n",
       "    </tr>\n",
       "  </thead>\n",
       "  <tbody>\n",
       "    <tr>\n",
       "      <td>0</td>\n",
       "      <td>2017-04-27 11:06:51</td>\n",
       "      <td>search</td>\n",
       "      <td>60225f</td>\n",
       "      <td>2017-06-01</td>\n",
       "      <td>2017-06-07</td>\n",
       "      <td>PAR</td>\n",
       "      <td>NYC</td>\n",
       "      <td>6</td>\n",
       "      <td>1</td>\n",
       "    </tr>\n",
       "    <tr>\n",
       "      <td>731</td>\n",
       "      <td>2017-04-21 18:05:01</td>\n",
       "      <td>search</td>\n",
       "      <td>60225f</td>\n",
       "      <td>2017-06-01</td>\n",
       "      <td>2017-06-07</td>\n",
       "      <td>PAR</td>\n",
       "      <td>NYC</td>\n",
       "      <td>6</td>\n",
       "      <td>1</td>\n",
       "    </tr>\n",
       "    <tr>\n",
       "      <td>1387</td>\n",
       "      <td>2017-04-21 19:54:07</td>\n",
       "      <td>search</td>\n",
       "      <td>60225f</td>\n",
       "      <td>2017-06-01</td>\n",
       "      <td>2017-06-07</td>\n",
       "      <td>PAR</td>\n",
       "      <td>NYC</td>\n",
       "      <td>6</td>\n",
       "      <td>1</td>\n",
       "    </tr>\n",
       "    <tr>\n",
       "      <td>1445</td>\n",
       "      <td>2017-04-21 18:36:44</td>\n",
       "      <td>search</td>\n",
       "      <td>60225f</td>\n",
       "      <td>2017-06-01</td>\n",
       "      <td>2017-06-07</td>\n",
       "      <td>PAR</td>\n",
       "      <td>NYC</td>\n",
       "      <td>6</td>\n",
       "      <td>1</td>\n",
       "    </tr>\n",
       "    <tr>\n",
       "      <td>1832</td>\n",
       "      <td>2017-04-21 18:36:44</td>\n",
       "      <td>search</td>\n",
       "      <td>60225f</td>\n",
       "      <td>2017-06-01</td>\n",
       "      <td>2017-06-07</td>\n",
       "      <td>PAR</td>\n",
       "      <td>NYC</td>\n",
       "      <td>6</td>\n",
       "      <td>1</td>\n",
       "    </tr>\n",
       "    <tr>\n",
       "      <td>2200</td>\n",
       "      <td>2017-04-21 18:58:33</td>\n",
       "      <td>search</td>\n",
       "      <td>60225f</td>\n",
       "      <td>2017-06-01</td>\n",
       "      <td>2017-06-07</td>\n",
       "      <td>PAR</td>\n",
       "      <td>NYC</td>\n",
       "      <td>6</td>\n",
       "      <td>1</td>\n",
       "    </tr>\n",
       "    <tr>\n",
       "      <td>2908</td>\n",
       "      <td>2017-04-21 18:36:42</td>\n",
       "      <td>search</td>\n",
       "      <td>60225f</td>\n",
       "      <td>2017-06-01</td>\n",
       "      <td>2017-06-07</td>\n",
       "      <td>PAR</td>\n",
       "      <td>NYC</td>\n",
       "      <td>6</td>\n",
       "      <td>1</td>\n",
       "    </tr>\n",
       "    <tr>\n",
       "      <td>8658</td>\n",
       "      <td>2017-04-27 11:57:18</td>\n",
       "      <td>book</td>\n",
       "      <td>60225f</td>\n",
       "      <td>2017-06-01</td>\n",
       "      <td>2017-06-07</td>\n",
       "      <td>PAR</td>\n",
       "      <td>NYC</td>\n",
       "      <td>6</td>\n",
       "      <td>1</td>\n",
       "    </tr>\n",
       "    <tr>\n",
       "      <td>9528</td>\n",
       "      <td>2017-04-27 11:40:39</td>\n",
       "      <td>search</td>\n",
       "      <td>60225f</td>\n",
       "      <td>2017-06-01</td>\n",
       "      <td>2017-06-07</td>\n",
       "      <td>PAR</td>\n",
       "      <td>NYC</td>\n",
       "      <td>6</td>\n",
       "      <td>1</td>\n",
       "    </tr>\n",
       "  </tbody>\n",
       "</table>\n",
       "</div>"
      ],
      "text/plain": [
       "                      ts event_type user_id  date_from    date_to origin  \\\n",
       "0    2017-04-27 11:06:51     search  60225f 2017-06-01 2017-06-07    PAR   \n",
       "731  2017-04-21 18:05:01     search  60225f 2017-06-01 2017-06-07    PAR   \n",
       "1387 2017-04-21 19:54:07     search  60225f 2017-06-01 2017-06-07    PAR   \n",
       "1445 2017-04-21 18:36:44     search  60225f 2017-06-01 2017-06-07    PAR   \n",
       "1832 2017-04-21 18:36:44     search  60225f 2017-06-01 2017-06-07    PAR   \n",
       "2200 2017-04-21 18:58:33     search  60225f 2017-06-01 2017-06-07    PAR   \n",
       "2908 2017-04-21 18:36:42     search  60225f 2017-06-01 2017-06-07    PAR   \n",
       "8658 2017-04-27 11:57:18       book  60225f 2017-06-01 2017-06-07    PAR   \n",
       "9528 2017-04-27 11:40:39     search  60225f 2017-06-01 2017-06-07    PAR   \n",
       "\n",
       "     destination  num_adults  num_children  \n",
       "0            NYC           6             1  \n",
       "731          NYC           6             1  \n",
       "1387         NYC           6             1  \n",
       "1445         NYC           6             1  \n",
       "1832         NYC           6             1  \n",
       "2200         NYC           6             1  \n",
       "2908         NYC           6             1  \n",
       "8658         NYC           6             1  \n",
       "9528         NYC           6             1  "
      ]
     },
     "execution_count": 151,
     "metadata": {},
     "output_type": "execute_result"
    }
   ],
   "source": [
    "df_event[df_event['user_id']=='60225f']"
   ]
  },
  {
   "cell_type": "code",
   "execution_count": 152,
   "metadata": {
    "collapsed": true,
    "jupyter": {
     "outputs_hidden": true
    }
   },
   "outputs": [
    {
     "data": {
      "text/html": [
       "<div>\n",
       "<style scoped>\n",
       "    .dataframe tbody tr th:only-of-type {\n",
       "        vertical-align: middle;\n",
       "    }\n",
       "\n",
       "    .dataframe tbody tr th {\n",
       "        vertical-align: top;\n",
       "    }\n",
       "\n",
       "    .dataframe thead th {\n",
       "        text-align: right;\n",
       "    }\n",
       "</style>\n",
       "<table border=\"1\" class=\"dataframe\">\n",
       "  <thead>\n",
       "    <tr style=\"text-align: right;\">\n",
       "      <th></th>\n",
       "      <th>ts</th>\n",
       "      <th>event_type</th>\n",
       "      <th>user_id</th>\n",
       "      <th>date_from</th>\n",
       "      <th>date_to</th>\n",
       "      <th>origin</th>\n",
       "      <th>destination</th>\n",
       "      <th>num_adults</th>\n",
       "      <th>num_children</th>\n",
       "    </tr>\n",
       "  </thead>\n",
       "  <tbody>\n",
       "    <tr>\n",
       "      <td>1</td>\n",
       "      <td>2017-04-27 20:15:27</td>\n",
       "      <td>book</td>\n",
       "      <td>e5d69e</td>\n",
       "      <td>2017-08-12</td>\n",
       "      <td>2017-09-02</td>\n",
       "      <td>FRA</td>\n",
       "      <td>WAS</td>\n",
       "      <td>3</td>\n",
       "      <td>1</td>\n",
       "    </tr>\n",
       "    <tr>\n",
       "      <td>506</td>\n",
       "      <td>2017-04-27 18:35:15</td>\n",
       "      <td>search</td>\n",
       "      <td>e5d69e</td>\n",
       "      <td>2017-08-12</td>\n",
       "      <td>2017-09-02</td>\n",
       "      <td>FRA</td>\n",
       "      <td>WAS</td>\n",
       "      <td>3</td>\n",
       "      <td>1</td>\n",
       "    </tr>\n",
       "    <tr>\n",
       "      <td>5418</td>\n",
       "      <td>2017-04-27 19:06:31</td>\n",
       "      <td>search</td>\n",
       "      <td>e5d69e</td>\n",
       "      <td>2017-08-12</td>\n",
       "      <td>2017-09-02</td>\n",
       "      <td>FRA</td>\n",
       "      <td>WAS</td>\n",
       "      <td>3</td>\n",
       "      <td>1</td>\n",
       "    </tr>\n",
       "    <tr>\n",
       "      <td>8662</td>\n",
       "      <td>2017-04-27 20:08:13</td>\n",
       "      <td>search</td>\n",
       "      <td>e5d69e</td>\n",
       "      <td>2017-08-12</td>\n",
       "      <td>2017-09-02</td>\n",
       "      <td>FRA</td>\n",
       "      <td>WAS</td>\n",
       "      <td>3</td>\n",
       "      <td>1</td>\n",
       "    </tr>\n",
       "    <tr>\n",
       "      <td>8875</td>\n",
       "      <td>2017-04-27 18:50:46</td>\n",
       "      <td>search</td>\n",
       "      <td>e5d69e</td>\n",
       "      <td>2017-08-12</td>\n",
       "      <td>2017-09-02</td>\n",
       "      <td>FRA</td>\n",
       "      <td>WAS</td>\n",
       "      <td>4</td>\n",
       "      <td>0</td>\n",
       "    </tr>\n",
       "  </tbody>\n",
       "</table>\n",
       "</div>"
      ],
      "text/plain": [
       "                      ts event_type user_id  date_from    date_to origin  \\\n",
       "1    2017-04-27 20:15:27       book  e5d69e 2017-08-12 2017-09-02    FRA   \n",
       "506  2017-04-27 18:35:15     search  e5d69e 2017-08-12 2017-09-02    FRA   \n",
       "5418 2017-04-27 19:06:31     search  e5d69e 2017-08-12 2017-09-02    FRA   \n",
       "8662 2017-04-27 20:08:13     search  e5d69e 2017-08-12 2017-09-02    FRA   \n",
       "8875 2017-04-27 18:50:46     search  e5d69e 2017-08-12 2017-09-02    FRA   \n",
       "\n",
       "     destination  num_adults  num_children  \n",
       "1            WAS           3             1  \n",
       "506          WAS           3             1  \n",
       "5418         WAS           3             1  \n",
       "8662         WAS           3             1  \n",
       "8875         WAS           4             0  "
      ]
     },
     "execution_count": 152,
     "metadata": {},
     "output_type": "execute_result"
    }
   ],
   "source": [
    "df_event[df_event['user_id']=='e5d69e']"
   ]
  },
  {
   "cell_type": "code",
   "execution_count": 153,
   "metadata": {
    "collapsed": true,
    "jupyter": {
     "outputs_hidden": true
    }
   },
   "outputs": [
    {
     "data": {
      "text/html": [
       "<div>\n",
       "<style scoped>\n",
       "    .dataframe tbody tr th:only-of-type {\n",
       "        vertical-align: middle;\n",
       "    }\n",
       "\n",
       "    .dataframe tbody tr th {\n",
       "        vertical-align: top;\n",
       "    }\n",
       "\n",
       "    .dataframe thead th {\n",
       "        text-align: right;\n",
       "    }\n",
       "</style>\n",
       "<table border=\"1\" class=\"dataframe\">\n",
       "  <thead>\n",
       "    <tr style=\"text-align: right;\">\n",
       "      <th></th>\n",
       "      <th>ts</th>\n",
       "      <th>event_type</th>\n",
       "      <th>user_id</th>\n",
       "      <th>date_from</th>\n",
       "      <th>date_to</th>\n",
       "      <th>origin</th>\n",
       "      <th>destination</th>\n",
       "      <th>num_adults</th>\n",
       "      <th>num_children</th>\n",
       "    </tr>\n",
       "  </thead>\n",
       "  <tbody>\n",
       "    <tr>\n",
       "      <td>34</td>\n",
       "      <td>2017-04-27 22:39:53</td>\n",
       "      <td>search</td>\n",
       "      <td>6600e0</td>\n",
       "      <td>2017-10-05</td>\n",
       "      <td>2017-10-20</td>\n",
       "      <td>FRA</td>\n",
       "      <td>IST</td>\n",
       "      <td>2</td>\n",
       "      <td>0</td>\n",
       "    </tr>\n",
       "    <tr>\n",
       "      <td>152</td>\n",
       "      <td>2017-04-27 22:39:53</td>\n",
       "      <td>search</td>\n",
       "      <td>6600e0</td>\n",
       "      <td>2017-10-05</td>\n",
       "      <td>2017-10-20</td>\n",
       "      <td>FRA</td>\n",
       "      <td>IST</td>\n",
       "      <td>2</td>\n",
       "      <td>0</td>\n",
       "    </tr>\n",
       "    <tr>\n",
       "      <td>205</td>\n",
       "      <td>2017-04-27 22:39:52</td>\n",
       "      <td>search</td>\n",
       "      <td>6600e0</td>\n",
       "      <td>2017-10-05</td>\n",
       "      <td>2017-10-20</td>\n",
       "      <td>FRA</td>\n",
       "      <td>IST</td>\n",
       "      <td>2</td>\n",
       "      <td>0</td>\n",
       "    </tr>\n",
       "    <tr>\n",
       "      <td>10027</td>\n",
       "      <td>2017-04-27 22:38:03</td>\n",
       "      <td>search</td>\n",
       "      <td>6600e0</td>\n",
       "      <td>2017-10-05</td>\n",
       "      <td>2017-10-20</td>\n",
       "      <td>FRA</td>\n",
       "      <td>IST</td>\n",
       "      <td>2</td>\n",
       "      <td>0</td>\n",
       "    </tr>\n",
       "  </tbody>\n",
       "</table>\n",
       "</div>"
      ],
      "text/plain": [
       "                       ts event_type user_id  date_from    date_to origin  \\\n",
       "34    2017-04-27 22:39:53     search  6600e0 2017-10-05 2017-10-20    FRA   \n",
       "152   2017-04-27 22:39:53     search  6600e0 2017-10-05 2017-10-20    FRA   \n",
       "205   2017-04-27 22:39:52     search  6600e0 2017-10-05 2017-10-20    FRA   \n",
       "10027 2017-04-27 22:38:03     search  6600e0 2017-10-05 2017-10-20    FRA   \n",
       "\n",
       "      destination  num_adults  num_children  \n",
       "34            IST           2             0  \n",
       "152           IST           2             0  \n",
       "205           IST           2             0  \n",
       "10027         IST           2             0  "
      ]
     },
     "execution_count": 153,
     "metadata": {},
     "output_type": "execute_result"
    }
   ],
   "source": [
    "df_event[df_event['user_id']=='6600e0']"
   ]
  },
  {
   "cell_type": "code",
   "execution_count": 154,
   "metadata": {
    "collapsed": true,
    "jupyter": {
     "outputs_hidden": true
    }
   },
   "outputs": [
    {
     "data": {
      "text/html": [
       "<div>\n",
       "<style scoped>\n",
       "    .dataframe tbody tr th:only-of-type {\n",
       "        vertical-align: middle;\n",
       "    }\n",
       "\n",
       "    .dataframe tbody tr th {\n",
       "        vertical-align: top;\n",
       "    }\n",
       "\n",
       "    .dataframe thead th {\n",
       "        text-align: right;\n",
       "    }\n",
       "</style>\n",
       "<table border=\"1\" class=\"dataframe\">\n",
       "  <thead>\n",
       "    <tr style=\"text-align: right;\">\n",
       "      <th></th>\n",
       "      <th>ts</th>\n",
       "      <th>event_type</th>\n",
       "      <th>user_id</th>\n",
       "      <th>date_from</th>\n",
       "      <th>date_to</th>\n",
       "      <th>origin</th>\n",
       "      <th>destination</th>\n",
       "      <th>num_adults</th>\n",
       "      <th>num_children</th>\n",
       "    </tr>\n",
       "  </thead>\n",
       "  <tbody>\n",
       "    <tr>\n",
       "      <td>27</td>\n",
       "      <td>2017-04-29 00:24:16</td>\n",
       "      <td>search</td>\n",
       "      <td>dea471</td>\n",
       "      <td>2017-05-05</td>\n",
       "      <td>2017-05-05</td>\n",
       "      <td>MOW</td>\n",
       "      <td>STR</td>\n",
       "      <td>1</td>\n",
       "      <td>0</td>\n",
       "    </tr>\n",
       "    <tr>\n",
       "      <td>407</td>\n",
       "      <td>2017-04-29 00:27:16</td>\n",
       "      <td>search</td>\n",
       "      <td>dea471</td>\n",
       "      <td>2017-05-05</td>\n",
       "      <td>2017-05-05</td>\n",
       "      <td>MOW</td>\n",
       "      <td>STR</td>\n",
       "      <td>1</td>\n",
       "      <td>0</td>\n",
       "    </tr>\n",
       "    <tr>\n",
       "      <td>4321</td>\n",
       "      <td>2017-04-28 23:45:47</td>\n",
       "      <td>search</td>\n",
       "      <td>dea471</td>\n",
       "      <td>2017-05-05</td>\n",
       "      <td>2017-05-05</td>\n",
       "      <td>MOW</td>\n",
       "      <td>STR</td>\n",
       "      <td>1</td>\n",
       "      <td>0</td>\n",
       "    </tr>\n",
       "    <tr>\n",
       "      <td>5035</td>\n",
       "      <td>2017-04-28 23:54:12</td>\n",
       "      <td>search</td>\n",
       "      <td>dea471</td>\n",
       "      <td>2017-05-05</td>\n",
       "      <td>2017-05-05</td>\n",
       "      <td>MOW</td>\n",
       "      <td>STR</td>\n",
       "      <td>1</td>\n",
       "      <td>0</td>\n",
       "    </tr>\n",
       "    <tr>\n",
       "      <td>7298</td>\n",
       "      <td>2017-04-28 23:54:05</td>\n",
       "      <td>search</td>\n",
       "      <td>dea471</td>\n",
       "      <td>2017-05-05</td>\n",
       "      <td>2017-05-05</td>\n",
       "      <td>MOW</td>\n",
       "      <td>STR</td>\n",
       "      <td>1</td>\n",
       "      <td>0</td>\n",
       "    </tr>\n",
       "    <tr>\n",
       "      <td>8457</td>\n",
       "      <td>2017-04-29 00:00:11</td>\n",
       "      <td>search</td>\n",
       "      <td>dea471</td>\n",
       "      <td>2017-05-05</td>\n",
       "      <td>2017-05-05</td>\n",
       "      <td>MOW</td>\n",
       "      <td>STR</td>\n",
       "      <td>1</td>\n",
       "      <td>0</td>\n",
       "    </tr>\n",
       "    <tr>\n",
       "      <td>9586</td>\n",
       "      <td>2017-04-29 00:06:57</td>\n",
       "      <td>search</td>\n",
       "      <td>dea471</td>\n",
       "      <td>2017-05-05</td>\n",
       "      <td>2017-05-05</td>\n",
       "      <td>MOW</td>\n",
       "      <td>STR</td>\n",
       "      <td>1</td>\n",
       "      <td>0</td>\n",
       "    </tr>\n",
       "  </tbody>\n",
       "</table>\n",
       "</div>"
      ],
      "text/plain": [
       "                      ts event_type user_id  date_from    date_to origin  \\\n",
       "27   2017-04-29 00:24:16     search  dea471 2017-05-05 2017-05-05    MOW   \n",
       "407  2017-04-29 00:27:16     search  dea471 2017-05-05 2017-05-05    MOW   \n",
       "4321 2017-04-28 23:45:47     search  dea471 2017-05-05 2017-05-05    MOW   \n",
       "5035 2017-04-28 23:54:12     search  dea471 2017-05-05 2017-05-05    MOW   \n",
       "7298 2017-04-28 23:54:05     search  dea471 2017-05-05 2017-05-05    MOW   \n",
       "8457 2017-04-29 00:00:11     search  dea471 2017-05-05 2017-05-05    MOW   \n",
       "9586 2017-04-29 00:06:57     search  dea471 2017-05-05 2017-05-05    MOW   \n",
       "\n",
       "     destination  num_adults  num_children  \n",
       "27           STR           1             0  \n",
       "407          STR           1             0  \n",
       "4321         STR           1             0  \n",
       "5035         STR           1             0  \n",
       "7298         STR           1             0  \n",
       "8457         STR           1             0  \n",
       "9586         STR           1             0  "
      ]
     },
     "execution_count": 154,
     "metadata": {},
     "output_type": "execute_result"
    }
   ],
   "source": [
    "df_event[df_event['user_id']=='dea471']"
   ]
  },
  {
   "cell_type": "code",
   "execution_count": 155,
   "metadata": {
    "collapsed": true,
    "jupyter": {
     "outputs_hidden": true
    }
   },
   "outputs": [
    {
     "data": {
      "text/plain": [
       "MUC    1179\n",
       "DUS    1149\n",
       "FRA    1018\n",
       "BER     979\n",
       "HAM     947\n",
       "PAR     735\n",
       "STR     601\n",
       "CGN     515\n",
       "TXL     196\n",
       "LYS     130\n",
       "NCE     102\n",
       "TLS      98\n",
       "ZRH      97\n",
       "ORY      96\n",
       "CDG      94\n",
       "MRS      89\n",
       "BCN      70\n",
       "AMS      68\n",
       "SXF      66\n",
       "IST      52\n",
       "Name: origin, dtype: int64"
      ]
     },
     "execution_count": 155,
     "metadata": {},
     "output_type": "execute_result"
    }
   ],
   "source": [
    "df_event_booked['origin'].value_counts()[:20]"
   ]
  },
  {
   "cell_type": "code",
   "execution_count": 156,
   "metadata": {
    "collapsed": true,
    "jupyter": {
     "outputs_hidden": true
    }
   },
   "outputs": [
    {
     "data": {
      "text/plain": [
       "PAR    5275\n",
       "FRA    4795\n",
       "MUC    3459\n",
       "DUS    3321\n",
       "HAM    2752\n",
       "BER    2522\n",
       "STR    2083\n",
       "CGN    1682\n",
       "LYS    1430\n",
       "CDG    1212\n",
       "TLS     887\n",
       "ORY     870\n",
       "MRS     807\n",
       "NCE     619\n",
       "TXL     494\n",
       "AMS     382\n",
       "GVA     372\n",
       "ZRH     351\n",
       "BRU     207\n",
       "BCN     198\n",
       "Name: origin, dtype: int64"
      ]
     },
     "execution_count": 156,
     "metadata": {},
     "output_type": "execute_result"
    }
   ],
   "source": [
    "df_event_searched['origin'].value_counts()[:20]"
   ]
  },
  {
   "cell_type": "code",
   "execution_count": 157,
   "metadata": {},
   "outputs": [
    {
     "data": {
      "text/plain": [
       "(37517, 9)"
      ]
     },
     "execution_count": 157,
     "metadata": {},
     "output_type": "execute_result"
    }
   ],
   "source": [
    "df_event_searched.shape"
   ]
  },
  {
   "cell_type": "code",
   "execution_count": 158,
   "metadata": {},
   "outputs": [],
   "source": [
    "searched_origin = df_event_searched.groupby('user_id')['origin'].unique().reset_index()"
   ]
  },
  {
   "cell_type": "code",
   "execution_count": 159,
   "metadata": {
    "collapsed": true,
    "jupyter": {
     "outputs_hidden": true
    }
   },
   "outputs": [
    {
     "data": {
      "text/html": [
       "<div>\n",
       "<style scoped>\n",
       "    .dataframe tbody tr th:only-of-type {\n",
       "        vertical-align: middle;\n",
       "    }\n",
       "\n",
       "    .dataframe tbody tr th {\n",
       "        vertical-align: top;\n",
       "    }\n",
       "\n",
       "    .dataframe thead th {\n",
       "        text-align: right;\n",
       "    }\n",
       "</style>\n",
       "<table border=\"1\" class=\"dataframe\">\n",
       "  <thead>\n",
       "    <tr style=\"text-align: right;\">\n",
       "      <th></th>\n",
       "      <th>user_id</th>\n",
       "      <th>origin</th>\n",
       "    </tr>\n",
       "  </thead>\n",
       "  <tbody>\n",
       "    <tr>\n",
       "      <td>0</td>\n",
       "      <td>000069</td>\n",
       "      <td>[FRA]</td>\n",
       "    </tr>\n",
       "    <tr>\n",
       "      <td>1</td>\n",
       "      <td>00019d</td>\n",
       "      <td>[PAR]</td>\n",
       "    </tr>\n",
       "  </tbody>\n",
       "</table>\n",
       "</div>"
      ],
      "text/plain": [
       "  user_id origin\n",
       "0  000069  [FRA]\n",
       "1  00019d  [PAR]"
      ]
     },
     "execution_count": 159,
     "metadata": {},
     "output_type": "execute_result"
    }
   ],
   "source": [
    "searched_origin.head(2)"
   ]
  },
  {
   "cell_type": "code",
   "execution_count": 160,
   "metadata": {},
   "outputs": [
    {
     "data": {
      "text/plain": [
       "(29374, 2)"
      ]
     },
     "execution_count": 160,
     "metadata": {},
     "output_type": "execute_result"
    }
   ],
   "source": [
    "searched_origin.shape"
   ]
  },
  {
   "cell_type": "code",
   "execution_count": 161,
   "metadata": {},
   "outputs": [],
   "source": [
    "df_event_sorted = df_event.sort_values(by = ['user_id', 'ts'], ascending=True)"
   ]
  },
  {
   "cell_type": "code",
   "execution_count": 162,
   "metadata": {},
   "outputs": [
    {
     "data": {
      "text/html": [
       "<div>\n",
       "<style scoped>\n",
       "    .dataframe tbody tr th:only-of-type {\n",
       "        vertical-align: middle;\n",
       "    }\n",
       "\n",
       "    .dataframe tbody tr th {\n",
       "        vertical-align: top;\n",
       "    }\n",
       "\n",
       "    .dataframe thead th {\n",
       "        text-align: right;\n",
       "    }\n",
       "</style>\n",
       "<table border=\"1\" class=\"dataframe\">\n",
       "  <thead>\n",
       "    <tr style=\"text-align: right;\">\n",
       "      <th></th>\n",
       "      <th>ts</th>\n",
       "      <th>event_type</th>\n",
       "      <th>user_id</th>\n",
       "      <th>date_from</th>\n",
       "      <th>date_to</th>\n",
       "      <th>origin</th>\n",
       "      <th>destination</th>\n",
       "      <th>num_adults</th>\n",
       "      <th>num_children</th>\n",
       "    </tr>\n",
       "  </thead>\n",
       "  <tbody>\n",
       "    <tr>\n",
       "      <td>10873</td>\n",
       "      <td>2017-04-29 17:59:51</td>\n",
       "      <td>search</td>\n",
       "      <td>000069</td>\n",
       "      <td>2017-05-10</td>\n",
       "      <td>2017-05-26</td>\n",
       "      <td>FRA</td>\n",
       "      <td>ALG</td>\n",
       "      <td>2</td>\n",
       "      <td>3</td>\n",
       "    </tr>\n",
       "    <tr>\n",
       "      <td>12331</td>\n",
       "      <td>2017-04-28 19:14:23</td>\n",
       "      <td>search</td>\n",
       "      <td>00019d</td>\n",
       "      <td>2017-09-15</td>\n",
       "      <td>2017-10-13</td>\n",
       "      <td>PAR</td>\n",
       "      <td>SSA</td>\n",
       "      <td>4</td>\n",
       "      <td>0</td>\n",
       "    </tr>\n",
       "    <tr>\n",
       "      <td>26506</td>\n",
       "      <td>2017-04-24 21:25:10</td>\n",
       "      <td>search</td>\n",
       "      <td>0002e3</td>\n",
       "      <td>2017-05-01</td>\n",
       "      <td>2017-05-01</td>\n",
       "      <td>PAR</td>\n",
       "      <td>ATH</td>\n",
       "      <td>1</td>\n",
       "      <td>0</td>\n",
       "    </tr>\n",
       "    <tr>\n",
       "      <td>31638</td>\n",
       "      <td>2017-04-27 16:34:02</td>\n",
       "      <td>search</td>\n",
       "      <td>000332</td>\n",
       "      <td>2017-06-08</td>\n",
       "      <td>2017-07-07</td>\n",
       "      <td>NCE</td>\n",
       "      <td>TLV</td>\n",
       "      <td>1</td>\n",
       "      <td>0</td>\n",
       "    </tr>\n",
       "    <tr>\n",
       "      <td>20112</td>\n",
       "      <td>2017-04-27 16:35:35</td>\n",
       "      <td>search</td>\n",
       "      <td>000332</td>\n",
       "      <td>2017-06-08</td>\n",
       "      <td>2017-07-07</td>\n",
       "      <td>NCE</td>\n",
       "      <td>TLV</td>\n",
       "      <td>1</td>\n",
       "      <td>0</td>\n",
       "    </tr>\n",
       "    <tr>\n",
       "      <td>37051</td>\n",
       "      <td>2017-04-27 16:39:10</td>\n",
       "      <td>search</td>\n",
       "      <td>000332</td>\n",
       "      <td>2017-06-08</td>\n",
       "      <td>2017-07-07</td>\n",
       "      <td>NCE</td>\n",
       "      <td>TLV</td>\n",
       "      <td>2</td>\n",
       "      <td>0</td>\n",
       "    </tr>\n",
       "    <tr>\n",
       "      <td>24297</td>\n",
       "      <td>2017-04-27 21:24:01</td>\n",
       "      <td>search</td>\n",
       "      <td>000332</td>\n",
       "      <td>2017-06-08</td>\n",
       "      <td>2017-07-07</td>\n",
       "      <td>TLV</td>\n",
       "      <td>NCE</td>\n",
       "      <td>2</td>\n",
       "      <td>0</td>\n",
       "    </tr>\n",
       "    <tr>\n",
       "      <td>25896</td>\n",
       "      <td>2017-04-29 01:06:18</td>\n",
       "      <td>search</td>\n",
       "      <td>0004e1</td>\n",
       "      <td>2017-07-19</td>\n",
       "      <td>2017-07-25</td>\n",
       "      <td>MUC</td>\n",
       "      <td>ROM</td>\n",
       "      <td>1</td>\n",
       "      <td>0</td>\n",
       "    </tr>\n",
       "    <tr>\n",
       "      <td>21959</td>\n",
       "      <td>2017-04-29 01:06:41</td>\n",
       "      <td>search</td>\n",
       "      <td>0004e1</td>\n",
       "      <td>2017-07-19</td>\n",
       "      <td>2017-07-25</td>\n",
       "      <td>MUC</td>\n",
       "      <td>ROM</td>\n",
       "      <td>1</td>\n",
       "      <td>0</td>\n",
       "    </tr>\n",
       "    <tr>\n",
       "      <td>16864</td>\n",
       "      <td>2017-04-29 23:42:19</td>\n",
       "      <td>search</td>\n",
       "      <td>0004f1</td>\n",
       "      <td>2017-09-15</td>\n",
       "      <td>2017-10-05</td>\n",
       "      <td>LYS</td>\n",
       "      <td>YUL</td>\n",
       "      <td>2</td>\n",
       "      <td>0</td>\n",
       "    </tr>\n",
       "  </tbody>\n",
       "</table>\n",
       "</div>"
      ],
      "text/plain": [
       "                       ts event_type user_id  date_from    date_to origin  \\\n",
       "10873 2017-04-29 17:59:51     search  000069 2017-05-10 2017-05-26    FRA   \n",
       "12331 2017-04-28 19:14:23     search  00019d 2017-09-15 2017-10-13    PAR   \n",
       "26506 2017-04-24 21:25:10     search  0002e3 2017-05-01 2017-05-01    PAR   \n",
       "31638 2017-04-27 16:34:02     search  000332 2017-06-08 2017-07-07    NCE   \n",
       "20112 2017-04-27 16:35:35     search  000332 2017-06-08 2017-07-07    NCE   \n",
       "37051 2017-04-27 16:39:10     search  000332 2017-06-08 2017-07-07    NCE   \n",
       "24297 2017-04-27 21:24:01     search  000332 2017-06-08 2017-07-07    TLV   \n",
       "25896 2017-04-29 01:06:18     search  0004e1 2017-07-19 2017-07-25    MUC   \n",
       "21959 2017-04-29 01:06:41     search  0004e1 2017-07-19 2017-07-25    MUC   \n",
       "16864 2017-04-29 23:42:19     search  0004f1 2017-09-15 2017-10-05    LYS   \n",
       "\n",
       "      destination  num_adults  num_children  \n",
       "10873         ALG           2             3  \n",
       "12331         SSA           4             0  \n",
       "26506         ATH           1             0  \n",
       "31638         TLV           1             0  \n",
       "20112         TLV           1             0  \n",
       "37051         TLV           2             0  \n",
       "24297         NCE           2             0  \n",
       "25896         ROM           1             0  \n",
       "21959         ROM           1             0  \n",
       "16864         YUL           2             0  "
      ]
     },
     "execution_count": 162,
     "metadata": {},
     "output_type": "execute_result"
    }
   ],
   "source": [
    "df_event_sorted.head(10)"
   ]
  },
  {
   "cell_type": "code",
   "execution_count": 163,
   "metadata": {
    "collapsed": true,
    "jupyter": {
     "outputs_hidden": true
    }
   },
   "outputs": [
    {
     "data": {
      "text/html": [
       "<div>\n",
       "<style scoped>\n",
       "    .dataframe tbody tr th:only-of-type {\n",
       "        vertical-align: middle;\n",
       "    }\n",
       "\n",
       "    .dataframe tbody tr th {\n",
       "        vertical-align: top;\n",
       "    }\n",
       "\n",
       "    .dataframe thead th {\n",
       "        text-align: right;\n",
       "    }\n",
       "</style>\n",
       "<table border=\"1\" class=\"dataframe\">\n",
       "  <thead>\n",
       "    <tr style=\"text-align: right;\">\n",
       "      <th></th>\n",
       "      <th>ts</th>\n",
       "      <th>event_type</th>\n",
       "      <th>user_id</th>\n",
       "      <th>date_from</th>\n",
       "      <th>date_to</th>\n",
       "      <th>origin</th>\n",
       "      <th>destination</th>\n",
       "      <th>num_adults</th>\n",
       "      <th>num_children</th>\n",
       "      <th>max_count</th>\n",
       "    </tr>\n",
       "  </thead>\n",
       "  <tbody>\n",
       "    <tr>\n",
       "      <td>10873</td>\n",
       "      <td>2017-04-29 17:59:51</td>\n",
       "      <td>search</td>\n",
       "      <td>000069</td>\n",
       "      <td>2017-05-10</td>\n",
       "      <td>2017-05-26</td>\n",
       "      <td>FRA</td>\n",
       "      <td>ALG</td>\n",
       "      <td>2</td>\n",
       "      <td>3</td>\n",
       "      <td>1</td>\n",
       "    </tr>\n",
       "    <tr>\n",
       "      <td>12331</td>\n",
       "      <td>2017-04-28 19:14:23</td>\n",
       "      <td>search</td>\n",
       "      <td>00019d</td>\n",
       "      <td>2017-09-15</td>\n",
       "      <td>2017-10-13</td>\n",
       "      <td>PAR</td>\n",
       "      <td>SSA</td>\n",
       "      <td>4</td>\n",
       "      <td>0</td>\n",
       "      <td>1</td>\n",
       "    </tr>\n",
       "    <tr>\n",
       "      <td>26506</td>\n",
       "      <td>2017-04-24 21:25:10</td>\n",
       "      <td>search</td>\n",
       "      <td>0002e3</td>\n",
       "      <td>2017-05-01</td>\n",
       "      <td>2017-05-01</td>\n",
       "      <td>PAR</td>\n",
       "      <td>ATH</td>\n",
       "      <td>1</td>\n",
       "      <td>0</td>\n",
       "      <td>1</td>\n",
       "    </tr>\n",
       "    <tr>\n",
       "      <td>31638</td>\n",
       "      <td>2017-04-27 16:34:02</td>\n",
       "      <td>search</td>\n",
       "      <td>000332</td>\n",
       "      <td>2017-06-08</td>\n",
       "      <td>2017-07-07</td>\n",
       "      <td>NCE</td>\n",
       "      <td>TLV</td>\n",
       "      <td>1</td>\n",
       "      <td>0</td>\n",
       "      <td>4</td>\n",
       "    </tr>\n",
       "    <tr>\n",
       "      <td>20112</td>\n",
       "      <td>2017-04-27 16:35:35</td>\n",
       "      <td>search</td>\n",
       "      <td>000332</td>\n",
       "      <td>2017-06-08</td>\n",
       "      <td>2017-07-07</td>\n",
       "      <td>NCE</td>\n",
       "      <td>TLV</td>\n",
       "      <td>1</td>\n",
       "      <td>0</td>\n",
       "      <td>4</td>\n",
       "    </tr>\n",
       "    <tr>\n",
       "      <td>37051</td>\n",
       "      <td>2017-04-27 16:39:10</td>\n",
       "      <td>search</td>\n",
       "      <td>000332</td>\n",
       "      <td>2017-06-08</td>\n",
       "      <td>2017-07-07</td>\n",
       "      <td>NCE</td>\n",
       "      <td>TLV</td>\n",
       "      <td>2</td>\n",
       "      <td>0</td>\n",
       "      <td>4</td>\n",
       "    </tr>\n",
       "    <tr>\n",
       "      <td>24297</td>\n",
       "      <td>2017-04-27 21:24:01</td>\n",
       "      <td>search</td>\n",
       "      <td>000332</td>\n",
       "      <td>2017-06-08</td>\n",
       "      <td>2017-07-07</td>\n",
       "      <td>TLV</td>\n",
       "      <td>NCE</td>\n",
       "      <td>2</td>\n",
       "      <td>0</td>\n",
       "      <td>4</td>\n",
       "    </tr>\n",
       "    <tr>\n",
       "      <td>25896</td>\n",
       "      <td>2017-04-29 01:06:18</td>\n",
       "      <td>search</td>\n",
       "      <td>0004e1</td>\n",
       "      <td>2017-07-19</td>\n",
       "      <td>2017-07-25</td>\n",
       "      <td>MUC</td>\n",
       "      <td>ROM</td>\n",
       "      <td>1</td>\n",
       "      <td>0</td>\n",
       "      <td>2</td>\n",
       "    </tr>\n",
       "    <tr>\n",
       "      <td>21959</td>\n",
       "      <td>2017-04-29 01:06:41</td>\n",
       "      <td>search</td>\n",
       "      <td>0004e1</td>\n",
       "      <td>2017-07-19</td>\n",
       "      <td>2017-07-25</td>\n",
       "      <td>MUC</td>\n",
       "      <td>ROM</td>\n",
       "      <td>1</td>\n",
       "      <td>0</td>\n",
       "      <td>2</td>\n",
       "    </tr>\n",
       "    <tr>\n",
       "      <td>16864</td>\n",
       "      <td>2017-04-29 23:42:19</td>\n",
       "      <td>search</td>\n",
       "      <td>0004f1</td>\n",
       "      <td>2017-09-15</td>\n",
       "      <td>2017-10-05</td>\n",
       "      <td>LYS</td>\n",
       "      <td>YUL</td>\n",
       "      <td>2</td>\n",
       "      <td>0</td>\n",
       "      <td>2</td>\n",
       "    </tr>\n",
       "  </tbody>\n",
       "</table>\n",
       "</div>"
      ],
      "text/plain": [
       "                       ts event_type user_id  date_from    date_to origin  \\\n",
       "10873 2017-04-29 17:59:51     search  000069 2017-05-10 2017-05-26    FRA   \n",
       "12331 2017-04-28 19:14:23     search  00019d 2017-09-15 2017-10-13    PAR   \n",
       "26506 2017-04-24 21:25:10     search  0002e3 2017-05-01 2017-05-01    PAR   \n",
       "31638 2017-04-27 16:34:02     search  000332 2017-06-08 2017-07-07    NCE   \n",
       "20112 2017-04-27 16:35:35     search  000332 2017-06-08 2017-07-07    NCE   \n",
       "37051 2017-04-27 16:39:10     search  000332 2017-06-08 2017-07-07    NCE   \n",
       "24297 2017-04-27 21:24:01     search  000332 2017-06-08 2017-07-07    TLV   \n",
       "25896 2017-04-29 01:06:18     search  0004e1 2017-07-19 2017-07-25    MUC   \n",
       "21959 2017-04-29 01:06:41     search  0004e1 2017-07-19 2017-07-25    MUC   \n",
       "16864 2017-04-29 23:42:19     search  0004f1 2017-09-15 2017-10-05    LYS   \n",
       "\n",
       "      destination  num_adults  num_children  max_count  \n",
       "10873         ALG           2             3          1  \n",
       "12331         SSA           4             0          1  \n",
       "26506         ATH           1             0          1  \n",
       "31638         TLV           1             0          4  \n",
       "20112         TLV           1             0          4  \n",
       "37051         TLV           2             0          4  \n",
       "24297         NCE           2             0          4  \n",
       "25896         ROM           1             0          2  \n",
       "21959         ROM           1             0          2  \n",
       "16864         YUL           2             0          2  "
      ]
     },
     "execution_count": 163,
     "metadata": {},
     "output_type": "execute_result"
    }
   ],
   "source": [
    "df_event_sorted['max_count'] = df_event_sorted.groupby('user_id')['user_id'].transform('count')\n",
    "df_event_sorted.head(10)"
   ]
  },
  {
   "cell_type": "code",
   "execution_count": 164,
   "metadata": {},
   "outputs": [
    {
     "data": {
      "text/plain": [
       "(Timestamp('2017-04-18 04:41:09'), Timestamp('2017-05-02 04:06:34'))"
      ]
     },
     "execution_count": 164,
     "metadata": {},
     "output_type": "execute_result"
    }
   ],
   "source": [
    "df_event_sorted['ts'].min(),df_event_sorted['ts'].max()"
   ]
  },
  {
   "cell_type": "code",
   "execution_count": 165,
   "metadata": {},
   "outputs": [
    {
     "data": {
      "text/plain": [
       "(371, 376)"
      ]
     },
     "execution_count": 165,
     "metadata": {},
     "output_type": "execute_result"
    }
   ],
   "source": [
    "len(df_event_sorted['date_from'].unique()), len(df_event_sorted['date_to'].unique())"
   ]
  },
  {
   "cell_type": "code",
   "execution_count": 166,
   "metadata": {},
   "outputs": [
    {
     "data": {
      "text/plain": [
       "(array(['000069', '00019d', '0002e3', '000332', '0004e1', '0004f1',\n",
       "        '0006d6', '000a42', '000a72', '000bf6', '000c4e', '000fa9',\n",
       "        '00101a', '001328', '001861', '001a18', '001c62', '001d12',\n",
       "        '001e07', '001e67', '001ec2'], dtype=object),\n",
       " array([1, 1, 1, 4, 2, 2, 2, 2, 1, 1, 1, 1, 1, 2, 1, 1, 1, 2, 1, 1, 1]))"
      ]
     },
     "execution_count": 166,
     "metadata": {},
     "output_type": "execute_result"
    }
   ],
   "source": [
    "np.unique(df_event_sorted['user_id'][:30],return_counts=True)"
   ]
  },
  {
   "cell_type": "code",
   "execution_count": 167,
   "metadata": {},
   "outputs": [],
   "source": [
    "df_event_sorted = df_event_sorted.reset_index()\n",
    "df_event_sorted.drop('index', axis=1, inplace=True)"
   ]
  },
  {
   "cell_type": "code",
   "execution_count": 168,
   "metadata": {},
   "outputs": [
    {
     "data": {
      "text/html": [
       "<div>\n",
       "<style scoped>\n",
       "    .dataframe tbody tr th:only-of-type {\n",
       "        vertical-align: middle;\n",
       "    }\n",
       "\n",
       "    .dataframe tbody tr th {\n",
       "        vertical-align: top;\n",
       "    }\n",
       "\n",
       "    .dataframe thead th {\n",
       "        text-align: right;\n",
       "    }\n",
       "</style>\n",
       "<table border=\"1\" class=\"dataframe\">\n",
       "  <thead>\n",
       "    <tr style=\"text-align: right;\">\n",
       "      <th></th>\n",
       "      <th>ts</th>\n",
       "      <th>event_type</th>\n",
       "      <th>user_id</th>\n",
       "      <th>date_from</th>\n",
       "      <th>date_to</th>\n",
       "      <th>origin</th>\n",
       "      <th>destination</th>\n",
       "      <th>num_adults</th>\n",
       "      <th>num_children</th>\n",
       "      <th>max_count</th>\n",
       "    </tr>\n",
       "  </thead>\n",
       "  <tbody>\n",
       "    <tr>\n",
       "      <td>0</td>\n",
       "      <td>2017-04-29 17:59:51</td>\n",
       "      <td>search</td>\n",
       "      <td>000069</td>\n",
       "      <td>2017-05-10</td>\n",
       "      <td>2017-05-26</td>\n",
       "      <td>FRA</td>\n",
       "      <td>ALG</td>\n",
       "      <td>2</td>\n",
       "      <td>3</td>\n",
       "      <td>1</td>\n",
       "    </tr>\n",
       "    <tr>\n",
       "      <td>1</td>\n",
       "      <td>2017-04-28 19:14:23</td>\n",
       "      <td>search</td>\n",
       "      <td>00019d</td>\n",
       "      <td>2017-09-15</td>\n",
       "      <td>2017-10-13</td>\n",
       "      <td>PAR</td>\n",
       "      <td>SSA</td>\n",
       "      <td>4</td>\n",
       "      <td>0</td>\n",
       "      <td>1</td>\n",
       "    </tr>\n",
       "    <tr>\n",
       "      <td>2</td>\n",
       "      <td>2017-04-24 21:25:10</td>\n",
       "      <td>search</td>\n",
       "      <td>0002e3</td>\n",
       "      <td>2017-05-01</td>\n",
       "      <td>2017-05-01</td>\n",
       "      <td>PAR</td>\n",
       "      <td>ATH</td>\n",
       "      <td>1</td>\n",
       "      <td>0</td>\n",
       "      <td>1</td>\n",
       "    </tr>\n",
       "    <tr>\n",
       "      <td>3</td>\n",
       "      <td>2017-04-27 16:34:02</td>\n",
       "      <td>search</td>\n",
       "      <td>000332</td>\n",
       "      <td>2017-06-08</td>\n",
       "      <td>2017-07-07</td>\n",
       "      <td>NCE</td>\n",
       "      <td>TLV</td>\n",
       "      <td>1</td>\n",
       "      <td>0</td>\n",
       "      <td>4</td>\n",
       "    </tr>\n",
       "    <tr>\n",
       "      <td>4</td>\n",
       "      <td>2017-04-27 16:35:35</td>\n",
       "      <td>search</td>\n",
       "      <td>000332</td>\n",
       "      <td>2017-06-08</td>\n",
       "      <td>2017-07-07</td>\n",
       "      <td>NCE</td>\n",
       "      <td>TLV</td>\n",
       "      <td>1</td>\n",
       "      <td>0</td>\n",
       "      <td>4</td>\n",
       "    </tr>\n",
       "    <tr>\n",
       "      <td>5</td>\n",
       "      <td>2017-04-27 16:39:10</td>\n",
       "      <td>search</td>\n",
       "      <td>000332</td>\n",
       "      <td>2017-06-08</td>\n",
       "      <td>2017-07-07</td>\n",
       "      <td>NCE</td>\n",
       "      <td>TLV</td>\n",
       "      <td>2</td>\n",
       "      <td>0</td>\n",
       "      <td>4</td>\n",
       "    </tr>\n",
       "    <tr>\n",
       "      <td>6</td>\n",
       "      <td>2017-04-27 21:24:01</td>\n",
       "      <td>search</td>\n",
       "      <td>000332</td>\n",
       "      <td>2017-06-08</td>\n",
       "      <td>2017-07-07</td>\n",
       "      <td>TLV</td>\n",
       "      <td>NCE</td>\n",
       "      <td>2</td>\n",
       "      <td>0</td>\n",
       "      <td>4</td>\n",
       "    </tr>\n",
       "    <tr>\n",
       "      <td>7</td>\n",
       "      <td>2017-04-29 01:06:18</td>\n",
       "      <td>search</td>\n",
       "      <td>0004e1</td>\n",
       "      <td>2017-07-19</td>\n",
       "      <td>2017-07-25</td>\n",
       "      <td>MUC</td>\n",
       "      <td>ROM</td>\n",
       "      <td>1</td>\n",
       "      <td>0</td>\n",
       "      <td>2</td>\n",
       "    </tr>\n",
       "    <tr>\n",
       "      <td>8</td>\n",
       "      <td>2017-04-29 01:06:41</td>\n",
       "      <td>search</td>\n",
       "      <td>0004e1</td>\n",
       "      <td>2017-07-19</td>\n",
       "      <td>2017-07-25</td>\n",
       "      <td>MUC</td>\n",
       "      <td>ROM</td>\n",
       "      <td>1</td>\n",
       "      <td>0</td>\n",
       "      <td>2</td>\n",
       "    </tr>\n",
       "    <tr>\n",
       "      <td>9</td>\n",
       "      <td>2017-04-29 23:42:19</td>\n",
       "      <td>search</td>\n",
       "      <td>0004f1</td>\n",
       "      <td>2017-09-15</td>\n",
       "      <td>2017-10-05</td>\n",
       "      <td>LYS</td>\n",
       "      <td>YUL</td>\n",
       "      <td>2</td>\n",
       "      <td>0</td>\n",
       "      <td>2</td>\n",
       "    </tr>\n",
       "  </tbody>\n",
       "</table>\n",
       "</div>"
      ],
      "text/plain": [
       "                   ts event_type user_id  date_from    date_to origin  \\\n",
       "0 2017-04-29 17:59:51     search  000069 2017-05-10 2017-05-26    FRA   \n",
       "1 2017-04-28 19:14:23     search  00019d 2017-09-15 2017-10-13    PAR   \n",
       "2 2017-04-24 21:25:10     search  0002e3 2017-05-01 2017-05-01    PAR   \n",
       "3 2017-04-27 16:34:02     search  000332 2017-06-08 2017-07-07    NCE   \n",
       "4 2017-04-27 16:35:35     search  000332 2017-06-08 2017-07-07    NCE   \n",
       "5 2017-04-27 16:39:10     search  000332 2017-06-08 2017-07-07    NCE   \n",
       "6 2017-04-27 21:24:01     search  000332 2017-06-08 2017-07-07    TLV   \n",
       "7 2017-04-29 01:06:18     search  0004e1 2017-07-19 2017-07-25    MUC   \n",
       "8 2017-04-29 01:06:41     search  0004e1 2017-07-19 2017-07-25    MUC   \n",
       "9 2017-04-29 23:42:19     search  0004f1 2017-09-15 2017-10-05    LYS   \n",
       "\n",
       "  destination  num_adults  num_children  max_count  \n",
       "0         ALG           2             3          1  \n",
       "1         SSA           4             0          1  \n",
       "2         ATH           1             0          1  \n",
       "3         TLV           1             0          4  \n",
       "4         TLV           1             0          4  \n",
       "5         TLV           2             0          4  \n",
       "6         NCE           2             0          4  \n",
       "7         ROM           1             0          2  \n",
       "8         ROM           1             0          2  \n",
       "9         YUL           2             0          2  "
      ]
     },
     "execution_count": 168,
     "metadata": {},
     "output_type": "execute_result"
    }
   ],
   "source": [
    "df_event_sorted.head(10)"
   ]
  },
  {
   "cell_type": "code",
   "execution_count": 169,
   "metadata": {},
   "outputs": [
    {
     "data": {
      "text/html": [
       "<div>\n",
       "<style scoped>\n",
       "    .dataframe tbody tr th:only-of-type {\n",
       "        vertical-align: middle;\n",
       "    }\n",
       "\n",
       "    .dataframe tbody tr th {\n",
       "        vertical-align: top;\n",
       "    }\n",
       "\n",
       "    .dataframe thead th {\n",
       "        text-align: right;\n",
       "    }\n",
       "</style>\n",
       "<table border=\"1\" class=\"dataframe\">\n",
       "  <thead>\n",
       "    <tr style=\"text-align: right;\">\n",
       "      <th></th>\n",
       "      <th>ts</th>\n",
       "      <th>event_type</th>\n",
       "      <th>user_id</th>\n",
       "      <th>date_from</th>\n",
       "      <th>date_to</th>\n",
       "      <th>origin</th>\n",
       "      <th>destination</th>\n",
       "      <th>num_adults</th>\n",
       "      <th>num_children</th>\n",
       "      <th>max_count</th>\n",
       "      <th>act_count</th>\n",
       "    </tr>\n",
       "  </thead>\n",
       "  <tbody>\n",
       "    <tr>\n",
       "      <td>0</td>\n",
       "      <td>2017-04-29 17:59:51</td>\n",
       "      <td>search</td>\n",
       "      <td>000069</td>\n",
       "      <td>2017-05-10</td>\n",
       "      <td>2017-05-26</td>\n",
       "      <td>FRA</td>\n",
       "      <td>ALG</td>\n",
       "      <td>2</td>\n",
       "      <td>3</td>\n",
       "      <td>1</td>\n",
       "      <td>1</td>\n",
       "    </tr>\n",
       "    <tr>\n",
       "      <td>1</td>\n",
       "      <td>2017-04-28 19:14:23</td>\n",
       "      <td>search</td>\n",
       "      <td>00019d</td>\n",
       "      <td>2017-09-15</td>\n",
       "      <td>2017-10-13</td>\n",
       "      <td>PAR</td>\n",
       "      <td>SSA</td>\n",
       "      <td>4</td>\n",
       "      <td>0</td>\n",
       "      <td>1</td>\n",
       "      <td>1</td>\n",
       "    </tr>\n",
       "    <tr>\n",
       "      <td>2</td>\n",
       "      <td>2017-04-24 21:25:10</td>\n",
       "      <td>search</td>\n",
       "      <td>0002e3</td>\n",
       "      <td>2017-05-01</td>\n",
       "      <td>2017-05-01</td>\n",
       "      <td>PAR</td>\n",
       "      <td>ATH</td>\n",
       "      <td>1</td>\n",
       "      <td>0</td>\n",
       "      <td>1</td>\n",
       "      <td>1</td>\n",
       "    </tr>\n",
       "    <tr>\n",
       "      <td>3</td>\n",
       "      <td>2017-04-27 16:34:02</td>\n",
       "      <td>search</td>\n",
       "      <td>000332</td>\n",
       "      <td>2017-06-08</td>\n",
       "      <td>2017-07-07</td>\n",
       "      <td>NCE</td>\n",
       "      <td>TLV</td>\n",
       "      <td>1</td>\n",
       "      <td>0</td>\n",
       "      <td>4</td>\n",
       "      <td>1</td>\n",
       "    </tr>\n",
       "    <tr>\n",
       "      <td>4</td>\n",
       "      <td>2017-04-27 16:35:35</td>\n",
       "      <td>search</td>\n",
       "      <td>000332</td>\n",
       "      <td>2017-06-08</td>\n",
       "      <td>2017-07-07</td>\n",
       "      <td>NCE</td>\n",
       "      <td>TLV</td>\n",
       "      <td>1</td>\n",
       "      <td>0</td>\n",
       "      <td>4</td>\n",
       "      <td>2</td>\n",
       "    </tr>\n",
       "    <tr>\n",
       "      <td>5</td>\n",
       "      <td>2017-04-27 16:39:10</td>\n",
       "      <td>search</td>\n",
       "      <td>000332</td>\n",
       "      <td>2017-06-08</td>\n",
       "      <td>2017-07-07</td>\n",
       "      <td>NCE</td>\n",
       "      <td>TLV</td>\n",
       "      <td>2</td>\n",
       "      <td>0</td>\n",
       "      <td>4</td>\n",
       "      <td>3</td>\n",
       "    </tr>\n",
       "    <tr>\n",
       "      <td>6</td>\n",
       "      <td>2017-04-27 21:24:01</td>\n",
       "      <td>search</td>\n",
       "      <td>000332</td>\n",
       "      <td>2017-06-08</td>\n",
       "      <td>2017-07-07</td>\n",
       "      <td>TLV</td>\n",
       "      <td>NCE</td>\n",
       "      <td>2</td>\n",
       "      <td>0</td>\n",
       "      <td>4</td>\n",
       "      <td>4</td>\n",
       "    </tr>\n",
       "    <tr>\n",
       "      <td>7</td>\n",
       "      <td>2017-04-29 01:06:18</td>\n",
       "      <td>search</td>\n",
       "      <td>0004e1</td>\n",
       "      <td>2017-07-19</td>\n",
       "      <td>2017-07-25</td>\n",
       "      <td>MUC</td>\n",
       "      <td>ROM</td>\n",
       "      <td>1</td>\n",
       "      <td>0</td>\n",
       "      <td>2</td>\n",
       "      <td>1</td>\n",
       "    </tr>\n",
       "    <tr>\n",
       "      <td>8</td>\n",
       "      <td>2017-04-29 01:06:41</td>\n",
       "      <td>search</td>\n",
       "      <td>0004e1</td>\n",
       "      <td>2017-07-19</td>\n",
       "      <td>2017-07-25</td>\n",
       "      <td>MUC</td>\n",
       "      <td>ROM</td>\n",
       "      <td>1</td>\n",
       "      <td>0</td>\n",
       "      <td>2</td>\n",
       "      <td>2</td>\n",
       "    </tr>\n",
       "    <tr>\n",
       "      <td>9</td>\n",
       "      <td>2017-04-29 23:42:19</td>\n",
       "      <td>search</td>\n",
       "      <td>0004f1</td>\n",
       "      <td>2017-09-15</td>\n",
       "      <td>2017-10-05</td>\n",
       "      <td>LYS</td>\n",
       "      <td>YUL</td>\n",
       "      <td>2</td>\n",
       "      <td>0</td>\n",
       "      <td>2</td>\n",
       "      <td>1</td>\n",
       "    </tr>\n",
       "  </tbody>\n",
       "</table>\n",
       "</div>"
      ],
      "text/plain": [
       "                   ts event_type user_id  date_from    date_to origin  \\\n",
       "0 2017-04-29 17:59:51     search  000069 2017-05-10 2017-05-26    FRA   \n",
       "1 2017-04-28 19:14:23     search  00019d 2017-09-15 2017-10-13    PAR   \n",
       "2 2017-04-24 21:25:10     search  0002e3 2017-05-01 2017-05-01    PAR   \n",
       "3 2017-04-27 16:34:02     search  000332 2017-06-08 2017-07-07    NCE   \n",
       "4 2017-04-27 16:35:35     search  000332 2017-06-08 2017-07-07    NCE   \n",
       "5 2017-04-27 16:39:10     search  000332 2017-06-08 2017-07-07    NCE   \n",
       "6 2017-04-27 21:24:01     search  000332 2017-06-08 2017-07-07    TLV   \n",
       "7 2017-04-29 01:06:18     search  0004e1 2017-07-19 2017-07-25    MUC   \n",
       "8 2017-04-29 01:06:41     search  0004e1 2017-07-19 2017-07-25    MUC   \n",
       "9 2017-04-29 23:42:19     search  0004f1 2017-09-15 2017-10-05    LYS   \n",
       "\n",
       "  destination  num_adults  num_children  max_count  act_count  \n",
       "0         ALG           2             3          1          1  \n",
       "1         SSA           4             0          1          1  \n",
       "2         ATH           1             0          1          1  \n",
       "3         TLV           1             0          4          1  \n",
       "4         TLV           1             0          4          2  \n",
       "5         TLV           2             0          4          3  \n",
       "6         NCE           2             0          4          4  \n",
       "7         ROM           1             0          2          1  \n",
       "8         ROM           1             0          2          2  \n",
       "9         YUL           2             0          2          1  "
      ]
     },
     "execution_count": 169,
     "metadata": {},
     "output_type": "execute_result"
    }
   ],
   "source": [
    "df_event_sorted['act_count'] = df_event_sorted.groupby('user_id').cumcount()+1\n",
    "df_event_sorted.head(10)"
   ]
  },
  {
   "cell_type": "code",
   "execution_count": 170,
   "metadata": {},
   "outputs": [
    {
     "data": {
      "text/html": [
       "<div>\n",
       "<style scoped>\n",
       "    .dataframe tbody tr th:only-of-type {\n",
       "        vertical-align: middle;\n",
       "    }\n",
       "\n",
       "    .dataframe tbody tr th {\n",
       "        vertical-align: top;\n",
       "    }\n",
       "\n",
       "    .dataframe thead th {\n",
       "        text-align: right;\n",
       "    }\n",
       "</style>\n",
       "<table border=\"1\" class=\"dataframe\">\n",
       "  <thead>\n",
       "    <tr style=\"text-align: right;\">\n",
       "      <th></th>\n",
       "      <th>ts</th>\n",
       "      <th>event_type</th>\n",
       "      <th>user_id</th>\n",
       "      <th>date_from</th>\n",
       "      <th>date_to</th>\n",
       "      <th>origin</th>\n",
       "      <th>destination</th>\n",
       "      <th>num_adults</th>\n",
       "      <th>num_children</th>\n",
       "      <th>max_count</th>\n",
       "      <th>act_count</th>\n",
       "    </tr>\n",
       "  </thead>\n",
       "  <tbody>\n",
       "    <tr>\n",
       "      <td>46977</td>\n",
       "      <td>2017-04-24 19:32:02</td>\n",
       "      <td>search</td>\n",
       "      <td>ffcf92</td>\n",
       "      <td>2017-09-29</td>\n",
       "      <td>2017-10-06</td>\n",
       "      <td>NCE</td>\n",
       "      <td>LIS</td>\n",
       "      <td>1</td>\n",
       "      <td>0</td>\n",
       "      <td>1</td>\n",
       "      <td>1</td>\n",
       "    </tr>\n",
       "    <tr>\n",
       "      <td>46978</td>\n",
       "      <td>2017-04-29 19:26:50</td>\n",
       "      <td>search</td>\n",
       "      <td>ffd21d</td>\n",
       "      <td>2017-04-30</td>\n",
       "      <td>2017-05-03</td>\n",
       "      <td>BER</td>\n",
       "      <td>ZRH</td>\n",
       "      <td>1</td>\n",
       "      <td>0</td>\n",
       "      <td>4</td>\n",
       "      <td>1</td>\n",
       "    </tr>\n",
       "    <tr>\n",
       "      <td>46979</td>\n",
       "      <td>2017-04-29 19:27:36</td>\n",
       "      <td>search</td>\n",
       "      <td>ffd21d</td>\n",
       "      <td>2017-05-01</td>\n",
       "      <td>2017-05-04</td>\n",
       "      <td>BER</td>\n",
       "      <td>ZRH</td>\n",
       "      <td>1</td>\n",
       "      <td>0</td>\n",
       "      <td>4</td>\n",
       "      <td>2</td>\n",
       "    </tr>\n",
       "    <tr>\n",
       "      <td>46980</td>\n",
       "      <td>2017-04-29 19:27:38</td>\n",
       "      <td>search</td>\n",
       "      <td>ffd21d</td>\n",
       "      <td>2017-05-01</td>\n",
       "      <td>2017-05-04</td>\n",
       "      <td>BER</td>\n",
       "      <td>ZRH</td>\n",
       "      <td>1</td>\n",
       "      <td>0</td>\n",
       "      <td>4</td>\n",
       "      <td>3</td>\n",
       "    </tr>\n",
       "    <tr>\n",
       "      <td>46981</td>\n",
       "      <td>2017-04-29 19:27:38</td>\n",
       "      <td>search</td>\n",
       "      <td>ffd21d</td>\n",
       "      <td>2017-04-30</td>\n",
       "      <td>2017-05-03</td>\n",
       "      <td>BER</td>\n",
       "      <td>ZRH</td>\n",
       "      <td>1</td>\n",
       "      <td>0</td>\n",
       "      <td>4</td>\n",
       "      <td>4</td>\n",
       "    </tr>\n",
       "    <tr>\n",
       "      <td>46982</td>\n",
       "      <td>2017-04-23 17:47:53</td>\n",
       "      <td>search</td>\n",
       "      <td>ffd46e</td>\n",
       "      <td>2017-06-21</td>\n",
       "      <td>2017-06-25</td>\n",
       "      <td>PAR</td>\n",
       "      <td>MAD</td>\n",
       "      <td>1</td>\n",
       "      <td>0</td>\n",
       "      <td>1</td>\n",
       "      <td>1</td>\n",
       "    </tr>\n",
       "    <tr>\n",
       "      <td>46983</td>\n",
       "      <td>2017-04-23 17:48:12</td>\n",
       "      <td>search</td>\n",
       "      <td>ffd48b</td>\n",
       "      <td>2017-04-28</td>\n",
       "      <td>2017-04-28</td>\n",
       "      <td>BCN</td>\n",
       "      <td>DUS</td>\n",
       "      <td>2</td>\n",
       "      <td>0</td>\n",
       "      <td>1</td>\n",
       "      <td>1</td>\n",
       "    </tr>\n",
       "    <tr>\n",
       "      <td>46984</td>\n",
       "      <td>2017-04-21 01:27:18</td>\n",
       "      <td>search</td>\n",
       "      <td>ffd667</td>\n",
       "      <td>2017-08-16</td>\n",
       "      <td>2017-08-25</td>\n",
       "      <td>HAM</td>\n",
       "      <td>MXP</td>\n",
       "      <td>3</td>\n",
       "      <td>0</td>\n",
       "      <td>6</td>\n",
       "      <td>1</td>\n",
       "    </tr>\n",
       "    <tr>\n",
       "      <td>46985</td>\n",
       "      <td>2017-04-21 01:29:02</td>\n",
       "      <td>search</td>\n",
       "      <td>ffd667</td>\n",
       "      <td>2017-08-16</td>\n",
       "      <td>2017-08-25</td>\n",
       "      <td>HAM</td>\n",
       "      <td>MXP</td>\n",
       "      <td>3</td>\n",
       "      <td>0</td>\n",
       "      <td>6</td>\n",
       "      <td>2</td>\n",
       "    </tr>\n",
       "    <tr>\n",
       "      <td>46986</td>\n",
       "      <td>2017-04-21 01:29:02</td>\n",
       "      <td>search</td>\n",
       "      <td>ffd667</td>\n",
       "      <td>2017-08-16</td>\n",
       "      <td>2017-08-25</td>\n",
       "      <td>HAM</td>\n",
       "      <td>MXP</td>\n",
       "      <td>3</td>\n",
       "      <td>0</td>\n",
       "      <td>6</td>\n",
       "      <td>3</td>\n",
       "    </tr>\n",
       "    <tr>\n",
       "      <td>46987</td>\n",
       "      <td>2017-04-21 01:29:02</td>\n",
       "      <td>search</td>\n",
       "      <td>ffd667</td>\n",
       "      <td>2017-08-16</td>\n",
       "      <td>2017-08-25</td>\n",
       "      <td>HAM</td>\n",
       "      <td>MXP</td>\n",
       "      <td>3</td>\n",
       "      <td>0</td>\n",
       "      <td>6</td>\n",
       "      <td>4</td>\n",
       "    </tr>\n",
       "    <tr>\n",
       "      <td>46988</td>\n",
       "      <td>2017-04-21 01:30:12</td>\n",
       "      <td>search</td>\n",
       "      <td>ffd667</td>\n",
       "      <td>2017-08-16</td>\n",
       "      <td>2017-08-25</td>\n",
       "      <td>HAM</td>\n",
       "      <td>MXP</td>\n",
       "      <td>3</td>\n",
       "      <td>0</td>\n",
       "      <td>6</td>\n",
       "      <td>5</td>\n",
       "    </tr>\n",
       "    <tr>\n",
       "      <td>46989</td>\n",
       "      <td>2017-04-21 01:44:07</td>\n",
       "      <td>book</td>\n",
       "      <td>ffd667</td>\n",
       "      <td>2017-08-16</td>\n",
       "      <td>2017-08-25</td>\n",
       "      <td>HAM</td>\n",
       "      <td>MXP</td>\n",
       "      <td>3</td>\n",
       "      <td>0</td>\n",
       "      <td>6</td>\n",
       "      <td>6</td>\n",
       "    </tr>\n",
       "    <tr>\n",
       "      <td>46990</td>\n",
       "      <td>2017-04-23 22:22:29</td>\n",
       "      <td>search</td>\n",
       "      <td>ffdb0b</td>\n",
       "      <td>2017-05-01</td>\n",
       "      <td>2017-05-06</td>\n",
       "      <td>MUC</td>\n",
       "      <td>ATH</td>\n",
       "      <td>1</td>\n",
       "      <td>0</td>\n",
       "      <td>1</td>\n",
       "      <td>1</td>\n",
       "    </tr>\n",
       "    <tr>\n",
       "      <td>46991</td>\n",
       "      <td>2017-05-01 21:24:37</td>\n",
       "      <td>search</td>\n",
       "      <td>ffdbec</td>\n",
       "      <td>2017-05-18</td>\n",
       "      <td>2017-05-23</td>\n",
       "      <td>FRA</td>\n",
       "      <td>LIS</td>\n",
       "      <td>2</td>\n",
       "      <td>0</td>\n",
       "      <td>1</td>\n",
       "      <td>1</td>\n",
       "    </tr>\n",
       "    <tr>\n",
       "      <td>46992</td>\n",
       "      <td>2017-05-01 23:24:04</td>\n",
       "      <td>search</td>\n",
       "      <td>ffdcc4</td>\n",
       "      <td>2017-06-03</td>\n",
       "      <td>2017-06-07</td>\n",
       "      <td>FRA</td>\n",
       "      <td>CKG</td>\n",
       "      <td>1</td>\n",
       "      <td>0</td>\n",
       "      <td>1</td>\n",
       "      <td>1</td>\n",
       "    </tr>\n",
       "    <tr>\n",
       "      <td>46993</td>\n",
       "      <td>2017-04-23 21:56:52</td>\n",
       "      <td>search</td>\n",
       "      <td>ffdd2f</td>\n",
       "      <td>2017-05-06</td>\n",
       "      <td>2017-05-12</td>\n",
       "      <td>FRA</td>\n",
       "      <td>OSL</td>\n",
       "      <td>1</td>\n",
       "      <td>0</td>\n",
       "      <td>1</td>\n",
       "      <td>1</td>\n",
       "    </tr>\n",
       "    <tr>\n",
       "      <td>46994</td>\n",
       "      <td>2017-04-29 19:39:33</td>\n",
       "      <td>search</td>\n",
       "      <td>ffe0a4</td>\n",
       "      <td>2017-06-21</td>\n",
       "      <td>2017-06-24</td>\n",
       "      <td>TXL</td>\n",
       "      <td>BHX</td>\n",
       "      <td>1</td>\n",
       "      <td>0</td>\n",
       "      <td>1</td>\n",
       "      <td>1</td>\n",
       "    </tr>\n",
       "    <tr>\n",
       "      <td>46995</td>\n",
       "      <td>2017-04-29 03:34:27</td>\n",
       "      <td>search</td>\n",
       "      <td>ffe1ec</td>\n",
       "      <td>2017-05-08</td>\n",
       "      <td>2017-06-06</td>\n",
       "      <td>PAR</td>\n",
       "      <td>ANK</td>\n",
       "      <td>1</td>\n",
       "      <td>0</td>\n",
       "      <td>1</td>\n",
       "      <td>1</td>\n",
       "    </tr>\n",
       "    <tr>\n",
       "      <td>46996</td>\n",
       "      <td>2017-04-29 19:49:21</td>\n",
       "      <td>search</td>\n",
       "      <td>ffe752</td>\n",
       "      <td>2017-07-04</td>\n",
       "      <td>2017-07-17</td>\n",
       "      <td>STR</td>\n",
       "      <td>YTO</td>\n",
       "      <td>4</td>\n",
       "      <td>1</td>\n",
       "      <td>1</td>\n",
       "      <td>1</td>\n",
       "    </tr>\n",
       "    <tr>\n",
       "      <td>46997</td>\n",
       "      <td>2017-04-24 19:32:51</td>\n",
       "      <td>search</td>\n",
       "      <td>ffea87</td>\n",
       "      <td>2017-08-23</td>\n",
       "      <td>2017-08-29</td>\n",
       "      <td>CGN</td>\n",
       "      <td>TLV</td>\n",
       "      <td>2</td>\n",
       "      <td>0</td>\n",
       "      <td>1</td>\n",
       "      <td>1</td>\n",
       "    </tr>\n",
       "    <tr>\n",
       "      <td>46998</td>\n",
       "      <td>2017-05-01 13:11:54</td>\n",
       "      <td>search</td>\n",
       "      <td>ffed46</td>\n",
       "      <td>2017-05-17</td>\n",
       "      <td>2017-05-17</td>\n",
       "      <td>TXL</td>\n",
       "      <td>MUC</td>\n",
       "      <td>2</td>\n",
       "      <td>0</td>\n",
       "      <td>1</td>\n",
       "      <td>1</td>\n",
       "    </tr>\n",
       "    <tr>\n",
       "      <td>46999</td>\n",
       "      <td>2017-05-01 04:33:12</td>\n",
       "      <td>search</td>\n",
       "      <td>fff5ec</td>\n",
       "      <td>2017-05-27</td>\n",
       "      <td>2017-05-30</td>\n",
       "      <td>HAM</td>\n",
       "      <td>PMI</td>\n",
       "      <td>1</td>\n",
       "      <td>0</td>\n",
       "      <td>1</td>\n",
       "      <td>1</td>\n",
       "    </tr>\n",
       "    <tr>\n",
       "      <td>47000</td>\n",
       "      <td>2017-04-28 19:33:45</td>\n",
       "      <td>search</td>\n",
       "      <td>fff6a8</td>\n",
       "      <td>2017-06-11</td>\n",
       "      <td>2017-06-26</td>\n",
       "      <td>BER</td>\n",
       "      <td>OSL</td>\n",
       "      <td>1</td>\n",
       "      <td>0</td>\n",
       "      <td>2</td>\n",
       "      <td>1</td>\n",
       "    </tr>\n",
       "    <tr>\n",
       "      <td>47001</td>\n",
       "      <td>2017-04-28 22:13:27</td>\n",
       "      <td>search</td>\n",
       "      <td>fff6a8</td>\n",
       "      <td>2017-06-12</td>\n",
       "      <td>2017-06-12</td>\n",
       "      <td>BER</td>\n",
       "      <td>OSL</td>\n",
       "      <td>1</td>\n",
       "      <td>0</td>\n",
       "      <td>2</td>\n",
       "      <td>2</td>\n",
       "    </tr>\n",
       "    <tr>\n",
       "      <td>47002</td>\n",
       "      <td>2017-04-29 17:06:21</td>\n",
       "      <td>search</td>\n",
       "      <td>fff74a</td>\n",
       "      <td>2017-05-31</td>\n",
       "      <td>2017-06-03</td>\n",
       "      <td>BER</td>\n",
       "      <td>PMI</td>\n",
       "      <td>1</td>\n",
       "      <td>0</td>\n",
       "      <td>1</td>\n",
       "      <td>1</td>\n",
       "    </tr>\n",
       "    <tr>\n",
       "      <td>47003</td>\n",
       "      <td>2017-04-28 22:29:11</td>\n",
       "      <td>search</td>\n",
       "      <td>fff86d</td>\n",
       "      <td>2017-09-07</td>\n",
       "      <td>2017-09-27</td>\n",
       "      <td>PAR</td>\n",
       "      <td>AKL</td>\n",
       "      <td>1</td>\n",
       "      <td>0</td>\n",
       "      <td>1</td>\n",
       "      <td>1</td>\n",
       "    </tr>\n",
       "    <tr>\n",
       "      <td>47004</td>\n",
       "      <td>2017-05-01 01:27:44</td>\n",
       "      <td>search</td>\n",
       "      <td>fff8fc</td>\n",
       "      <td>2017-08-16</td>\n",
       "      <td>2017-09-07</td>\n",
       "      <td>PAR</td>\n",
       "      <td>DPS</td>\n",
       "      <td>2</td>\n",
       "      <td>2</td>\n",
       "      <td>1</td>\n",
       "      <td>1</td>\n",
       "    </tr>\n",
       "    <tr>\n",
       "      <td>47005</td>\n",
       "      <td>2017-04-23 19:25:19</td>\n",
       "      <td>search</td>\n",
       "      <td>fff95a</td>\n",
       "      <td>2017-05-08</td>\n",
       "      <td>2017-05-08</td>\n",
       "      <td>MUC</td>\n",
       "      <td>BOM</td>\n",
       "      <td>1</td>\n",
       "      <td>0</td>\n",
       "      <td>1</td>\n",
       "      <td>1</td>\n",
       "    </tr>\n",
       "    <tr>\n",
       "      <td>47006</td>\n",
       "      <td>2017-04-27 20:03:52</td>\n",
       "      <td>search</td>\n",
       "      <td>fffcb9</td>\n",
       "      <td>2017-05-09</td>\n",
       "      <td>2017-05-12</td>\n",
       "      <td>PAR</td>\n",
       "      <td>BER</td>\n",
       "      <td>1</td>\n",
       "      <td>0</td>\n",
       "      <td>1</td>\n",
       "      <td>1</td>\n",
       "    </tr>\n",
       "  </tbody>\n",
       "</table>\n",
       "</div>"
      ],
      "text/plain": [
       "                       ts event_type user_id  date_from    date_to origin  \\\n",
       "46977 2017-04-24 19:32:02     search  ffcf92 2017-09-29 2017-10-06    NCE   \n",
       "46978 2017-04-29 19:26:50     search  ffd21d 2017-04-30 2017-05-03    BER   \n",
       "46979 2017-04-29 19:27:36     search  ffd21d 2017-05-01 2017-05-04    BER   \n",
       "46980 2017-04-29 19:27:38     search  ffd21d 2017-05-01 2017-05-04    BER   \n",
       "46981 2017-04-29 19:27:38     search  ffd21d 2017-04-30 2017-05-03    BER   \n",
       "46982 2017-04-23 17:47:53     search  ffd46e 2017-06-21 2017-06-25    PAR   \n",
       "46983 2017-04-23 17:48:12     search  ffd48b 2017-04-28 2017-04-28    BCN   \n",
       "46984 2017-04-21 01:27:18     search  ffd667 2017-08-16 2017-08-25    HAM   \n",
       "46985 2017-04-21 01:29:02     search  ffd667 2017-08-16 2017-08-25    HAM   \n",
       "46986 2017-04-21 01:29:02     search  ffd667 2017-08-16 2017-08-25    HAM   \n",
       "46987 2017-04-21 01:29:02     search  ffd667 2017-08-16 2017-08-25    HAM   \n",
       "46988 2017-04-21 01:30:12     search  ffd667 2017-08-16 2017-08-25    HAM   \n",
       "46989 2017-04-21 01:44:07       book  ffd667 2017-08-16 2017-08-25    HAM   \n",
       "46990 2017-04-23 22:22:29     search  ffdb0b 2017-05-01 2017-05-06    MUC   \n",
       "46991 2017-05-01 21:24:37     search  ffdbec 2017-05-18 2017-05-23    FRA   \n",
       "46992 2017-05-01 23:24:04     search  ffdcc4 2017-06-03 2017-06-07    FRA   \n",
       "46993 2017-04-23 21:56:52     search  ffdd2f 2017-05-06 2017-05-12    FRA   \n",
       "46994 2017-04-29 19:39:33     search  ffe0a4 2017-06-21 2017-06-24    TXL   \n",
       "46995 2017-04-29 03:34:27     search  ffe1ec 2017-05-08 2017-06-06    PAR   \n",
       "46996 2017-04-29 19:49:21     search  ffe752 2017-07-04 2017-07-17    STR   \n",
       "46997 2017-04-24 19:32:51     search  ffea87 2017-08-23 2017-08-29    CGN   \n",
       "46998 2017-05-01 13:11:54     search  ffed46 2017-05-17 2017-05-17    TXL   \n",
       "46999 2017-05-01 04:33:12     search  fff5ec 2017-05-27 2017-05-30    HAM   \n",
       "47000 2017-04-28 19:33:45     search  fff6a8 2017-06-11 2017-06-26    BER   \n",
       "47001 2017-04-28 22:13:27     search  fff6a8 2017-06-12 2017-06-12    BER   \n",
       "47002 2017-04-29 17:06:21     search  fff74a 2017-05-31 2017-06-03    BER   \n",
       "47003 2017-04-28 22:29:11     search  fff86d 2017-09-07 2017-09-27    PAR   \n",
       "47004 2017-05-01 01:27:44     search  fff8fc 2017-08-16 2017-09-07    PAR   \n",
       "47005 2017-04-23 19:25:19     search  fff95a 2017-05-08 2017-05-08    MUC   \n",
       "47006 2017-04-27 20:03:52     search  fffcb9 2017-05-09 2017-05-12    PAR   \n",
       "\n",
       "      destination  num_adults  num_children  max_count  act_count  \n",
       "46977         LIS           1             0          1          1  \n",
       "46978         ZRH           1             0          4          1  \n",
       "46979         ZRH           1             0          4          2  \n",
       "46980         ZRH           1             0          4          3  \n",
       "46981         ZRH           1             0          4          4  \n",
       "46982         MAD           1             0          1          1  \n",
       "46983         DUS           2             0          1          1  \n",
       "46984         MXP           3             0          6          1  \n",
       "46985         MXP           3             0          6          2  \n",
       "46986         MXP           3             0          6          3  \n",
       "46987         MXP           3             0          6          4  \n",
       "46988         MXP           3             0          6          5  \n",
       "46989         MXP           3             0          6          6  \n",
       "46990         ATH           1             0          1          1  \n",
       "46991         LIS           2             0          1          1  \n",
       "46992         CKG           1             0          1          1  \n",
       "46993         OSL           1             0          1          1  \n",
       "46994         BHX           1             0          1          1  \n",
       "46995         ANK           1             0          1          1  \n",
       "46996         YTO           4             1          1          1  \n",
       "46997         TLV           2             0          1          1  \n",
       "46998         MUC           2             0          1          1  \n",
       "46999         PMI           1             0          1          1  \n",
       "47000         OSL           1             0          2          1  \n",
       "47001         OSL           1             0          2          2  \n",
       "47002         PMI           1             0          1          1  \n",
       "47003         AKL           1             0          1          1  \n",
       "47004         DPS           2             2          1          1  \n",
       "47005         BOM           1             0          1          1  \n",
       "47006         BER           1             0          1          1  "
      ]
     },
     "execution_count": 170,
     "metadata": {},
     "output_type": "execute_result"
    }
   ],
   "source": [
    "df_event_sorted.tail(30)"
   ]
  },
  {
   "cell_type": "code",
   "execution_count": 171,
   "metadata": {},
   "outputs": [],
   "source": [
    "## Add time difference between act \n",
    "## The first act this number is 0 \n"
   ]
  },
  {
   "cell_type": "code",
   "execution_count": 172,
   "metadata": {},
   "outputs": [],
   "source": [
    "# Change in sencods\n",
    "df_event_sorted['diff_ts'] = df_event_sorted['ts'].diff()/np.timedelta64(1,'s') \n",
    "df_event_sorted['diff_ts'] = df_event_sorted['diff_ts'].fillna(0)"
   ]
  },
  {
   "cell_type": "code",
   "execution_count": 173,
   "metadata": {},
   "outputs": [
    {
     "data": {
      "text/html": [
       "<div>\n",
       "<style scoped>\n",
       "    .dataframe tbody tr th:only-of-type {\n",
       "        vertical-align: middle;\n",
       "    }\n",
       "\n",
       "    .dataframe tbody tr th {\n",
       "        vertical-align: top;\n",
       "    }\n",
       "\n",
       "    .dataframe thead th {\n",
       "        text-align: right;\n",
       "    }\n",
       "</style>\n",
       "<table border=\"1\" class=\"dataframe\">\n",
       "  <thead>\n",
       "    <tr style=\"text-align: right;\">\n",
       "      <th></th>\n",
       "      <th>ts</th>\n",
       "      <th>event_type</th>\n",
       "      <th>user_id</th>\n",
       "      <th>date_from</th>\n",
       "      <th>date_to</th>\n",
       "      <th>origin</th>\n",
       "      <th>destination</th>\n",
       "      <th>num_adults</th>\n",
       "      <th>num_children</th>\n",
       "      <th>max_count</th>\n",
       "      <th>act_count</th>\n",
       "      <th>diff_ts</th>\n",
       "    </tr>\n",
       "  </thead>\n",
       "  <tbody>\n",
       "    <tr>\n",
       "      <td>0</td>\n",
       "      <td>2017-04-29 17:59:51</td>\n",
       "      <td>search</td>\n",
       "      <td>000069</td>\n",
       "      <td>2017-05-10</td>\n",
       "      <td>2017-05-26</td>\n",
       "      <td>FRA</td>\n",
       "      <td>ALG</td>\n",
       "      <td>2</td>\n",
       "      <td>3</td>\n",
       "      <td>1</td>\n",
       "      <td>1</td>\n",
       "      <td>0.0</td>\n",
       "    </tr>\n",
       "    <tr>\n",
       "      <td>1</td>\n",
       "      <td>2017-04-28 19:14:23</td>\n",
       "      <td>search</td>\n",
       "      <td>00019d</td>\n",
       "      <td>2017-09-15</td>\n",
       "      <td>2017-10-13</td>\n",
       "      <td>PAR</td>\n",
       "      <td>SSA</td>\n",
       "      <td>4</td>\n",
       "      <td>0</td>\n",
       "      <td>1</td>\n",
       "      <td>1</td>\n",
       "      <td>-81928.0</td>\n",
       "    </tr>\n",
       "    <tr>\n",
       "      <td>2</td>\n",
       "      <td>2017-04-24 21:25:10</td>\n",
       "      <td>search</td>\n",
       "      <td>0002e3</td>\n",
       "      <td>2017-05-01</td>\n",
       "      <td>2017-05-01</td>\n",
       "      <td>PAR</td>\n",
       "      <td>ATH</td>\n",
       "      <td>1</td>\n",
       "      <td>0</td>\n",
       "      <td>1</td>\n",
       "      <td>1</td>\n",
       "      <td>-337753.0</td>\n",
       "    </tr>\n",
       "    <tr>\n",
       "      <td>3</td>\n",
       "      <td>2017-04-27 16:34:02</td>\n",
       "      <td>search</td>\n",
       "      <td>000332</td>\n",
       "      <td>2017-06-08</td>\n",
       "      <td>2017-07-07</td>\n",
       "      <td>NCE</td>\n",
       "      <td>TLV</td>\n",
       "      <td>1</td>\n",
       "      <td>0</td>\n",
       "      <td>4</td>\n",
       "      <td>1</td>\n",
       "      <td>241732.0</td>\n",
       "    </tr>\n",
       "    <tr>\n",
       "      <td>4</td>\n",
       "      <td>2017-04-27 16:35:35</td>\n",
       "      <td>search</td>\n",
       "      <td>000332</td>\n",
       "      <td>2017-06-08</td>\n",
       "      <td>2017-07-07</td>\n",
       "      <td>NCE</td>\n",
       "      <td>TLV</td>\n",
       "      <td>1</td>\n",
       "      <td>0</td>\n",
       "      <td>4</td>\n",
       "      <td>2</td>\n",
       "      <td>93.0</td>\n",
       "    </tr>\n",
       "  </tbody>\n",
       "</table>\n",
       "</div>"
      ],
      "text/plain": [
       "                   ts event_type user_id  date_from    date_to origin  \\\n",
       "0 2017-04-29 17:59:51     search  000069 2017-05-10 2017-05-26    FRA   \n",
       "1 2017-04-28 19:14:23     search  00019d 2017-09-15 2017-10-13    PAR   \n",
       "2 2017-04-24 21:25:10     search  0002e3 2017-05-01 2017-05-01    PAR   \n",
       "3 2017-04-27 16:34:02     search  000332 2017-06-08 2017-07-07    NCE   \n",
       "4 2017-04-27 16:35:35     search  000332 2017-06-08 2017-07-07    NCE   \n",
       "\n",
       "  destination  num_adults  num_children  max_count  act_count   diff_ts  \n",
       "0         ALG           2             3          1          1       0.0  \n",
       "1         SSA           4             0          1          1  -81928.0  \n",
       "2         ATH           1             0          1          1 -337753.0  \n",
       "3         TLV           1             0          4          1  241732.0  \n",
       "4         TLV           1             0          4          2      93.0  "
      ]
     },
     "execution_count": 173,
     "metadata": {},
     "output_type": "execute_result"
    }
   ],
   "source": [
    "df_event_sorted.head(5)"
   ]
  },
  {
   "cell_type": "code",
   "execution_count": 174,
   "metadata": {},
   "outputs": [],
   "source": [
    "df_event_sorted['diff_ts'] = np.abs(df_event_sorted['diff_ts'] * (df_event_sorted['act_count']>1))\n",
    "df_event_sorted['diff_ts'] = df_event_sorted['diff_ts'].astype('int')"
   ]
  },
  {
   "cell_type": "code",
   "execution_count": null,
   "metadata": {},
   "outputs": [],
   "source": []
  },
  {
   "cell_type": "code",
   "execution_count": 175,
   "metadata": {},
   "outputs": [
    {
     "data": {
      "text/html": [
       "<div>\n",
       "<style scoped>\n",
       "    .dataframe tbody tr th:only-of-type {\n",
       "        vertical-align: middle;\n",
       "    }\n",
       "\n",
       "    .dataframe tbody tr th {\n",
       "        vertical-align: top;\n",
       "    }\n",
       "\n",
       "    .dataframe thead th {\n",
       "        text-align: right;\n",
       "    }\n",
       "</style>\n",
       "<table border=\"1\" class=\"dataframe\">\n",
       "  <thead>\n",
       "    <tr style=\"text-align: right;\">\n",
       "      <th></th>\n",
       "      <th>ts</th>\n",
       "      <th>event_type</th>\n",
       "      <th>user_id</th>\n",
       "      <th>date_from</th>\n",
       "      <th>date_to</th>\n",
       "      <th>origin</th>\n",
       "      <th>destination</th>\n",
       "      <th>num_adults</th>\n",
       "      <th>num_children</th>\n",
       "      <th>max_count</th>\n",
       "      <th>act_count</th>\n",
       "      <th>diff_ts</th>\n",
       "    </tr>\n",
       "  </thead>\n",
       "  <tbody>\n",
       "    <tr>\n",
       "      <td>0</td>\n",
       "      <td>2017-04-29 17:59:51</td>\n",
       "      <td>search</td>\n",
       "      <td>000069</td>\n",
       "      <td>2017-05-10</td>\n",
       "      <td>2017-05-26</td>\n",
       "      <td>FRA</td>\n",
       "      <td>ALG</td>\n",
       "      <td>2</td>\n",
       "      <td>3</td>\n",
       "      <td>1</td>\n",
       "      <td>1</td>\n",
       "      <td>0</td>\n",
       "    </tr>\n",
       "    <tr>\n",
       "      <td>1</td>\n",
       "      <td>2017-04-28 19:14:23</td>\n",
       "      <td>search</td>\n",
       "      <td>00019d</td>\n",
       "      <td>2017-09-15</td>\n",
       "      <td>2017-10-13</td>\n",
       "      <td>PAR</td>\n",
       "      <td>SSA</td>\n",
       "      <td>4</td>\n",
       "      <td>0</td>\n",
       "      <td>1</td>\n",
       "      <td>1</td>\n",
       "      <td>0</td>\n",
       "    </tr>\n",
       "    <tr>\n",
       "      <td>2</td>\n",
       "      <td>2017-04-24 21:25:10</td>\n",
       "      <td>search</td>\n",
       "      <td>0002e3</td>\n",
       "      <td>2017-05-01</td>\n",
       "      <td>2017-05-01</td>\n",
       "      <td>PAR</td>\n",
       "      <td>ATH</td>\n",
       "      <td>1</td>\n",
       "      <td>0</td>\n",
       "      <td>1</td>\n",
       "      <td>1</td>\n",
       "      <td>0</td>\n",
       "    </tr>\n",
       "    <tr>\n",
       "      <td>3</td>\n",
       "      <td>2017-04-27 16:34:02</td>\n",
       "      <td>search</td>\n",
       "      <td>000332</td>\n",
       "      <td>2017-06-08</td>\n",
       "      <td>2017-07-07</td>\n",
       "      <td>NCE</td>\n",
       "      <td>TLV</td>\n",
       "      <td>1</td>\n",
       "      <td>0</td>\n",
       "      <td>4</td>\n",
       "      <td>1</td>\n",
       "      <td>0</td>\n",
       "    </tr>\n",
       "    <tr>\n",
       "      <td>4</td>\n",
       "      <td>2017-04-27 16:35:35</td>\n",
       "      <td>search</td>\n",
       "      <td>000332</td>\n",
       "      <td>2017-06-08</td>\n",
       "      <td>2017-07-07</td>\n",
       "      <td>NCE</td>\n",
       "      <td>TLV</td>\n",
       "      <td>1</td>\n",
       "      <td>0</td>\n",
       "      <td>4</td>\n",
       "      <td>2</td>\n",
       "      <td>93</td>\n",
       "    </tr>\n",
       "    <tr>\n",
       "      <td>5</td>\n",
       "      <td>2017-04-27 16:39:10</td>\n",
       "      <td>search</td>\n",
       "      <td>000332</td>\n",
       "      <td>2017-06-08</td>\n",
       "      <td>2017-07-07</td>\n",
       "      <td>NCE</td>\n",
       "      <td>TLV</td>\n",
       "      <td>2</td>\n",
       "      <td>0</td>\n",
       "      <td>4</td>\n",
       "      <td>3</td>\n",
       "      <td>215</td>\n",
       "    </tr>\n",
       "    <tr>\n",
       "      <td>6</td>\n",
       "      <td>2017-04-27 21:24:01</td>\n",
       "      <td>search</td>\n",
       "      <td>000332</td>\n",
       "      <td>2017-06-08</td>\n",
       "      <td>2017-07-07</td>\n",
       "      <td>TLV</td>\n",
       "      <td>NCE</td>\n",
       "      <td>2</td>\n",
       "      <td>0</td>\n",
       "      <td>4</td>\n",
       "      <td>4</td>\n",
       "      <td>17091</td>\n",
       "    </tr>\n",
       "    <tr>\n",
       "      <td>7</td>\n",
       "      <td>2017-04-29 01:06:18</td>\n",
       "      <td>search</td>\n",
       "      <td>0004e1</td>\n",
       "      <td>2017-07-19</td>\n",
       "      <td>2017-07-25</td>\n",
       "      <td>MUC</td>\n",
       "      <td>ROM</td>\n",
       "      <td>1</td>\n",
       "      <td>0</td>\n",
       "      <td>2</td>\n",
       "      <td>1</td>\n",
       "      <td>0</td>\n",
       "    </tr>\n",
       "    <tr>\n",
       "      <td>8</td>\n",
       "      <td>2017-04-29 01:06:41</td>\n",
       "      <td>search</td>\n",
       "      <td>0004e1</td>\n",
       "      <td>2017-07-19</td>\n",
       "      <td>2017-07-25</td>\n",
       "      <td>MUC</td>\n",
       "      <td>ROM</td>\n",
       "      <td>1</td>\n",
       "      <td>0</td>\n",
       "      <td>2</td>\n",
       "      <td>2</td>\n",
       "      <td>23</td>\n",
       "    </tr>\n",
       "    <tr>\n",
       "      <td>9</td>\n",
       "      <td>2017-04-29 23:42:19</td>\n",
       "      <td>search</td>\n",
       "      <td>0004f1</td>\n",
       "      <td>2017-09-15</td>\n",
       "      <td>2017-10-05</td>\n",
       "      <td>LYS</td>\n",
       "      <td>YUL</td>\n",
       "      <td>2</td>\n",
       "      <td>0</td>\n",
       "      <td>2</td>\n",
       "      <td>1</td>\n",
       "      <td>0</td>\n",
       "    </tr>\n",
       "  </tbody>\n",
       "</table>\n",
       "</div>"
      ],
      "text/plain": [
       "                   ts event_type user_id  date_from    date_to origin  \\\n",
       "0 2017-04-29 17:59:51     search  000069 2017-05-10 2017-05-26    FRA   \n",
       "1 2017-04-28 19:14:23     search  00019d 2017-09-15 2017-10-13    PAR   \n",
       "2 2017-04-24 21:25:10     search  0002e3 2017-05-01 2017-05-01    PAR   \n",
       "3 2017-04-27 16:34:02     search  000332 2017-06-08 2017-07-07    NCE   \n",
       "4 2017-04-27 16:35:35     search  000332 2017-06-08 2017-07-07    NCE   \n",
       "5 2017-04-27 16:39:10     search  000332 2017-06-08 2017-07-07    NCE   \n",
       "6 2017-04-27 21:24:01     search  000332 2017-06-08 2017-07-07    TLV   \n",
       "7 2017-04-29 01:06:18     search  0004e1 2017-07-19 2017-07-25    MUC   \n",
       "8 2017-04-29 01:06:41     search  0004e1 2017-07-19 2017-07-25    MUC   \n",
       "9 2017-04-29 23:42:19     search  0004f1 2017-09-15 2017-10-05    LYS   \n",
       "\n",
       "  destination  num_adults  num_children  max_count  act_count  diff_ts  \n",
       "0         ALG           2             3          1          1        0  \n",
       "1         SSA           4             0          1          1        0  \n",
       "2         ATH           1             0          1          1        0  \n",
       "3         TLV           1             0          4          1        0  \n",
       "4         TLV           1             0          4          2       93  \n",
       "5         TLV           2             0          4          3      215  \n",
       "6         NCE           2             0          4          4    17091  \n",
       "7         ROM           1             0          2          1        0  \n",
       "8         ROM           1             0          2          2       23  \n",
       "9         YUL           2             0          2          1        0  "
      ]
     },
     "execution_count": 175,
     "metadata": {},
     "output_type": "execute_result"
    }
   ],
   "source": [
    "df_event_sorted.head(10)"
   ]
  },
  {
   "cell_type": "code",
   "execution_count": 176,
   "metadata": {},
   "outputs": [
    {
     "data": {
      "text/plain": [
       "<matplotlib.axes._subplots.AxesSubplot at 0x1a1e715fd0>"
      ]
     },
     "execution_count": 176,
     "metadata": {},
     "output_type": "execute_result"
    },
    {
     "data": {
      "image/png": "[encoded data removed]",
      "text/plain": [
       "<Figure size 432x288 with 1 Axes>"
      ]
     },
     "metadata": {
      "needs_background": "light"
     },
     "output_type": "display_data"
    }
   ],
   "source": [
    "sns.distplot(np.log(df_event_sorted['diff_ts']+1))"
   ]
  },
  {
   "cell_type": "code",
   "execution_count": 181,
   "metadata": {},
   "outputs": [
    {
     "data": {
      "text/html": [
       "<div>\n",
       "<style scoped>\n",
       "    .dataframe tbody tr th:only-of-type {\n",
       "        vertical-align: middle;\n",
       "    }\n",
       "\n",
       "    .dataframe tbody tr th {\n",
       "        vertical-align: top;\n",
       "    }\n",
       "\n",
       "    .dataframe thead th {\n",
       "        text-align: right;\n",
       "    }\n",
       "</style>\n",
       "<table border=\"1\" class=\"dataframe\">\n",
       "  <thead>\n",
       "    <tr style=\"text-align: right;\">\n",
       "      <th></th>\n",
       "      <th>ts</th>\n",
       "      <th>event_type</th>\n",
       "      <th>user_id</th>\n",
       "      <th>date_from</th>\n",
       "      <th>date_to</th>\n",
       "      <th>origin</th>\n",
       "      <th>destination</th>\n",
       "      <th>num_adults</th>\n",
       "      <th>num_children</th>\n",
       "      <th>max_count</th>\n",
       "      <th>act_count</th>\n",
       "      <th>diff_ts</th>\n",
       "      <th>tr_duration</th>\n",
       "    </tr>\n",
       "  </thead>\n",
       "  <tbody>\n",
       "    <tr>\n",
       "      <td>0</td>\n",
       "      <td>2017-04-29 17:59:51</td>\n",
       "      <td>search</td>\n",
       "      <td>000069</td>\n",
       "      <td>2017-05-10</td>\n",
       "      <td>2017-05-26</td>\n",
       "      <td>FRA</td>\n",
       "      <td>ALG</td>\n",
       "      <td>2</td>\n",
       "      <td>3</td>\n",
       "      <td>1</td>\n",
       "      <td>1</td>\n",
       "      <td>0</td>\n",
       "      <td>16.0</td>\n",
       "    </tr>\n",
       "    <tr>\n",
       "      <td>1</td>\n",
       "      <td>2017-04-28 19:14:23</td>\n",
       "      <td>search</td>\n",
       "      <td>00019d</td>\n",
       "      <td>2017-09-15</td>\n",
       "      <td>2017-10-13</td>\n",
       "      <td>PAR</td>\n",
       "      <td>SSA</td>\n",
       "      <td>4</td>\n",
       "      <td>0</td>\n",
       "      <td>1</td>\n",
       "      <td>1</td>\n",
       "      <td>0</td>\n",
       "      <td>28.0</td>\n",
       "    </tr>\n",
       "    <tr>\n",
       "      <td>2</td>\n",
       "      <td>2017-04-24 21:25:10</td>\n",
       "      <td>search</td>\n",
       "      <td>0002e3</td>\n",
       "      <td>2017-05-01</td>\n",
       "      <td>2017-05-01</td>\n",
       "      <td>PAR</td>\n",
       "      <td>ATH</td>\n",
       "      <td>1</td>\n",
       "      <td>0</td>\n",
       "      <td>1</td>\n",
       "      <td>1</td>\n",
       "      <td>0</td>\n",
       "      <td>0.0</td>\n",
       "    </tr>\n",
       "    <tr>\n",
       "      <td>3</td>\n",
       "      <td>2017-04-27 16:34:02</td>\n",
       "      <td>search</td>\n",
       "      <td>000332</td>\n",
       "      <td>2017-06-08</td>\n",
       "      <td>2017-07-07</td>\n",
       "      <td>NCE</td>\n",
       "      <td>TLV</td>\n",
       "      <td>1</td>\n",
       "      <td>0</td>\n",
       "      <td>4</td>\n",
       "      <td>1</td>\n",
       "      <td>0</td>\n",
       "      <td>29.0</td>\n",
       "    </tr>\n",
       "    <tr>\n",
       "      <td>4</td>\n",
       "      <td>2017-04-27 16:35:35</td>\n",
       "      <td>search</td>\n",
       "      <td>000332</td>\n",
       "      <td>2017-06-08</td>\n",
       "      <td>2017-07-07</td>\n",
       "      <td>NCE</td>\n",
       "      <td>TLV</td>\n",
       "      <td>1</td>\n",
       "      <td>0</td>\n",
       "      <td>4</td>\n",
       "      <td>2</td>\n",
       "      <td>93</td>\n",
       "      <td>29.0</td>\n",
       "    </tr>\n",
       "    <tr>\n",
       "      <td>5</td>\n",
       "      <td>2017-04-27 16:39:10</td>\n",
       "      <td>search</td>\n",
       "      <td>000332</td>\n",
       "      <td>2017-06-08</td>\n",
       "      <td>2017-07-07</td>\n",
       "      <td>NCE</td>\n",
       "      <td>TLV</td>\n",
       "      <td>2</td>\n",
       "      <td>0</td>\n",
       "      <td>4</td>\n",
       "      <td>3</td>\n",
       "      <td>215</td>\n",
       "      <td>29.0</td>\n",
       "    </tr>\n",
       "    <tr>\n",
       "      <td>6</td>\n",
       "      <td>2017-04-27 21:24:01</td>\n",
       "      <td>search</td>\n",
       "      <td>000332</td>\n",
       "      <td>2017-06-08</td>\n",
       "      <td>2017-07-07</td>\n",
       "      <td>TLV</td>\n",
       "      <td>NCE</td>\n",
       "      <td>2</td>\n",
       "      <td>0</td>\n",
       "      <td>4</td>\n",
       "      <td>4</td>\n",
       "      <td>17091</td>\n",
       "      <td>29.0</td>\n",
       "    </tr>\n",
       "    <tr>\n",
       "      <td>7</td>\n",
       "      <td>2017-04-29 01:06:18</td>\n",
       "      <td>search</td>\n",
       "      <td>0004e1</td>\n",
       "      <td>2017-07-19</td>\n",
       "      <td>2017-07-25</td>\n",
       "      <td>MUC</td>\n",
       "      <td>ROM</td>\n",
       "      <td>1</td>\n",
       "      <td>0</td>\n",
       "      <td>2</td>\n",
       "      <td>1</td>\n",
       "      <td>0</td>\n",
       "      <td>6.0</td>\n",
       "    </tr>\n",
       "    <tr>\n",
       "      <td>8</td>\n",
       "      <td>2017-04-29 01:06:41</td>\n",
       "      <td>search</td>\n",
       "      <td>0004e1</td>\n",
       "      <td>2017-07-19</td>\n",
       "      <td>2017-07-25</td>\n",
       "      <td>MUC</td>\n",
       "      <td>ROM</td>\n",
       "      <td>1</td>\n",
       "      <td>0</td>\n",
       "      <td>2</td>\n",
       "      <td>2</td>\n",
       "      <td>23</td>\n",
       "      <td>6.0</td>\n",
       "    </tr>\n",
       "    <tr>\n",
       "      <td>9</td>\n",
       "      <td>2017-04-29 23:42:19</td>\n",
       "      <td>search</td>\n",
       "      <td>0004f1</td>\n",
       "      <td>2017-09-15</td>\n",
       "      <td>2017-10-05</td>\n",
       "      <td>LYS</td>\n",
       "      <td>YUL</td>\n",
       "      <td>2</td>\n",
       "      <td>0</td>\n",
       "      <td>2</td>\n",
       "      <td>1</td>\n",
       "      <td>0</td>\n",
       "      <td>20.0</td>\n",
       "    </tr>\n",
       "  </tbody>\n",
       "</table>\n",
       "</div>"
      ],
      "text/plain": [
       "                   ts event_type user_id  date_from    date_to origin  \\\n",
       "0 2017-04-29 17:59:51     search  000069 2017-05-10 2017-05-26    FRA   \n",
       "1 2017-04-28 19:14:23     search  00019d 2017-09-15 2017-10-13    PAR   \n",
       "2 2017-04-24 21:25:10     search  0002e3 2017-05-01 2017-05-01    PAR   \n",
       "3 2017-04-27 16:34:02     search  000332 2017-06-08 2017-07-07    NCE   \n",
       "4 2017-04-27 16:35:35     search  000332 2017-06-08 2017-07-07    NCE   \n",
       "5 2017-04-27 16:39:10     search  000332 2017-06-08 2017-07-07    NCE   \n",
       "6 2017-04-27 21:24:01     search  000332 2017-06-08 2017-07-07    TLV   \n",
       "7 2017-04-29 01:06:18     search  0004e1 2017-07-19 2017-07-25    MUC   \n",
       "8 2017-04-29 01:06:41     search  0004e1 2017-07-19 2017-07-25    MUC   \n",
       "9 2017-04-29 23:42:19     search  0004f1 2017-09-15 2017-10-05    LYS   \n",
       "\n",
       "  destination  num_adults  num_children  max_count  act_count  diff_ts  \\\n",
       "0         ALG           2             3          1          1        0   \n",
       "1         SSA           4             0          1          1        0   \n",
       "2         ATH           1             0          1          1        0   \n",
       "3         TLV           1             0          4          1        0   \n",
       "4         TLV           1             0          4          2       93   \n",
       "5         TLV           2             0          4          3      215   \n",
       "6         NCE           2             0          4          4    17091   \n",
       "7         ROM           1             0          2          1        0   \n",
       "8         ROM           1             0          2          2       23   \n",
       "9         YUL           2             0          2          1        0   \n",
       "\n",
       "   tr_duration  \n",
       "0         16.0  \n",
       "1         28.0  \n",
       "2          0.0  \n",
       "3         29.0  \n",
       "4         29.0  \n",
       "5         29.0  \n",
       "6         29.0  \n",
       "7          6.0  \n",
       "8          6.0  \n",
       "9         20.0  "
      ]
     },
     "execution_count": 181,
     "metadata": {},
     "output_type": "execute_result"
    }
   ],
   "source": [
    "# Add Travel duration \n",
    "df_event_sorted['tr_duration'] = (df_event_sorted['date_to'] - df_event_sorted['date_from'] )/np.timedelta64(1,'D')\n",
    "#df_event_sorted['tr_duration'] = df_event_sorted['tr_duration'].astype('int')\n",
    "df_event_sorted.head(10)"
   ]
  },
  {
   "cell_type": "code",
   "execution_count": 182,
   "metadata": {},
   "outputs": [
    {
     "data": {
      "text/html": [
       "<div>\n",
       "<style scoped>\n",
       "    .dataframe tbody tr th:only-of-type {\n",
       "        vertical-align: middle;\n",
       "    }\n",
       "\n",
       "    .dataframe tbody tr th {\n",
       "        vertical-align: top;\n",
       "    }\n",
       "\n",
       "    .dataframe thead th {\n",
       "        text-align: right;\n",
       "    }\n",
       "</style>\n",
       "<table border=\"1\" class=\"dataframe\">\n",
       "  <thead>\n",
       "    <tr style=\"text-align: right;\">\n",
       "      <th></th>\n",
       "      <th>ts</th>\n",
       "      <th>event_type</th>\n",
       "      <th>user_id</th>\n",
       "      <th>date_from</th>\n",
       "      <th>date_to</th>\n",
       "      <th>origin</th>\n",
       "      <th>destination</th>\n",
       "      <th>num_adults</th>\n",
       "      <th>num_children</th>\n",
       "      <th>max_count</th>\n",
       "      <th>act_count</th>\n",
       "      <th>diff_ts</th>\n",
       "      <th>tr_duration</th>\n",
       "    </tr>\n",
       "  </thead>\n",
       "  <tbody>\n",
       "    <tr>\n",
       "      <td>3582</td>\n",
       "      <td>2017-04-29 21:31:57</td>\n",
       "      <td>search</td>\n",
       "      <td>139d74</td>\n",
       "      <td>NaT</td>\n",
       "      <td>2017-09-02</td>\n",
       "      <td>CGN</td>\n",
       "      <td>AYT</td>\n",
       "      <td>0</td>\n",
       "      <td>0</td>\n",
       "      <td>3</td>\n",
       "      <td>1</td>\n",
       "      <td>0</td>\n",
       "      <td>NaN</td>\n",
       "    </tr>\n",
       "    <tr>\n",
       "      <td>3583</td>\n",
       "      <td>2017-04-29 21:36:04</td>\n",
       "      <td>search</td>\n",
       "      <td>139d74</td>\n",
       "      <td>NaT</td>\n",
       "      <td>2017-09-02</td>\n",
       "      <td>CGN</td>\n",
       "      <td>AYT</td>\n",
       "      <td>0</td>\n",
       "      <td>0</td>\n",
       "      <td>3</td>\n",
       "      <td>2</td>\n",
       "      <td>247</td>\n",
       "      <td>NaN</td>\n",
       "    </tr>\n",
       "    <tr>\n",
       "      <td>3584</td>\n",
       "      <td>2017-04-29 21:37:20</td>\n",
       "      <td>search</td>\n",
       "      <td>139d74</td>\n",
       "      <td>NaT</td>\n",
       "      <td>2017-09-02</td>\n",
       "      <td>CGN</td>\n",
       "      <td>AYT</td>\n",
       "      <td>0</td>\n",
       "      <td>0</td>\n",
       "      <td>3</td>\n",
       "      <td>3</td>\n",
       "      <td>76</td>\n",
       "      <td>NaN</td>\n",
       "    </tr>\n",
       "    <tr>\n",
       "      <td>3885</td>\n",
       "      <td>2017-05-01 00:18:23</td>\n",
       "      <td>search</td>\n",
       "      <td>15568d</td>\n",
       "      <td>NaT</td>\n",
       "      <td>2017-06-20</td>\n",
       "      <td>AMS</td>\n",
       "      <td>IST</td>\n",
       "      <td>0</td>\n",
       "      <td>0</td>\n",
       "      <td>1</td>\n",
       "      <td>1</td>\n",
       "      <td>0</td>\n",
       "      <td>NaN</td>\n",
       "    </tr>\n",
       "    <tr>\n",
       "      <td>7768</td>\n",
       "      <td>2017-04-23 19:02:48</td>\n",
       "      <td>search</td>\n",
       "      <td>299320</td>\n",
       "      <td>NaT</td>\n",
       "      <td>NaT</td>\n",
       "      <td>BRU</td>\n",
       "      <td>TLS</td>\n",
       "      <td>0</td>\n",
       "      <td>0</td>\n",
       "      <td>1</td>\n",
       "      <td>1</td>\n",
       "      <td>0</td>\n",
       "      <td>NaN</td>\n",
       "    </tr>\n",
       "    <tr>\n",
       "      <td>7981</td>\n",
       "      <td>2017-04-24 21:13:32</td>\n",
       "      <td>search</td>\n",
       "      <td>2ac874</td>\n",
       "      <td>NaT</td>\n",
       "      <td>NaT</td>\n",
       "      <td>AYT</td>\n",
       "      <td>DUS</td>\n",
       "      <td>0</td>\n",
       "      <td>0</td>\n",
       "      <td>1</td>\n",
       "      <td>1</td>\n",
       "      <td>0</td>\n",
       "      <td>NaN</td>\n",
       "    </tr>\n",
       "    <tr>\n",
       "      <td>11598</td>\n",
       "      <td>2017-04-27 15:58:06</td>\n",
       "      <td>search</td>\n",
       "      <td>3e44c4</td>\n",
       "      <td>NaT</td>\n",
       "      <td>2017-06-23</td>\n",
       "      <td>AMS</td>\n",
       "      <td>MAD</td>\n",
       "      <td>0</td>\n",
       "      <td>0</td>\n",
       "      <td>1</td>\n",
       "      <td>1</td>\n",
       "      <td>0</td>\n",
       "      <td>NaN</td>\n",
       "    </tr>\n",
       "    <tr>\n",
       "      <td>12817</td>\n",
       "      <td>2017-04-27 17:52:49</td>\n",
       "      <td>search</td>\n",
       "      <td>450011</td>\n",
       "      <td>NaT</td>\n",
       "      <td>2018-04-02</td>\n",
       "      <td>BKK</td>\n",
       "      <td>DUS</td>\n",
       "      <td>0</td>\n",
       "      <td>0</td>\n",
       "      <td>2</td>\n",
       "      <td>1</td>\n",
       "      <td>0</td>\n",
       "      <td>NaN</td>\n",
       "    </tr>\n",
       "    <tr>\n",
       "      <td>12818</td>\n",
       "      <td>2017-04-27 19:35:16</td>\n",
       "      <td>search</td>\n",
       "      <td>450011</td>\n",
       "      <td>NaT</td>\n",
       "      <td>2017-07-10</td>\n",
       "      <td>DUS</td>\n",
       "      <td>BKK</td>\n",
       "      <td>0</td>\n",
       "      <td>0</td>\n",
       "      <td>2</td>\n",
       "      <td>2</td>\n",
       "      <td>6147</td>\n",
       "      <td>NaN</td>\n",
       "    </tr>\n",
       "    <tr>\n",
       "      <td>13181</td>\n",
       "      <td>2017-04-28 23:24:26</td>\n",
       "      <td>search</td>\n",
       "      <td>46cad7</td>\n",
       "      <td>NaT</td>\n",
       "      <td>2017-05-24</td>\n",
       "      <td>AMS</td>\n",
       "      <td>MUC</td>\n",
       "      <td>0</td>\n",
       "      <td>0</td>\n",
       "      <td>4</td>\n",
       "      <td>1</td>\n",
       "      <td>0</td>\n",
       "      <td>NaN</td>\n",
       "    </tr>\n",
       "    <tr>\n",
       "      <td>13182</td>\n",
       "      <td>2017-04-28 23:25:25</td>\n",
       "      <td>search</td>\n",
       "      <td>46cad7</td>\n",
       "      <td>NaT</td>\n",
       "      <td>2017-05-24</td>\n",
       "      <td>AMS</td>\n",
       "      <td>MUC</td>\n",
       "      <td>0</td>\n",
       "      <td>0</td>\n",
       "      <td>4</td>\n",
       "      <td>2</td>\n",
       "      <td>59</td>\n",
       "      <td>NaN</td>\n",
       "    </tr>\n",
       "    <tr>\n",
       "      <td>13183</td>\n",
       "      <td>2017-04-28 23:41:06</td>\n",
       "      <td>search</td>\n",
       "      <td>46cad7</td>\n",
       "      <td>NaT</td>\n",
       "      <td>2017-05-24</td>\n",
       "      <td>AMS</td>\n",
       "      <td>MUC</td>\n",
       "      <td>0</td>\n",
       "      <td>0</td>\n",
       "      <td>4</td>\n",
       "      <td>3</td>\n",
       "      <td>941</td>\n",
       "      <td>NaN</td>\n",
       "    </tr>\n",
       "    <tr>\n",
       "      <td>13184</td>\n",
       "      <td>2017-04-28 23:52:17</td>\n",
       "      <td>book</td>\n",
       "      <td>46cad7</td>\n",
       "      <td>NaT</td>\n",
       "      <td>2017-05-24</td>\n",
       "      <td>AMS</td>\n",
       "      <td>MUC</td>\n",
       "      <td>0</td>\n",
       "      <td>0</td>\n",
       "      <td>4</td>\n",
       "      <td>4</td>\n",
       "      <td>671</td>\n",
       "      <td>NaN</td>\n",
       "    </tr>\n",
       "    <tr>\n",
       "      <td>14408</td>\n",
       "      <td>2017-04-27 20:24:07</td>\n",
       "      <td>search</td>\n",
       "      <td>4df495</td>\n",
       "      <td>NaT</td>\n",
       "      <td>2017-05-20</td>\n",
       "      <td>AMS</td>\n",
       "      <td>NKG</td>\n",
       "      <td>0</td>\n",
       "      <td>0</td>\n",
       "      <td>1</td>\n",
       "      <td>1</td>\n",
       "      <td>0</td>\n",
       "      <td>NaN</td>\n",
       "    </tr>\n",
       "    <tr>\n",
       "      <td>22144</td>\n",
       "      <td>2017-04-28 11:45:42</td>\n",
       "      <td>search</td>\n",
       "      <td>778373</td>\n",
       "      <td>NaT</td>\n",
       "      <td>2017-05-20</td>\n",
       "      <td>AMS</td>\n",
       "      <td>BER</td>\n",
       "      <td>0</td>\n",
       "      <td>0</td>\n",
       "      <td>1</td>\n",
       "      <td>1</td>\n",
       "      <td>0</td>\n",
       "      <td>NaN</td>\n",
       "    </tr>\n",
       "    <tr>\n",
       "      <td>22309</td>\n",
       "      <td>2017-04-27 13:20:22</td>\n",
       "      <td>search</td>\n",
       "      <td>786588</td>\n",
       "      <td>NaT</td>\n",
       "      <td>2017-06-28</td>\n",
       "      <td>AMS</td>\n",
       "      <td>MSP</td>\n",
       "      <td>0</td>\n",
       "      <td>0</td>\n",
       "      <td>2</td>\n",
       "      <td>2</td>\n",
       "      <td>777</td>\n",
       "      <td>NaN</td>\n",
       "    </tr>\n",
       "    <tr>\n",
       "      <td>37901</td>\n",
       "      <td>2017-04-23 12:54:05</td>\n",
       "      <td>search</td>\n",
       "      <td>ced484</td>\n",
       "      <td>NaT</td>\n",
       "      <td>2017-06-07</td>\n",
       "      <td>BRU</td>\n",
       "      <td>CPH</td>\n",
       "      <td>0</td>\n",
       "      <td>0</td>\n",
       "      <td>1</td>\n",
       "      <td>1</td>\n",
       "      <td>0</td>\n",
       "      <td>NaN</td>\n",
       "    </tr>\n",
       "    <tr>\n",
       "      <td>38127</td>\n",
       "      <td>2017-04-28 18:12:17</td>\n",
       "      <td>search</td>\n",
       "      <td>d02975</td>\n",
       "      <td>NaT</td>\n",
       "      <td>NaT</td>\n",
       "      <td>DUB</td>\n",
       "      <td>AMS</td>\n",
       "      <td>0</td>\n",
       "      <td>0</td>\n",
       "      <td>1</td>\n",
       "      <td>1</td>\n",
       "      <td>0</td>\n",
       "      <td>NaN</td>\n",
       "    </tr>\n",
       "    <tr>\n",
       "      <td>44551</td>\n",
       "      <td>2017-04-29 23:41:04</td>\n",
       "      <td>search</td>\n",
       "      <td>f31669</td>\n",
       "      <td>NaT</td>\n",
       "      <td>2017-05-20</td>\n",
       "      <td>AMS</td>\n",
       "      <td>ZRH</td>\n",
       "      <td>0</td>\n",
       "      <td>0</td>\n",
       "      <td>1</td>\n",
       "      <td>1</td>\n",
       "      <td>0</td>\n",
       "      <td>NaN</td>\n",
       "    </tr>\n",
       "    <tr>\n",
       "      <td>45390</td>\n",
       "      <td>2017-04-28 09:46:21</td>\n",
       "      <td>search</td>\n",
       "      <td>f74322</td>\n",
       "      <td>NaT</td>\n",
       "      <td>2017-05-31</td>\n",
       "      <td>AMS</td>\n",
       "      <td>HEL</td>\n",
       "      <td>0</td>\n",
       "      <td>0</td>\n",
       "      <td>2</td>\n",
       "      <td>1</td>\n",
       "      <td>0</td>\n",
       "      <td>NaN</td>\n",
       "    </tr>\n",
       "    <tr>\n",
       "      <td>45391</td>\n",
       "      <td>2017-04-28 09:46:31</td>\n",
       "      <td>search</td>\n",
       "      <td>f74322</td>\n",
       "      <td>NaT</td>\n",
       "      <td>2017-05-31</td>\n",
       "      <td>AMS</td>\n",
       "      <td>HEL</td>\n",
       "      <td>0</td>\n",
       "      <td>0</td>\n",
       "      <td>2</td>\n",
       "      <td>2</td>\n",
       "      <td>10</td>\n",
       "      <td>NaN</td>\n",
       "    </tr>\n",
       "    <tr>\n",
       "      <td>45429</td>\n",
       "      <td>2017-04-29 16:16:49</td>\n",
       "      <td>search</td>\n",
       "      <td>f78263</td>\n",
       "      <td>NaT</td>\n",
       "      <td>2018-02-23</td>\n",
       "      <td>DUS</td>\n",
       "      <td>CPT</td>\n",
       "      <td>0</td>\n",
       "      <td>0</td>\n",
       "      <td>1</td>\n",
       "      <td>1</td>\n",
       "      <td>0</td>\n",
       "      <td>NaN</td>\n",
       "    </tr>\n",
       "  </tbody>\n",
       "</table>\n",
       "</div>"
      ],
      "text/plain": [
       "                       ts event_type user_id date_from    date_to origin  \\\n",
       "3582  2017-04-29 21:31:57     search  139d74       NaT 2017-09-02    CGN   \n",
       "3583  2017-04-29 21:36:04     search  139d74       NaT 2017-09-02    CGN   \n",
       "3584  2017-04-29 21:37:20     search  139d74       NaT 2017-09-02    CGN   \n",
       "3885  2017-05-01 00:18:23     search  15568d       NaT 2017-06-20    AMS   \n",
       "7768  2017-04-23 19:02:48     search  299320       NaT        NaT    BRU   \n",
       "7981  2017-04-24 21:13:32     search  2ac874       NaT        NaT    AYT   \n",
       "11598 2017-04-27 15:58:06     search  3e44c4       NaT 2017-06-23    AMS   \n",
       "12817 2017-04-27 17:52:49     search  450011       NaT 2018-04-02    BKK   \n",
       "12818 2017-04-27 19:35:16     search  450011       NaT 2017-07-10    DUS   \n",
       "13181 2017-04-28 23:24:26     search  46cad7       NaT 2017-05-24    AMS   \n",
       "13182 2017-04-28 23:25:25     search  46cad7       NaT 2017-05-24    AMS   \n",
       "13183 2017-04-28 23:41:06     search  46cad7       NaT 2017-05-24    AMS   \n",
       "13184 2017-04-28 23:52:17       book  46cad7       NaT 2017-05-24    AMS   \n",
       "14408 2017-04-27 20:24:07     search  4df495       NaT 2017-05-20    AMS   \n",
       "22144 2017-04-28 11:45:42     search  778373       NaT 2017-05-20    AMS   \n",
       "22309 2017-04-27 13:20:22     search  786588       NaT 2017-06-28    AMS   \n",
       "37901 2017-04-23 12:54:05     search  ced484       NaT 2017-06-07    BRU   \n",
       "38127 2017-04-28 18:12:17     search  d02975       NaT        NaT    DUB   \n",
       "44551 2017-04-29 23:41:04     search  f31669       NaT 2017-05-20    AMS   \n",
       "45390 2017-04-28 09:46:21     search  f74322       NaT 2017-05-31    AMS   \n",
       "45391 2017-04-28 09:46:31     search  f74322       NaT 2017-05-31    AMS   \n",
       "45429 2017-04-29 16:16:49     search  f78263       NaT 2018-02-23    DUS   \n",
       "\n",
       "      destination  num_adults  num_children  max_count  act_count  diff_ts  \\\n",
       "3582          AYT           0             0          3          1        0   \n",
       "3583          AYT           0             0          3          2      247   \n",
       "3584          AYT           0             0          3          3       76   \n",
       "3885          IST           0             0          1          1        0   \n",
       "7768          TLS           0             0          1          1        0   \n",
       "7981          DUS           0             0          1          1        0   \n",
       "11598         MAD           0             0          1          1        0   \n",
       "12817         DUS           0             0          2          1        0   \n",
       "12818         BKK           0             0          2          2     6147   \n",
       "13181         MUC           0             0          4          1        0   \n",
       "13182         MUC           0             0          4          2       59   \n",
       "13183         MUC           0             0          4          3      941   \n",
       "13184         MUC           0             0          4          4      671   \n",
       "14408         NKG           0             0          1          1        0   \n",
       "22144         BER           0             0          1          1        0   \n",
       "22309         MSP           0             0          2          2      777   \n",
       "37901         CPH           0             0          1          1        0   \n",
       "38127         AMS           0             0          1          1        0   \n",
       "44551         ZRH           0             0          1          1        0   \n",
       "45390         HEL           0             0          2          1        0   \n",
       "45391         HEL           0             0          2          2       10   \n",
       "45429         CPT           0             0          1          1        0   \n",
       "\n",
       "       tr_duration  \n",
       "3582           NaN  \n",
       "3583           NaN  \n",
       "3584           NaN  \n",
       "3885           NaN  \n",
       "7768           NaN  \n",
       "7981           NaN  \n",
       "11598          NaN  \n",
       "12817          NaN  \n",
       "12818          NaN  \n",
       "13181          NaN  \n",
       "13182          NaN  \n",
       "13183          NaN  \n",
       "13184          NaN  \n",
       "14408          NaN  \n",
       "22144          NaN  \n",
       "22309          NaN  \n",
       "37901          NaN  \n",
       "38127          NaN  \n",
       "44551          NaN  \n",
       "45390          NaN  \n",
       "45391          NaN  \n",
       "45429          NaN  "
      ]
     },
     "execution_count": 182,
     "metadata": {},
     "output_type": "execute_result"
    }
   ],
   "source": [
    "df_event_sorted[df_event_sorted['tr_duration'].isna()]"
   ]
  },
  {
   "cell_type": "code",
   "execution_count": 185,
   "metadata": {},
   "outputs": [
    {
     "data": {
      "text/plain": [
       "search    7649\n",
       "book       397\n",
       "Name: event_type, dtype: int64"
      ]
     },
     "execution_count": 185,
     "metadata": {},
     "output_type": "execute_result"
    }
   ],
   "source": [
    "df_event_sorted[df_event_sorted['tr_duration'] == 0]['event_type'].value_counts()"
   ]
  },
  {
   "cell_type": "code",
   "execution_count": 187,
   "metadata": {},
   "outputs": [],
   "source": [
    "# Add day of week of user activities\n",
    "#  It is assumed the week starts on Monday, which is denoted by 0 and ends on Sunday which is denoted by 6\n",
    "df_event_sorted['ts_dow'] = df_event_sorted['ts'].dt.dayofweek"
   ]
  },
  {
   "cell_type": "code",
   "execution_count": 191,
   "metadata": {},
   "outputs": [],
   "source": [
    "df_event_sorted['from_dow'] = df_event_sorted['date_from'].dt.dayofweek\n",
    "df_event_sorted['to_dow'] = df_event_sorted['date_to'].dt.dayofweek"
   ]
  },
  {
   "cell_type": "code",
   "execution_count": 192,
   "metadata": {},
   "outputs": [
    {
     "data": {
      "text/plain": [
       "2.0    9647\n",
       "3.0    8547\n",
       "1.0    6779\n",
       "5.0    6631\n",
       "4.0    5321\n",
       "0.0    5254\n",
       "6.0    4806\n",
       "Name: from_dow, dtype: int64"
      ]
     },
     "execution_count": 192,
     "metadata": {},
     "output_type": "execute_result"
    }
   ],
   "source": [
    "df_event_sorted['from_dow'].value_counts()"
   ]
  },
  {
   "cell_type": "code",
   "execution_count": 193,
   "metadata": {},
   "outputs": [
    {
     "data": {
      "text/plain": [
       "4.0    10250\n",
       "3.0     7884\n",
       "5.0     7261\n",
       "2.0     6398\n",
       "1.0     5247\n",
       "6.0     5085\n",
       "0.0     4879\n",
       "Name: to_dow, dtype: int64"
      ]
     },
     "execution_count": 193,
     "metadata": {},
     "output_type": "execute_result"
    }
   ],
   "source": [
    "df_event_sorted['to_dow'].value_counts()"
   ]
  },
  {
   "cell_type": "code",
   "execution_count": 197,
   "metadata": {},
   "outputs": [],
   "source": [
    "titanic = sns.load_dataset(\"titanic\")"
   ]
  },
  {
   "cell_type": "code",
   "execution_count": 198,
   "metadata": {},
   "outputs": [
    {
     "data": {
      "text/html": [
       "<div>\n",
       "<style scoped>\n",
       "    .dataframe tbody tr th:only-of-type {\n",
       "        vertical-align: middle;\n",
       "    }\n",
       "\n",
       "    .dataframe tbody tr th {\n",
       "        vertical-align: top;\n",
       "    }\n",
       "\n",
       "    .dataframe thead th {\n",
       "        text-align: right;\n",
       "    }\n",
       "</style>\n",
       "<table border=\"1\" class=\"dataframe\">\n",
       "  <thead>\n",
       "    <tr style=\"text-align: right;\">\n",
       "      <th></th>\n",
       "      <th>survived</th>\n",
       "      <th>pclass</th>\n",
       "      <th>sex</th>\n",
       "      <th>age</th>\n",
       "      <th>sibsp</th>\n",
       "      <th>parch</th>\n",
       "      <th>fare</th>\n",
       "      <th>embarked</th>\n",
       "      <th>class</th>\n",
       "      <th>who</th>\n",
       "      <th>adult_male</th>\n",
       "      <th>deck</th>\n",
       "      <th>embark_town</th>\n",
       "      <th>alive</th>\n",
       "      <th>alone</th>\n",
       "    </tr>\n",
       "  </thead>\n",
       "  <tbody>\n",
       "    <tr>\n",
       "      <td>0</td>\n",
       "      <td>0</td>\n",
       "      <td>3</td>\n",
       "      <td>male</td>\n",
       "      <td>22.0</td>\n",
       "      <td>1</td>\n",
       "      <td>0</td>\n",
       "      <td>7.2500</td>\n",
       "      <td>S</td>\n",
       "      <td>Third</td>\n",
       "      <td>man</td>\n",
       "      <td>True</td>\n",
       "      <td>NaN</td>\n",
       "      <td>Southampton</td>\n",
       "      <td>no</td>\n",
       "      <td>False</td>\n",
       "    </tr>\n",
       "    <tr>\n",
       "      <td>1</td>\n",
       "      <td>1</td>\n",
       "      <td>1</td>\n",
       "      <td>female</td>\n",
       "      <td>38.0</td>\n",
       "      <td>1</td>\n",
       "      <td>0</td>\n",
       "      <td>71.2833</td>\n",
       "      <td>C</td>\n",
       "      <td>First</td>\n",
       "      <td>woman</td>\n",
       "      <td>False</td>\n",
       "      <td>C</td>\n",
       "      <td>Cherbourg</td>\n",
       "      <td>yes</td>\n",
       "      <td>False</td>\n",
       "    </tr>\n",
       "    <tr>\n",
       "      <td>2</td>\n",
       "      <td>1</td>\n",
       "      <td>3</td>\n",
       "      <td>female</td>\n",
       "      <td>26.0</td>\n",
       "      <td>0</td>\n",
       "      <td>0</td>\n",
       "      <td>7.9250</td>\n",
       "      <td>S</td>\n",
       "      <td>Third</td>\n",
       "      <td>woman</td>\n",
       "      <td>False</td>\n",
       "      <td>NaN</td>\n",
       "      <td>Southampton</td>\n",
       "      <td>yes</td>\n",
       "      <td>True</td>\n",
       "    </tr>\n",
       "    <tr>\n",
       "      <td>3</td>\n",
       "      <td>1</td>\n",
       "      <td>1</td>\n",
       "      <td>female</td>\n",
       "      <td>35.0</td>\n",
       "      <td>1</td>\n",
       "      <td>0</td>\n",
       "      <td>53.1000</td>\n",
       "      <td>S</td>\n",
       "      <td>First</td>\n",
       "      <td>woman</td>\n",
       "      <td>False</td>\n",
       "      <td>C</td>\n",
       "      <td>Southampton</td>\n",
       "      <td>yes</td>\n",
       "      <td>False</td>\n",
       "    </tr>\n",
       "    <tr>\n",
       "      <td>4</td>\n",
       "      <td>0</td>\n",
       "      <td>3</td>\n",
       "      <td>male</td>\n",
       "      <td>35.0</td>\n",
       "      <td>0</td>\n",
       "      <td>0</td>\n",
       "      <td>8.0500</td>\n",
       "      <td>S</td>\n",
       "      <td>Third</td>\n",
       "      <td>man</td>\n",
       "      <td>True</td>\n",
       "      <td>NaN</td>\n",
       "      <td>Southampton</td>\n",
       "      <td>no</td>\n",
       "      <td>True</td>\n",
       "    </tr>\n",
       "  </tbody>\n",
       "</table>\n",
       "</div>"
      ],
      "text/plain": [
       "   survived  pclass     sex   age  sibsp  parch     fare embarked  class  \\\n",
       "0         0       3    male  22.0      1      0   7.2500        S  Third   \n",
       "1         1       1  female  38.0      1      0  71.2833        C  First   \n",
       "2         1       3  female  26.0      0      0   7.9250        S  Third   \n",
       "3         1       1  female  35.0      1      0  53.1000        S  First   \n",
       "4         0       3    male  35.0      0      0   8.0500        S  Third   \n",
       "\n",
       "     who  adult_male deck  embark_town alive  alone  \n",
       "0    man        True  NaN  Southampton    no  False  \n",
       "1  woman       False    C    Cherbourg   yes  False  \n",
       "2  woman       False  NaN  Southampton   yes   True  \n",
       "3  woman       False    C  Southampton   yes  False  \n",
       "4    man        True  NaN  Southampton    no   True  "
      ]
     },
     "execution_count": 198,
     "metadata": {},
     "output_type": "execute_result"
    }
   ],
   "source": [
    "titanic.head(5)"
   ]
  },
  {
   "cell_type": "code",
   "execution_count": 200,
   "metadata": {},
   "outputs": [
    {
     "data": {
      "text/plain": [
       "<matplotlib.axes._subplots.AxesSubplot at 0x1a24dd5a90>"
      ]
     },
     "execution_count": 200,
     "metadata": {},
     "output_type": "execute_result"
    },
    {
     "data": {
      "image/png": "[encoded data removed]",
      "text/plain": [
       "<Figure size 432x288 with 1 Axes>"
      ]
     },
     "metadata": {
      "needs_background": "light"
     },
     "output_type": "display_data"
    }
   ],
   "source": [
    "sns.countplot(x=\"class\", hue=\"who\", data=titanic)"
   ]
  },
  {
   "cell_type": "code",
   "execution_count": 201,
   "metadata": {},
   "outputs": [
    {
     "data": {
      "text/plain": [
       "<matplotlib.axes._subplots.AxesSubplot at 0x1a21239ef0>"
      ]
     },
     "execution_count": 201,
     "metadata": {},
     "output_type": "execute_result"
    },
    {
     "data": {
      "image/png": "[encoded data removed]",
      "text/plain": [
       "<Figure size 432x288 with 1 Axes>"
      ]
     },
     "metadata": {
      "needs_background": "light"
     },
     "output_type": "display_data"
    }
   ],
   "source": [
    "sns.countplot(x='from_dow', hue='event_type', data=df_event_sorted)"
   ]
  },
  {
   "cell_type": "code",
   "execution_count": 204,
   "metadata": {},
   "outputs": [
    {
     "data": {
      "text/plain": [
       "<matplotlib.axes._subplots.AxesSubplot at 0x1a24b7c438>"
      ]
     },
     "execution_count": 204,
     "metadata": {},
     "output_type": "execute_result"
    },
    {
     "data": {
      "image/png": "[encoded data removed]",
      "text/plain": [
       "<Figure size 432x288 with 1 Axes>"
      ]
     },
     "metadata": {
      "needs_background": "light"
     },
     "output_type": "display_data"
    }
   ],
   "source": [
    "sns.countplot(x='to_dow', hue='event_type', data=df_event_sorted)"
   ]
  },
  {
   "cell_type": "code",
   "execution_count": 202,
   "metadata": {},
   "outputs": [
    {
     "data": {
      "text/plain": [
       "<matplotlib.axes._subplots.AxesSubplot at 0x1a25c536a0>"
      ]
     },
     "execution_count": 202,
     "metadata": {},
     "output_type": "execute_result"
    },
    {
     "data": {
      "image/png": "[encoded data removed]",
      "text/plain": [
       "<Figure size 432x288 with 1 Axes>"
      ]
     },
     "metadata": {
      "needs_background": "light"
     },
     "output_type": "display_data"
    }
   ],
   "source": [
    "sns.countplot(x='ts_dow', hue='event_type', data=df_event_sorted)"
   ]
  },
  {
   "cell_type": "code",
   "execution_count": 203,
   "metadata": {},
   "outputs": [
    {
     "data": {
      "text/plain": [
       "<matplotlib.axes._subplots.AxesSubplot at 0x1a24b7c898>"
      ]
     },
     "execution_count": 203,
     "metadata": {},
     "output_type": "execute_result"
    },
    {
     "data": {
      "image/png": "[encoded data removed]",
      "text/plain": [
       "<Figure size 432x288 with 1 Axes>"
      ]
     },
     "metadata": {
      "needs_background": "light"
     },
     "output_type": "display_data"
    }
   ],
   "source": [
    "prop_df = (df_event_sorted['ts_dow']\n",
    "           .groupby(df_event_sorted['event_type'])\n",
    "           .value_counts(normalize=True)\n",
    "           .rename('prop')\n",
    "           .reset_index())\n",
    "\n",
    "sns.barplot(x='ts_dow', y='prop', hue='event_type', data=prop_df)"
   ]
  },
  {
   "cell_type": "code",
   "execution_count": 211,
   "metadata": {},
   "outputs": [
    {
     "data": {
      "text/html": [
       "<div>\n",
       "<style scoped>\n",
       "    .dataframe tbody tr th:only-of-type {\n",
       "        vertical-align: middle;\n",
       "    }\n",
       "\n",
       "    .dataframe tbody tr th {\n",
       "        vertical-align: top;\n",
       "    }\n",
       "\n",
       "    .dataframe thead th {\n",
       "        text-align: right;\n",
       "    }\n",
       "</style>\n",
       "<table border=\"1\" class=\"dataframe\">\n",
       "  <thead>\n",
       "    <tr style=\"text-align: right;\">\n",
       "      <th></th>\n",
       "      <th>ts</th>\n",
       "      <th>event_type</th>\n",
       "      <th>user_id</th>\n",
       "      <th>date_from</th>\n",
       "      <th>date_to</th>\n",
       "      <th>origin</th>\n",
       "      <th>destination</th>\n",
       "      <th>num_adults</th>\n",
       "      <th>num_children</th>\n",
       "      <th>max_count</th>\n",
       "      <th>act_count</th>\n",
       "      <th>diff_ts</th>\n",
       "      <th>tr_duration</th>\n",
       "      <th>ts_dow</th>\n",
       "      <th>from_dow</th>\n",
       "      <th>to_dow</th>\n",
       "      <th>ts_hour</th>\n",
       "    </tr>\n",
       "  </thead>\n",
       "  <tbody>\n",
       "    <tr>\n",
       "      <td>0</td>\n",
       "      <td>2017-04-29 17:59:51</td>\n",
       "      <td>search</td>\n",
       "      <td>000069</td>\n",
       "      <td>2017-05-10</td>\n",
       "      <td>2017-05-26</td>\n",
       "      <td>FRA</td>\n",
       "      <td>ALG</td>\n",
       "      <td>2</td>\n",
       "      <td>3</td>\n",
       "      <td>1</td>\n",
       "      <td>1</td>\n",
       "      <td>0</td>\n",
       "      <td>16.0</td>\n",
       "      <td>5</td>\n",
       "      <td>2.0</td>\n",
       "      <td>4.0</td>\n",
       "      <td>17</td>\n",
       "    </tr>\n",
       "    <tr>\n",
       "      <td>1</td>\n",
       "      <td>2017-04-28 19:14:23</td>\n",
       "      <td>search</td>\n",
       "      <td>00019d</td>\n",
       "      <td>2017-09-15</td>\n",
       "      <td>2017-10-13</td>\n",
       "      <td>PAR</td>\n",
       "      <td>SSA</td>\n",
       "      <td>4</td>\n",
       "      <td>0</td>\n",
       "      <td>1</td>\n",
       "      <td>1</td>\n",
       "      <td>0</td>\n",
       "      <td>28.0</td>\n",
       "      <td>4</td>\n",
       "      <td>4.0</td>\n",
       "      <td>4.0</td>\n",
       "      <td>19</td>\n",
       "    </tr>\n",
       "  </tbody>\n",
       "</table>\n",
       "</div>"
      ],
      "text/plain": [
       "                   ts event_type user_id  date_from    date_to origin  \\\n",
       "0 2017-04-29 17:59:51     search  000069 2017-05-10 2017-05-26    FRA   \n",
       "1 2017-04-28 19:14:23     search  00019d 2017-09-15 2017-10-13    PAR   \n",
       "\n",
       "  destination  num_adults  num_children  max_count  act_count  diff_ts  \\\n",
       "0         ALG           2             3          1          1        0   \n",
       "1         SSA           4             0          1          1        0   \n",
       "\n",
       "   tr_duration  ts_dow  from_dow  to_dow  ts_hour  \n",
       "0         16.0       5       2.0     4.0       17  \n",
       "1         28.0       4       4.0     4.0       19  "
      ]
     },
     "execution_count": 211,
     "metadata": {},
     "output_type": "execute_result"
    }
   ],
   "source": [
    "df_event_sorted.head(2)"
   ]
  },
  {
   "cell_type": "code",
   "execution_count": 210,
   "metadata": {},
   "outputs": [],
   "source": [
    "df_event_sorted['ts_hour'] = df_event_sorted['ts'].dt.hour"
   ]
  },
  {
   "cell_type": "code",
   "execution_count": 215,
   "metadata": {},
   "outputs": [
    {
     "data": {
      "text/plain": [
       "<matplotlib.axes._subplots.AxesSubplot at 0x1a25c61208>"
      ]
     },
     "execution_count": 215,
     "metadata": {},
     "output_type": "execute_result"
    },
    {
     "data": {
      "image/png": "[encoded data removed]",
      "text/plain": [
       "<Figure size 432x288 with 1 Axes>"
      ]
     },
     "metadata": {
      "needs_background": "light"
     },
     "output_type": "display_data"
    }
   ],
   "source": [
    "sns.countplot(x='ts_hour', hue='event_type', data=df_event_sorted)"
   ]
  },
  {
   "cell_type": "code",
   "execution_count": 220,
   "metadata": {},
   "outputs": [
    {
     "data": {
      "text/plain": [
       "<matplotlib.axes._subplots.AxesSubplot at 0x1a266bf550>"
      ]
     },
     "execution_count": 220,
     "metadata": {},
     "output_type": "execute_result"
    },
    {
     "data": {
      "image/png": "[encoded data removed]",
      "text/plain": [
       "<Figure size 432x288 with 1 Axes>"
      ]
     },
     "metadata": {
      "needs_background": "light"
     },
     "output_type": "display_data"
    }
   ],
   "source": [
    "sns.countplot(df_event_sorted[df_event_sorted['event_type'] == 'book']['ts_hour'])"
   ]
  },
  {
   "cell_type": "code",
   "execution_count": 221,
   "metadata": {},
   "outputs": [
    {
     "data": {
      "text/plain": [
       "<matplotlib.axes._subplots.AxesSubplot at 0x1a267bf7f0>"
      ]
     },
     "execution_count": 221,
     "metadata": {},
     "output_type": "execute_result"
    },
    {
     "data": {
      "image/png": "[encoded data removed]",
      "text/plain": [
       "<Figure size 432x288 with 1 Axes>"
      ]
     },
     "metadata": {
      "needs_background": "light"
     },
     "output_type": "display_data"
    }
   ],
   "source": [
    "sns.countplot(df_event_sorted[df_event_sorted['event_type'] == 'search']['ts_hour'])"
   ]
  },
  {
   "cell_type": "code",
   "execution_count": 222,
   "metadata": {},
   "outputs": [
    {
     "data": {
      "text/plain": [
       "<matplotlib.axes._subplots.AxesSubplot at 0x1a26bbd940>"
      ]
     },
     "execution_count": 222,
     "metadata": {},
     "output_type": "execute_result"
    },
    {
     "data": {
      "image/png": "[encoded data removed]",
      "text/plain": [
       "<Figure size 432x288 with 1 Axes>"
      ]
     },
     "metadata": {
      "needs_background": "light"
     },
     "output_type": "display_data"
    }
   ],
   "source": [
    "sns.countplot(df_event_sorted[df_event_sorted['event_type'] == 'book']['act_count'])"
   ]
  },
  {
   "cell_type": "code",
   "execution_count": 224,
   "metadata": {},
   "outputs": [
    {
     "data": {
      "text/plain": [
       "<matplotlib.axes._subplots.AxesSubplot at 0x1a26d272b0>"
      ]
     },
     "execution_count": 224,
     "metadata": {},
     "output_type": "execute_result"
    },
    {
     "data": {
      "image/png": "[encoded data removed]",
      "text/plain": [
       "<Figure size 432x288 with 1 Axes>"
      ]
     },
     "metadata": {
      "needs_background": "light"
     },
     "output_type": "display_data"
    }
   ],
   "source": [
    "sns.distplot(df_event_sorted[df_event_sorted['event_type'] == 'book']['tr_duration'].fillna(0))"
   ]
  },
  {
   "cell_type": "code",
   "execution_count": 229,
   "metadata": {},
   "outputs": [
    {
     "data": {
      "text/html": [
       "<div>\n",
       "<style scoped>\n",
       "    .dataframe tbody tr th:only-of-type {\n",
       "        vertical-align: middle;\n",
       "    }\n",
       "\n",
       "    .dataframe tbody tr th {\n",
       "        vertical-align: top;\n",
       "    }\n",
       "\n",
       "    .dataframe thead th {\n",
       "        text-align: right;\n",
       "    }\n",
       "</style>\n",
       "<table border=\"1\" class=\"dataframe\">\n",
       "  <thead>\n",
       "    <tr style=\"text-align: right;\">\n",
       "      <th></th>\n",
       "      <th>ts</th>\n",
       "      <th>event_type</th>\n",
       "      <th>user_id</th>\n",
       "      <th>date_from</th>\n",
       "      <th>date_to</th>\n",
       "      <th>origin</th>\n",
       "      <th>destination</th>\n",
       "      <th>num_adults</th>\n",
       "      <th>num_children</th>\n",
       "      <th>max_count</th>\n",
       "      <th>act_count</th>\n",
       "      <th>diff_ts</th>\n",
       "      <th>tr_duration</th>\n",
       "      <th>ts_dow</th>\n",
       "      <th>from_dow</th>\n",
       "      <th>to_dow</th>\n",
       "      <th>ts_hour</th>\n",
       "    </tr>\n",
       "  </thead>\n",
       "  <tbody>\n",
       "    <tr>\n",
       "      <td>0</td>\n",
       "      <td>2017-04-29 17:59:51</td>\n",
       "      <td>search</td>\n",
       "      <td>000069</td>\n",
       "      <td>2017-05-10</td>\n",
       "      <td>2017-05-26</td>\n",
       "      <td>FRA</td>\n",
       "      <td>ALG</td>\n",
       "      <td>2</td>\n",
       "      <td>3</td>\n",
       "      <td>1</td>\n",
       "      <td>1</td>\n",
       "      <td>0</td>\n",
       "      <td>16.0</td>\n",
       "      <td>5</td>\n",
       "      <td>2.0</td>\n",
       "      <td>4.0</td>\n",
       "      <td>17</td>\n",
       "    </tr>\n",
       "    <tr>\n",
       "      <td>1</td>\n",
       "      <td>2017-04-28 19:14:23</td>\n",
       "      <td>search</td>\n",
       "      <td>00019d</td>\n",
       "      <td>2017-09-15</td>\n",
       "      <td>2017-10-13</td>\n",
       "      <td>PAR</td>\n",
       "      <td>SSA</td>\n",
       "      <td>4</td>\n",
       "      <td>0</td>\n",
       "      <td>1</td>\n",
       "      <td>1</td>\n",
       "      <td>0</td>\n",
       "      <td>28.0</td>\n",
       "      <td>4</td>\n",
       "      <td>4.0</td>\n",
       "      <td>4.0</td>\n",
       "      <td>19</td>\n",
       "    </tr>\n",
       "    <tr>\n",
       "      <td>2</td>\n",
       "      <td>2017-04-24 21:25:10</td>\n",
       "      <td>search</td>\n",
       "      <td>0002e3</td>\n",
       "      <td>2017-05-01</td>\n",
       "      <td>2017-05-01</td>\n",
       "      <td>PAR</td>\n",
       "      <td>ATH</td>\n",
       "      <td>1</td>\n",
       "      <td>0</td>\n",
       "      <td>1</td>\n",
       "      <td>1</td>\n",
       "      <td>0</td>\n",
       "      <td>0.0</td>\n",
       "      <td>0</td>\n",
       "      <td>0.0</td>\n",
       "      <td>0.0</td>\n",
       "      <td>21</td>\n",
       "    </tr>\n",
       "    <tr>\n",
       "      <td>3</td>\n",
       "      <td>2017-04-27 16:34:02</td>\n",
       "      <td>search</td>\n",
       "      <td>000332</td>\n",
       "      <td>2017-06-08</td>\n",
       "      <td>2017-07-07</td>\n",
       "      <td>NCE</td>\n",
       "      <td>TLV</td>\n",
       "      <td>1</td>\n",
       "      <td>0</td>\n",
       "      <td>4</td>\n",
       "      <td>1</td>\n",
       "      <td>0</td>\n",
       "      <td>29.0</td>\n",
       "      <td>3</td>\n",
       "      <td>3.0</td>\n",
       "      <td>4.0</td>\n",
       "      <td>16</td>\n",
       "    </tr>\n",
       "    <tr>\n",
       "      <td>4</td>\n",
       "      <td>2017-04-27 16:35:35</td>\n",
       "      <td>search</td>\n",
       "      <td>000332</td>\n",
       "      <td>2017-06-08</td>\n",
       "      <td>2017-07-07</td>\n",
       "      <td>NCE</td>\n",
       "      <td>TLV</td>\n",
       "      <td>1</td>\n",
       "      <td>0</td>\n",
       "      <td>4</td>\n",
       "      <td>2</td>\n",
       "      <td>93</td>\n",
       "      <td>29.0</td>\n",
       "      <td>3</td>\n",
       "      <td>3.0</td>\n",
       "      <td>4.0</td>\n",
       "      <td>16</td>\n",
       "    </tr>\n",
       "  </tbody>\n",
       "</table>\n",
       "</div>"
      ],
      "text/plain": [
       "                   ts event_type user_id  date_from    date_to origin  \\\n",
       "0 2017-04-29 17:59:51     search  000069 2017-05-10 2017-05-26    FRA   \n",
       "1 2017-04-28 19:14:23     search  00019d 2017-09-15 2017-10-13    PAR   \n",
       "2 2017-04-24 21:25:10     search  0002e3 2017-05-01 2017-05-01    PAR   \n",
       "3 2017-04-27 16:34:02     search  000332 2017-06-08 2017-07-07    NCE   \n",
       "4 2017-04-27 16:35:35     search  000332 2017-06-08 2017-07-07    NCE   \n",
       "\n",
       "  destination  num_adults  num_children  max_count  act_count  diff_ts  \\\n",
       "0         ALG           2             3          1          1        0   \n",
       "1         SSA           4             0          1          1        0   \n",
       "2         ATH           1             0          1          1        0   \n",
       "3         TLV           1             0          4          1        0   \n",
       "4         TLV           1             0          4          2       93   \n",
       "\n",
       "   tr_duration  ts_dow  from_dow  to_dow  ts_hour  \n",
       "0         16.0       5       2.0     4.0       17  \n",
       "1         28.0       4       4.0     4.0       19  \n",
       "2          0.0       0       0.0     0.0       21  \n",
       "3         29.0       3       3.0     4.0       16  \n",
       "4         29.0       3       3.0     4.0       16  "
      ]
     },
     "execution_count": 229,
     "metadata": {},
     "output_type": "execute_result"
    }
   ],
   "source": [
    "df_event_sorted.head(5)"
   ]
  },
  {
   "cell_type": "code",
   "execution_count": 256,
   "metadata": {},
   "outputs": [],
   "source": [
    "df_event_sorted['origin_changed'] = df_event_sorted['origin'] != df_event_sorted['origin'].shift(1).fillna(df_event_sorted['origin'])\n",
    "df_event_sorted['origin_changed'] = df_event_sorted['origin_changed'] * (df_event_sorted['act_count']>1)\n",
    "df_event_sorted['origin_changed'] = df_event_sorted['origin_changed'].astype(int)"
   ]
  },
  {
   "cell_type": "code",
   "execution_count": 263,
   "metadata": {},
   "outputs": [],
   "source": [
    "df_event_sorted['destin_changed'] = df_event_sorted['destination'] != df_event_sorted['destination'].shift(1).fillna(df_event_sorted['destination'])\n",
    "df_event_sorted['destin_changed'] = df_event_sorted['destin_changed'] * (df_event_sorted['act_count']>1)\n",
    "df_event_sorted['destin_changed'] = df_event_sorted['destin_changed'].astype(int)"
   ]
  },
  {
   "cell_type": "code",
   "execution_count": 264,
   "metadata": {},
   "outputs": [
    {
     "data": {
      "text/html": [
       "<div>\n",
       "<style scoped>\n",
       "    .dataframe tbody tr th:only-of-type {\n",
       "        vertical-align: middle;\n",
       "    }\n",
       "\n",
       "    .dataframe tbody tr th {\n",
       "        vertical-align: top;\n",
       "    }\n",
       "\n",
       "    .dataframe thead th {\n",
       "        text-align: right;\n",
       "    }\n",
       "</style>\n",
       "<table border=\"1\" class=\"dataframe\">\n",
       "  <thead>\n",
       "    <tr style=\"text-align: right;\">\n",
       "      <th></th>\n",
       "      <th>ts</th>\n",
       "      <th>event_type</th>\n",
       "      <th>user_id</th>\n",
       "      <th>date_from</th>\n",
       "      <th>date_to</th>\n",
       "      <th>origin</th>\n",
       "      <th>destination</th>\n",
       "      <th>num_adults</th>\n",
       "      <th>num_children</th>\n",
       "      <th>max_count</th>\n",
       "      <th>act_count</th>\n",
       "      <th>diff_ts</th>\n",
       "      <th>tr_duration</th>\n",
       "      <th>ts_dow</th>\n",
       "      <th>from_dow</th>\n",
       "      <th>to_dow</th>\n",
       "      <th>ts_hour</th>\n",
       "      <th>origin_changed</th>\n",
       "      <th>destin_changed</th>\n",
       "    </tr>\n",
       "  </thead>\n",
       "  <tbody>\n",
       "    <tr>\n",
       "      <td>0</td>\n",
       "      <td>2017-04-29 17:59:51</td>\n",
       "      <td>search</td>\n",
       "      <td>000069</td>\n",
       "      <td>2017-05-10</td>\n",
       "      <td>2017-05-26</td>\n",
       "      <td>FRA</td>\n",
       "      <td>ALG</td>\n",
       "      <td>2</td>\n",
       "      <td>3</td>\n",
       "      <td>1</td>\n",
       "      <td>1</td>\n",
       "      <td>0</td>\n",
       "      <td>16.0</td>\n",
       "      <td>5</td>\n",
       "      <td>2.0</td>\n",
       "      <td>4.0</td>\n",
       "      <td>17</td>\n",
       "      <td>0</td>\n",
       "      <td>0</td>\n",
       "    </tr>\n",
       "    <tr>\n",
       "      <td>1</td>\n",
       "      <td>2017-04-28 19:14:23</td>\n",
       "      <td>search</td>\n",
       "      <td>00019d</td>\n",
       "      <td>2017-09-15</td>\n",
       "      <td>2017-10-13</td>\n",
       "      <td>PAR</td>\n",
       "      <td>SSA</td>\n",
       "      <td>4</td>\n",
       "      <td>0</td>\n",
       "      <td>1</td>\n",
       "      <td>1</td>\n",
       "      <td>0</td>\n",
       "      <td>28.0</td>\n",
       "      <td>4</td>\n",
       "      <td>4.0</td>\n",
       "      <td>4.0</td>\n",
       "      <td>19</td>\n",
       "      <td>0</td>\n",
       "      <td>0</td>\n",
       "    </tr>\n",
       "    <tr>\n",
       "      <td>2</td>\n",
       "      <td>2017-04-24 21:25:10</td>\n",
       "      <td>search</td>\n",
       "      <td>0002e3</td>\n",
       "      <td>2017-05-01</td>\n",
       "      <td>2017-05-01</td>\n",
       "      <td>PAR</td>\n",
       "      <td>ATH</td>\n",
       "      <td>1</td>\n",
       "      <td>0</td>\n",
       "      <td>1</td>\n",
       "      <td>1</td>\n",
       "      <td>0</td>\n",
       "      <td>0.0</td>\n",
       "      <td>0</td>\n",
       "      <td>0.0</td>\n",
       "      <td>0.0</td>\n",
       "      <td>21</td>\n",
       "      <td>0</td>\n",
       "      <td>0</td>\n",
       "    </tr>\n",
       "    <tr>\n",
       "      <td>3</td>\n",
       "      <td>2017-04-27 16:34:02</td>\n",
       "      <td>search</td>\n",
       "      <td>000332</td>\n",
       "      <td>2017-06-08</td>\n",
       "      <td>2017-07-07</td>\n",
       "      <td>NCE</td>\n",
       "      <td>TLV</td>\n",
       "      <td>1</td>\n",
       "      <td>0</td>\n",
       "      <td>4</td>\n",
       "      <td>1</td>\n",
       "      <td>0</td>\n",
       "      <td>29.0</td>\n",
       "      <td>3</td>\n",
       "      <td>3.0</td>\n",
       "      <td>4.0</td>\n",
       "      <td>16</td>\n",
       "      <td>0</td>\n",
       "      <td>0</td>\n",
       "    </tr>\n",
       "    <tr>\n",
       "      <td>4</td>\n",
       "      <td>2017-04-27 16:35:35</td>\n",
       "      <td>search</td>\n",
       "      <td>000332</td>\n",
       "      <td>2017-06-08</td>\n",
       "      <td>2017-07-07</td>\n",
       "      <td>NCE</td>\n",
       "      <td>TLV</td>\n",
       "      <td>1</td>\n",
       "      <td>0</td>\n",
       "      <td>4</td>\n",
       "      <td>2</td>\n",
       "      <td>93</td>\n",
       "      <td>29.0</td>\n",
       "      <td>3</td>\n",
       "      <td>3.0</td>\n",
       "      <td>4.0</td>\n",
       "      <td>16</td>\n",
       "      <td>0</td>\n",
       "      <td>0</td>\n",
       "    </tr>\n",
       "    <tr>\n",
       "      <td>5</td>\n",
       "      <td>2017-04-27 16:39:10</td>\n",
       "      <td>search</td>\n",
       "      <td>000332</td>\n",
       "      <td>2017-06-08</td>\n",
       "      <td>2017-07-07</td>\n",
       "      <td>NCE</td>\n",
       "      <td>TLV</td>\n",
       "      <td>2</td>\n",
       "      <td>0</td>\n",
       "      <td>4</td>\n",
       "      <td>3</td>\n",
       "      <td>215</td>\n",
       "      <td>29.0</td>\n",
       "      <td>3</td>\n",
       "      <td>3.0</td>\n",
       "      <td>4.0</td>\n",
       "      <td>16</td>\n",
       "      <td>0</td>\n",
       "      <td>0</td>\n",
       "    </tr>\n",
       "    <tr>\n",
       "      <td>6</td>\n",
       "      <td>2017-04-27 21:24:01</td>\n",
       "      <td>search</td>\n",
       "      <td>000332</td>\n",
       "      <td>2017-06-08</td>\n",
       "      <td>2017-07-07</td>\n",
       "      <td>TLV</td>\n",
       "      <td>NCE</td>\n",
       "      <td>2</td>\n",
       "      <td>0</td>\n",
       "      <td>4</td>\n",
       "      <td>4</td>\n",
       "      <td>17091</td>\n",
       "      <td>29.0</td>\n",
       "      <td>3</td>\n",
       "      <td>3.0</td>\n",
       "      <td>4.0</td>\n",
       "      <td>21</td>\n",
       "      <td>1</td>\n",
       "      <td>1</td>\n",
       "    </tr>\n",
       "  </tbody>\n",
       "</table>\n",
       "</div>"
      ],
      "text/plain": [
       "                   ts event_type user_id  date_from    date_to origin  \\\n",
       "0 2017-04-29 17:59:51     search  000069 2017-05-10 2017-05-26    FRA   \n",
       "1 2017-04-28 19:14:23     search  00019d 2017-09-15 2017-10-13    PAR   \n",
       "2 2017-04-24 21:25:10     search  0002e3 2017-05-01 2017-05-01    PAR   \n",
       "3 2017-04-27 16:34:02     search  000332 2017-06-08 2017-07-07    NCE   \n",
       "4 2017-04-27 16:35:35     search  000332 2017-06-08 2017-07-07    NCE   \n",
       "5 2017-04-27 16:39:10     search  000332 2017-06-08 2017-07-07    NCE   \n",
       "6 2017-04-27 21:24:01     search  000332 2017-06-08 2017-07-07    TLV   \n",
       "\n",
       "  destination  num_adults  num_children  max_count  act_count  diff_ts  \\\n",
       "0         ALG           2             3          1          1        0   \n",
       "1         SSA           4             0          1          1        0   \n",
       "2         ATH           1             0          1          1        0   \n",
       "3         TLV           1             0          4          1        0   \n",
       "4         TLV           1             0          4          2       93   \n",
       "5         TLV           2             0          4          3      215   \n",
       "6         NCE           2             0          4          4    17091   \n",
       "\n",
       "   tr_duration  ts_dow  from_dow  to_dow  ts_hour  origin_changed  \\\n",
       "0         16.0       5       2.0     4.0       17               0   \n",
       "1         28.0       4       4.0     4.0       19               0   \n",
       "2          0.0       0       0.0     0.0       21               0   \n",
       "3         29.0       3       3.0     4.0       16               0   \n",
       "4         29.0       3       3.0     4.0       16               0   \n",
       "5         29.0       3       3.0     4.0       16               0   \n",
       "6         29.0       3       3.0     4.0       21               1   \n",
       "\n",
       "   destin_changed  \n",
       "0               0  \n",
       "1               0  \n",
       "2               0  \n",
       "3               0  \n",
       "4               0  \n",
       "5               0  \n",
       "6               1  "
      ]
     },
     "execution_count": 264,
     "metadata": {},
     "output_type": "execute_result"
    }
   ],
   "source": [
    "df_event_sorted.head(7)"
   ]
  },
  {
   "cell_type": "code",
   "execution_count": 260,
   "metadata": {},
   "outputs": [
    {
     "data": {
      "text/plain": [
       "search    1642\n",
       "book        61\n",
       "Name: event_type, dtype: int64"
      ]
     },
     "execution_count": 260,
     "metadata": {},
     "output_type": "execute_result"
    }
   ],
   "source": [
    "df_event_sorted[df_event_sorted['origin_changed'] == 1]['event_type'].value_counts()"
   ]
  },
  {
   "cell_type": "code",
   "execution_count": 261,
   "metadata": {},
   "outputs": [
    {
     "data": {
      "text/plain": [
       "search    45198\n",
       "book       1809\n",
       "Name: event_type, dtype: int64"
      ]
     },
     "execution_count": 261,
     "metadata": {},
     "output_type": "execute_result"
    }
   ],
   "source": [
    "df_event_sorted['event_type'].value_counts()"
   ]
  },
  {
   "cell_type": "code",
   "execution_count": 262,
   "metadata": {},
   "outputs": [
    {
     "data": {
      "text/plain": [
       "(0.03714981729598051, 0.04002389486260454)"
      ]
     },
     "execution_count": 262,
     "metadata": {},
     "output_type": "execute_result"
    }
   ],
   "source": [
    "61/1642, 1809/45198"
   ]
  },
  {
   "cell_type": "code",
   "execution_count": 265,
   "metadata": {},
   "outputs": [
    {
     "data": {
      "text/plain": [
       "search    1749\n",
       "book        53\n",
       "Name: event_type, dtype: int64"
      ]
     },
     "execution_count": 265,
     "metadata": {},
     "output_type": "execute_result"
    }
   ],
   "source": [
    "df_event_sorted[df_event_sorted['destin_changed'] == 1]['event_type'].value_counts()"
   ]
  },
  {
   "cell_type": "code",
   "execution_count": 266,
   "metadata": {},
   "outputs": [
    {
     "data": {
      "text/plain": [
       "0.030303030303030304"
      ]
     },
     "execution_count": 266,
     "metadata": {},
     "output_type": "execute_result"
    }
   ],
   "source": [
    "53/1749"
   ]
  },
  {
   "cell_type": "code",
   "execution_count": 267,
   "metadata": {},
   "outputs": [],
   "source": [
    "df_event_sorted['total_passenger'] = df_event_sorted['num_adults']+df_event_sorted['num_children']"
   ]
  },
  {
   "cell_type": "code",
   "execution_count": 268,
   "metadata": {},
   "outputs": [
    {
     "data": {
      "text/plain": [
       "<matplotlib.axes._subplots.AxesSubplot at 0x1a26e05e10>"
      ]
     },
     "execution_count": 268,
     "metadata": {},
     "output_type": "execute_result"
    },
    {
     "data": {
      "image/png": "[encoded data removed]",
      "text/plain": [
       "<Figure size 432x288 with 1 Axes>"
      ]
     },
     "metadata": {
      "needs_background": "light"
     },
     "output_type": "display_data"
    }
   ],
   "source": [
    "sns.countplot(df_event_sorted['total_passenger'])"
   ]
  },
  {
   "cell_type": "code",
   "execution_count": 269,
   "metadata": {},
   "outputs": [
    {
     "data": {
      "text/plain": [
       "<matplotlib.axes._subplots.AxesSubplot at 0x1a26e053c8>"
      ]
     },
     "execution_count": 269,
     "metadata": {},
     "output_type": "execute_result"
    },
    {
     "data": {
      "image/png": "[encoded data removed]",
      "text/plain": [
       "<Figure size 432x288 with 1 Axes>"
      ]
     },
     "metadata": {
      "needs_background": "light"
     },
     "output_type": "display_data"
    }
   ],
   "source": [
    "sns.countplot(df_event_sorted[df_event_sorted['event_type'] == 'book']['total_passenger'])"
   ]
  },
  {
   "cell_type": "code",
   "execution_count": 270,
   "metadata": {},
   "outputs": [
    {
     "data": {
      "text/plain": [
       "<matplotlib.axes._subplots.AxesSubplot at 0x1a26f65160>"
      ]
     },
     "execution_count": 270,
     "metadata": {},
     "output_type": "execute_result"
    },
    {
     "data": {
      "image/png": "[encoded data removed]",
      "text/plain": [
       "<Figure size 432x288 with 1 Axes>"
      ]
     },
     "metadata": {
      "needs_background": "light"
     },
     "output_type": "display_data"
    }
   ],
   "source": [
    "sns.countplot(df_event_sorted[df_event_sorted['event_type'] == 'search']['total_passenger'])"
   ]
  },
  {
   "cell_type": "code",
   "execution_count": 271,
   "metadata": {},
   "outputs": [
    {
     "data": {
      "text/plain": [
       "<matplotlib.axes._subplots.AxesSubplot at 0x1a28470fd0>"
      ]
     },
     "execution_count": 271,
     "metadata": {},
     "output_type": "execute_result"
    },
    {
     "data": {
      "image/png": "[encoded data removed]",
      "text/plain": [
       "<Figure size 432x288 with 1 Axes>"
      ]
     },
     "metadata": {
      "needs_background": "light"
     },
     "output_type": "display_data"
    }
   ],
   "source": [
    "sns.countplot(df_event_sorted[df_event_sorted['event_type'] == 'book']['num_adults'])"
   ]
  },
  {
   "cell_type": "code",
   "execution_count": 272,
   "metadata": {},
   "outputs": [
    {
     "data": {
      "text/plain": [
       "<matplotlib.axes._subplots.AxesSubplot at 0x1a281a6240>"
      ]
     },
     "execution_count": 272,
     "metadata": {},
     "output_type": "execute_result"
    },
    {
     "data": {
      "image/png": "[encoded data removed]",
      "text/plain": [
       "<Figure size 432x288 with 1 Axes>"
      ]
     },
     "metadata": {
      "needs_background": "light"
     },
     "output_type": "display_data"
    }
   ],
   "source": [
    "sns.countplot(df_event_sorted[df_event_sorted['event_type'] == 'search']['num_adults'])"
   ]
  },
  {
   "cell_type": "code",
   "execution_count": 273,
   "metadata": {},
   "outputs": [
    {
     "data": {
      "text/plain": [
       "<matplotlib.axes._subplots.AxesSubplot at 0x1a283f8eb8>"
      ]
     },
     "execution_count": 273,
     "metadata": {},
     "output_type": "execute_result"
    },
    {
     "data": {
      "image/png": "[encoded data removed]",
      "text/plain": [
       "<Figure size 432x288 with 1 Axes>"
      ]
     },
     "metadata": {
      "needs_background": "light"
     },
     "output_type": "display_data"
    }
   ],
   "source": [
    "sns.countplot(df_event_sorted[df_event_sorted['event_type'] == 'book']['num_children'])"
   ]
  },
  {
   "cell_type": "code",
   "execution_count": 274,
   "metadata": {},
   "outputs": [
    {
     "data": {
      "text/plain": [
       "<matplotlib.axes._subplots.AxesSubplot at 0x1a282095c0>"
      ]
     },
     "execution_count": 274,
     "metadata": {},
     "output_type": "execute_result"
    },
    {
     "data": {
      "image/png": "[encoded data removed]",
      "text/plain": [
       "<Figure size 432x288 with 1 Axes>"
      ]
     },
     "metadata": {
      "needs_background": "light"
     },
     "output_type": "display_data"
    }
   ],
   "source": [
    "sns.countplot(df_event_sorted[df_event_sorted['event_type'] == 'search']['num_children'])"
   ]
  },
  {
   "cell_type": "code",
   "execution_count": 275,
   "metadata": {},
   "outputs": [
    {
     "data": {
      "text/plain": [
       "search    45198\n",
       "book       1809\n",
       "Name: event_type, dtype: int64"
      ]
     },
     "execution_count": 275,
     "metadata": {},
     "output_type": "execute_result"
    }
   ],
   "source": [
    "df_event_sorted['event_type'].value_counts()"
   ]
  },
  {
   "cell_type": "code",
   "execution_count": 276,
   "metadata": {},
   "outputs": [
    {
     "data": {
      "text/plain": [
       "0.04002389486260454"
      ]
     },
     "execution_count": 276,
     "metadata": {},
     "output_type": "execute_result"
    }
   ],
   "source": [
    "1809/45198"
   ]
  },
  {
   "cell_type": "code",
   "execution_count": 279,
   "metadata": {},
   "outputs": [],
   "source": [
    "df_event_sorted['ts_day'] = df_event_sorted['ts'].dt.day\n",
    "df_event_sorted['ts_month'] = df_event_sorted['ts'].dt.month"
   ]
  },
  {
   "cell_type": "code",
   "execution_count": 280,
   "metadata": {},
   "outputs": [
    {
     "data": {
      "text/html": [
       "<div>\n",
       "<style scoped>\n",
       "    .dataframe tbody tr th:only-of-type {\n",
       "        vertical-align: middle;\n",
       "    }\n",
       "\n",
       "    .dataframe tbody tr th {\n",
       "        vertical-align: top;\n",
       "    }\n",
       "\n",
       "    .dataframe thead th {\n",
       "        text-align: right;\n",
       "    }\n",
       "</style>\n",
       "<table border=\"1\" class=\"dataframe\">\n",
       "  <thead>\n",
       "    <tr style=\"text-align: right;\">\n",
       "      <th></th>\n",
       "      <th>ts</th>\n",
       "      <th>event_type</th>\n",
       "      <th>user_id</th>\n",
       "      <th>date_from</th>\n",
       "      <th>date_to</th>\n",
       "      <th>origin</th>\n",
       "      <th>destination</th>\n",
       "      <th>num_adults</th>\n",
       "      <th>num_children</th>\n",
       "      <th>max_count</th>\n",
       "      <th>...</th>\n",
       "      <th>tr_duration</th>\n",
       "      <th>ts_dow</th>\n",
       "      <th>from_dow</th>\n",
       "      <th>to_dow</th>\n",
       "      <th>ts_hour</th>\n",
       "      <th>origin_changed</th>\n",
       "      <th>destin_changed</th>\n",
       "      <th>total_passenger</th>\n",
       "      <th>ts_day</th>\n",
       "      <th>ts_month</th>\n",
       "    </tr>\n",
       "  </thead>\n",
       "  <tbody>\n",
       "    <tr>\n",
       "      <td>0</td>\n",
       "      <td>2017-04-29 17:59:51</td>\n",
       "      <td>search</td>\n",
       "      <td>000069</td>\n",
       "      <td>2017-05-10</td>\n",
       "      <td>2017-05-26</td>\n",
       "      <td>FRA</td>\n",
       "      <td>ALG</td>\n",
       "      <td>2</td>\n",
       "      <td>3</td>\n",
       "      <td>1</td>\n",
       "      <td>...</td>\n",
       "      <td>16.0</td>\n",
       "      <td>5</td>\n",
       "      <td>2.0</td>\n",
       "      <td>4.0</td>\n",
       "      <td>17</td>\n",
       "      <td>0</td>\n",
       "      <td>0</td>\n",
       "      <td>5</td>\n",
       "      <td>29</td>\n",
       "      <td>4</td>\n",
       "    </tr>\n",
       "    <tr>\n",
       "      <td>1</td>\n",
       "      <td>2017-04-28 19:14:23</td>\n",
       "      <td>search</td>\n",
       "      <td>00019d</td>\n",
       "      <td>2017-09-15</td>\n",
       "      <td>2017-10-13</td>\n",
       "      <td>PAR</td>\n",
       "      <td>SSA</td>\n",
       "      <td>4</td>\n",
       "      <td>0</td>\n",
       "      <td>1</td>\n",
       "      <td>...</td>\n",
       "      <td>28.0</td>\n",
       "      <td>4</td>\n",
       "      <td>4.0</td>\n",
       "      <td>4.0</td>\n",
       "      <td>19</td>\n",
       "      <td>0</td>\n",
       "      <td>0</td>\n",
       "      <td>4</td>\n",
       "      <td>28</td>\n",
       "      <td>4</td>\n",
       "    </tr>\n",
       "  </tbody>\n",
       "</table>\n",
       "<p>2 rows × 22 columns</p>\n",
       "</div>"
      ],
      "text/plain": [
       "                   ts event_type user_id  date_from    date_to origin  \\\n",
       "0 2017-04-29 17:59:51     search  000069 2017-05-10 2017-05-26    FRA   \n",
       "1 2017-04-28 19:14:23     search  00019d 2017-09-15 2017-10-13    PAR   \n",
       "\n",
       "  destination  num_adults  num_children  max_count  ...  tr_duration  ts_dow  \\\n",
       "0         ALG           2             3          1  ...         16.0       5   \n",
       "1         SSA           4             0          1  ...         28.0       4   \n",
       "\n",
       "   from_dow  to_dow  ts_hour  origin_changed  destin_changed  total_passenger  \\\n",
       "0       2.0     4.0       17               0               0                5   \n",
       "1       4.0     4.0       19               0               0                4   \n",
       "\n",
       "   ts_day  ts_month  \n",
       "0      29         4  \n",
       "1      28         4  \n",
       "\n",
       "[2 rows x 22 columns]"
      ]
     },
     "execution_count": 280,
     "metadata": {},
     "output_type": "execute_result"
    }
   ],
   "source": [
    "df_event_sorted.head(2)"
   ]
  },
  {
   "cell_type": "code",
   "execution_count": 281,
   "metadata": {},
   "outputs": [
    {
     "data": {
      "text/plain": [
       "<matplotlib.axes._subplots.AxesSubplot at 0x1a286305c0>"
      ]
     },
     "execution_count": 281,
     "metadata": {},
     "output_type": "execute_result"
    },
    {
     "data": {
      "image/png": "[encoded data removed]",
      "text/plain": [
       "<Figure size 432x288 with 1 Axes>"
      ]
     },
     "metadata": {
      "needs_background": "light"
     },
     "output_type": "display_data"
    }
   ],
   "source": [
    "sns.countplot(df_event_sorted[df_event_sorted['event_type'] == 'book']['ts_day'])"
   ]
  },
  {
   "cell_type": "code",
   "execution_count": 282,
   "metadata": {},
   "outputs": [
    {
     "data": {
      "text/plain": [
       "<matplotlib.axes._subplots.AxesSubplot at 0x1a296b9e48>"
      ]
     },
     "execution_count": 282,
     "metadata": {},
     "output_type": "execute_result"
    },
    {
     "data": {
      "image/png": "[encoded data removed]",
      "text/plain": [
       "<Figure size 432x288 with 1 Axes>"
      ]
     },
     "metadata": {
      "needs_background": "light"
     },
     "output_type": "display_data"
    }
   ],
   "source": [
    "sns.countplot(df_event_sorted[df_event_sorted['event_type'] == 'book']['ts_month'])"
   ]
  },
  {
   "cell_type": "code",
   "execution_count": 283,
   "metadata": {},
   "outputs": [
    {
     "data": {
      "text/plain": [
       "<matplotlib.axes._subplots.AxesSubplot at 0x1a2970d6d8>"
      ]
     },
     "execution_count": 283,
     "metadata": {},
     "output_type": "execute_result"
    },
    {
     "data": {
      "image/png": "[encoded data removed]",
      "text/plain": [
       "<Figure size 432x288 with 1 Axes>"
      ]
     },
     "metadata": {
      "needs_background": "light"
     },
     "output_type": "display_data"
    }
   ],
   "source": [
    "sns.countplot(df_event_sorted[df_event_sorted['event_type'] == 'search']['ts_day'])"
   ]
  },
  {
   "cell_type": "code",
   "execution_count": 284,
   "metadata": {},
   "outputs": [
    {
     "data": {
      "text/plain": [
       "<matplotlib.axes._subplots.AxesSubplot at 0x1a278e5198>"
      ]
     },
     "execution_count": 284,
     "metadata": {},
     "output_type": "execute_result"
    },
    {
     "data": {
      "image/png": "[encoded data removed]",
      "text/plain": [
       "<Figure size 432x288 with 1 Axes>"
      ]
     },
     "metadata": {
      "needs_background": "light"
     },
     "output_type": "display_data"
    }
   ],
   "source": [
    "sns.countplot(df_event_sorted[df_event_sorted['event_type'] == 'search']['ts_month'])"
   ]
  },
  {
   "cell_type": "code",
   "execution_count": 285,
   "metadata": {},
   "outputs": [
    {
     "data": {
      "text/plain": [
       "(Timestamp('2017-05-02 04:06:34'), Timestamp('2017-04-18 04:41:09'))"
      ]
     },
     "execution_count": 285,
     "metadata": {},
     "output_type": "execute_result"
    }
   ],
   "source": [
    "df_event_sorted['ts'].max(), df_event_sorted['ts'].min()"
   ]
  },
  {
   "cell_type": "code",
   "execution_count": null,
   "metadata": {},
   "outputs": [],
   "source": []
  }
 ],
 "metadata": {
  "kernelspec": {
   "display_name": "Python 3",
   "language": "python",
   "name": "python3"
  },
  "language_info": {
   "codemirror_mode": {
    "name": "ipython",
    "version": 3
   },
   "file_extension": ".py",
   "mimetype": "text/x-python",
   "name": "python",
   "nbconvert_exporter": "python",
   "pygments_lexer": "ipython3",
   "version": "3.6.9"
  }
 },
 "nbformat": 4,
 "nbformat_minor": 4
}
